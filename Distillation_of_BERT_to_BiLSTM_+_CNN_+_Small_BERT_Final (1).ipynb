{
  "nbformat": 4,
  "nbformat_minor": 0,
  "metadata": {
    "colab": {
      "provenance": [],
      "gpuType": "T4"
    },
    "kernelspec": {
      "name": "python3",
      "display_name": "Python 3"
    },
    "language_info": {
      "name": "python"
    },
    "accelerator": "GPU",
    "widgets": {
      "application/vnd.jupyter.widget-state+json": {
        "cb424cdecbf04ea893db3d2313a9ada5": {
          "model_module": "@jupyter-widgets/controls",
          "model_name": "HBoxModel",
          "model_module_version": "1.5.0",
          "state": {
            "_dom_classes": [],
            "_model_module": "@jupyter-widgets/controls",
            "_model_module_version": "1.5.0",
            "_model_name": "HBoxModel",
            "_view_count": null,
            "_view_module": "@jupyter-widgets/controls",
            "_view_module_version": "1.5.0",
            "_view_name": "HBoxView",
            "box_style": "",
            "children": [
              "IPY_MODEL_c8c64f9b1ce54606a9e42d4df0c5502d",
              "IPY_MODEL_a7986112e21247e69d0c885b95d7f705",
              "IPY_MODEL_e4517430e47e4d13a3fa07c4df793d59"
            ],
            "layout": "IPY_MODEL_93a62fc28a3a41a7b60a761c845452f0"
          }
        },
        "c8c64f9b1ce54606a9e42d4df0c5502d": {
          "model_module": "@jupyter-widgets/controls",
          "model_name": "HTMLModel",
          "model_module_version": "1.5.0",
          "state": {
            "_dom_classes": [],
            "_model_module": "@jupyter-widgets/controls",
            "_model_module_version": "1.5.0",
            "_model_name": "HTMLModel",
            "_view_count": null,
            "_view_module": "@jupyter-widgets/controls",
            "_view_module_version": "1.5.0",
            "_view_name": "HTMLView",
            "description": "",
            "description_tooltip": null,
            "layout": "IPY_MODEL_387d9266a54d4fa59b5b02a4433bb0a3",
            "placeholder": "​",
            "style": "IPY_MODEL_0928d2a2b54e4cf08dd5dc23ba9c6437",
            "value": "Downloading (…)lve/main/config.json: 100%"
          }
        },
        "a7986112e21247e69d0c885b95d7f705": {
          "model_module": "@jupyter-widgets/controls",
          "model_name": "FloatProgressModel",
          "model_module_version": "1.5.0",
          "state": {
            "_dom_classes": [],
            "_model_module": "@jupyter-widgets/controls",
            "_model_module_version": "1.5.0",
            "_model_name": "FloatProgressModel",
            "_view_count": null,
            "_view_module": "@jupyter-widgets/controls",
            "_view_module_version": "1.5.0",
            "_view_name": "ProgressView",
            "bar_style": "success",
            "description": "",
            "description_tooltip": null,
            "layout": "IPY_MODEL_bcc50c2f988648da8cb0e9eb83944545",
            "max": 881,
            "min": 0,
            "orientation": "horizontal",
            "style": "IPY_MODEL_6b75615989a249fb939dbd1600ffdc64",
            "value": 881
          }
        },
        "e4517430e47e4d13a3fa07c4df793d59": {
          "model_module": "@jupyter-widgets/controls",
          "model_name": "HTMLModel",
          "model_module_version": "1.5.0",
          "state": {
            "_dom_classes": [],
            "_model_module": "@jupyter-widgets/controls",
            "_model_module_version": "1.5.0",
            "_model_name": "HTMLModel",
            "_view_count": null,
            "_view_module": "@jupyter-widgets/controls",
            "_view_module_version": "1.5.0",
            "_view_name": "HTMLView",
            "description": "",
            "description_tooltip": null,
            "layout": "IPY_MODEL_fd288c31a5e64a51afcce406e5e8baf1",
            "placeholder": "​",
            "style": "IPY_MODEL_1d5ae23c155d4cde9e93d68ce5cc0523",
            "value": " 881/881 [00:00&lt;00:00, 46.1kB/s]"
          }
        },
        "93a62fc28a3a41a7b60a761c845452f0": {
          "model_module": "@jupyter-widgets/base",
          "model_name": "LayoutModel",
          "model_module_version": "1.2.0",
          "state": {
            "_model_module": "@jupyter-widgets/base",
            "_model_module_version": "1.2.0",
            "_model_name": "LayoutModel",
            "_view_count": null,
            "_view_module": "@jupyter-widgets/base",
            "_view_module_version": "1.2.0",
            "_view_name": "LayoutView",
            "align_content": null,
            "align_items": null,
            "align_self": null,
            "border": null,
            "bottom": null,
            "display": null,
            "flex": null,
            "flex_flow": null,
            "grid_area": null,
            "grid_auto_columns": null,
            "grid_auto_flow": null,
            "grid_auto_rows": null,
            "grid_column": null,
            "grid_gap": null,
            "grid_row": null,
            "grid_template_areas": null,
            "grid_template_columns": null,
            "grid_template_rows": null,
            "height": null,
            "justify_content": null,
            "justify_items": null,
            "left": null,
            "margin": null,
            "max_height": null,
            "max_width": null,
            "min_height": null,
            "min_width": null,
            "object_fit": null,
            "object_position": null,
            "order": null,
            "overflow": null,
            "overflow_x": null,
            "overflow_y": null,
            "padding": null,
            "right": null,
            "top": null,
            "visibility": null,
            "width": null
          }
        },
        "387d9266a54d4fa59b5b02a4433bb0a3": {
          "model_module": "@jupyter-widgets/base",
          "model_name": "LayoutModel",
          "model_module_version": "1.2.0",
          "state": {
            "_model_module": "@jupyter-widgets/base",
            "_model_module_version": "1.2.0",
            "_model_name": "LayoutModel",
            "_view_count": null,
            "_view_module": "@jupyter-widgets/base",
            "_view_module_version": "1.2.0",
            "_view_name": "LayoutView",
            "align_content": null,
            "align_items": null,
            "align_self": null,
            "border": null,
            "bottom": null,
            "display": null,
            "flex": null,
            "flex_flow": null,
            "grid_area": null,
            "grid_auto_columns": null,
            "grid_auto_flow": null,
            "grid_auto_rows": null,
            "grid_column": null,
            "grid_gap": null,
            "grid_row": null,
            "grid_template_areas": null,
            "grid_template_columns": null,
            "grid_template_rows": null,
            "height": null,
            "justify_content": null,
            "justify_items": null,
            "left": null,
            "margin": null,
            "max_height": null,
            "max_width": null,
            "min_height": null,
            "min_width": null,
            "object_fit": null,
            "object_position": null,
            "order": null,
            "overflow": null,
            "overflow_x": null,
            "overflow_y": null,
            "padding": null,
            "right": null,
            "top": null,
            "visibility": null,
            "width": null
          }
        },
        "0928d2a2b54e4cf08dd5dc23ba9c6437": {
          "model_module": "@jupyter-widgets/controls",
          "model_name": "DescriptionStyleModel",
          "model_module_version": "1.5.0",
          "state": {
            "_model_module": "@jupyter-widgets/controls",
            "_model_module_version": "1.5.0",
            "_model_name": "DescriptionStyleModel",
            "_view_count": null,
            "_view_module": "@jupyter-widgets/base",
            "_view_module_version": "1.2.0",
            "_view_name": "StyleView",
            "description_width": ""
          }
        },
        "bcc50c2f988648da8cb0e9eb83944545": {
          "model_module": "@jupyter-widgets/base",
          "model_name": "LayoutModel",
          "model_module_version": "1.2.0",
          "state": {
            "_model_module": "@jupyter-widgets/base",
            "_model_module_version": "1.2.0",
            "_model_name": "LayoutModel",
            "_view_count": null,
            "_view_module": "@jupyter-widgets/base",
            "_view_module_version": "1.2.0",
            "_view_name": "LayoutView",
            "align_content": null,
            "align_items": null,
            "align_self": null,
            "border": null,
            "bottom": null,
            "display": null,
            "flex": null,
            "flex_flow": null,
            "grid_area": null,
            "grid_auto_columns": null,
            "grid_auto_flow": null,
            "grid_auto_rows": null,
            "grid_column": null,
            "grid_gap": null,
            "grid_row": null,
            "grid_template_areas": null,
            "grid_template_columns": null,
            "grid_template_rows": null,
            "height": null,
            "justify_content": null,
            "justify_items": null,
            "left": null,
            "margin": null,
            "max_height": null,
            "max_width": null,
            "min_height": null,
            "min_width": null,
            "object_fit": null,
            "object_position": null,
            "order": null,
            "overflow": null,
            "overflow_x": null,
            "overflow_y": null,
            "padding": null,
            "right": null,
            "top": null,
            "visibility": null,
            "width": null
          }
        },
        "6b75615989a249fb939dbd1600ffdc64": {
          "model_module": "@jupyter-widgets/controls",
          "model_name": "ProgressStyleModel",
          "model_module_version": "1.5.0",
          "state": {
            "_model_module": "@jupyter-widgets/controls",
            "_model_module_version": "1.5.0",
            "_model_name": "ProgressStyleModel",
            "_view_count": null,
            "_view_module": "@jupyter-widgets/base",
            "_view_module_version": "1.2.0",
            "_view_name": "StyleView",
            "bar_color": null,
            "description_width": ""
          }
        },
        "fd288c31a5e64a51afcce406e5e8baf1": {
          "model_module": "@jupyter-widgets/base",
          "model_name": "LayoutModel",
          "model_module_version": "1.2.0",
          "state": {
            "_model_module": "@jupyter-widgets/base",
            "_model_module_version": "1.2.0",
            "_model_name": "LayoutModel",
            "_view_count": null,
            "_view_module": "@jupyter-widgets/base",
            "_view_module_version": "1.2.0",
            "_view_name": "LayoutView",
            "align_content": null,
            "align_items": null,
            "align_self": null,
            "border": null,
            "bottom": null,
            "display": null,
            "flex": null,
            "flex_flow": null,
            "grid_area": null,
            "grid_auto_columns": null,
            "grid_auto_flow": null,
            "grid_auto_rows": null,
            "grid_column": null,
            "grid_gap": null,
            "grid_row": null,
            "grid_template_areas": null,
            "grid_template_columns": null,
            "grid_template_rows": null,
            "height": null,
            "justify_content": null,
            "justify_items": null,
            "left": null,
            "margin": null,
            "max_height": null,
            "max_width": null,
            "min_height": null,
            "min_width": null,
            "object_fit": null,
            "object_position": null,
            "order": null,
            "overflow": null,
            "overflow_x": null,
            "overflow_y": null,
            "padding": null,
            "right": null,
            "top": null,
            "visibility": null,
            "width": null
          }
        },
        "1d5ae23c155d4cde9e93d68ce5cc0523": {
          "model_module": "@jupyter-widgets/controls",
          "model_name": "DescriptionStyleModel",
          "model_module_version": "1.5.0",
          "state": {
            "_model_module": "@jupyter-widgets/controls",
            "_model_module_version": "1.5.0",
            "_model_name": "DescriptionStyleModel",
            "_view_count": null,
            "_view_module": "@jupyter-widgets/base",
            "_view_module_version": "1.2.0",
            "_view_name": "StyleView",
            "description_width": ""
          }
        },
        "6594009ea6ab40e19bfe59152aa408ab": {
          "model_module": "@jupyter-widgets/controls",
          "model_name": "HBoxModel",
          "model_module_version": "1.5.0",
          "state": {
            "_dom_classes": [],
            "_model_module": "@jupyter-widgets/controls",
            "_model_module_version": "1.5.0",
            "_model_name": "HBoxModel",
            "_view_count": null,
            "_view_module": "@jupyter-widgets/controls",
            "_view_module_version": "1.5.0",
            "_view_name": "HBoxView",
            "box_style": "",
            "children": [
              "IPY_MODEL_1b4bcda9348e4c7bade6affe6180c2da",
              "IPY_MODEL_3a1ab0e9a0254c50ac2c3578888c714d",
              "IPY_MODEL_77a1b1ee03544f2ab7886509e01074d1"
            ],
            "layout": "IPY_MODEL_489a4aa8daa941159a9b2f6c664c8e4e"
          }
        },
        "1b4bcda9348e4c7bade6affe6180c2da": {
          "model_module": "@jupyter-widgets/controls",
          "model_name": "HTMLModel",
          "model_module_version": "1.5.0",
          "state": {
            "_dom_classes": [],
            "_model_module": "@jupyter-widgets/controls",
            "_model_module_version": "1.5.0",
            "_model_name": "HTMLModel",
            "_view_count": null,
            "_view_module": "@jupyter-widgets/controls",
            "_view_module_version": "1.5.0",
            "_view_name": "HTMLView",
            "description": "",
            "description_tooltip": null,
            "layout": "IPY_MODEL_a7a894c56bec4d409a0db7a97e1f53c4",
            "placeholder": "​",
            "style": "IPY_MODEL_c4fafe71f1754cde87a47f8e26cc2617",
            "value": "Downloading (…)okenizer_config.json: 100%"
          }
        },
        "3a1ab0e9a0254c50ac2c3578888c714d": {
          "model_module": "@jupyter-widgets/controls",
          "model_name": "FloatProgressModel",
          "model_module_version": "1.5.0",
          "state": {
            "_dom_classes": [],
            "_model_module": "@jupyter-widgets/controls",
            "_model_module_version": "1.5.0",
            "_model_name": "FloatProgressModel",
            "_view_count": null,
            "_view_module": "@jupyter-widgets/controls",
            "_view_module_version": "1.5.0",
            "_view_name": "ProgressView",
            "bar_style": "success",
            "description": "",
            "description_tooltip": null,
            "layout": "IPY_MODEL_96468deb0370458ca9f0990bff261601",
            "max": 314,
            "min": 0,
            "orientation": "horizontal",
            "style": "IPY_MODEL_2c6fc77043fb4584ac9ecc73b75184a0",
            "value": 314
          }
        },
        "77a1b1ee03544f2ab7886509e01074d1": {
          "model_module": "@jupyter-widgets/controls",
          "model_name": "HTMLModel",
          "model_module_version": "1.5.0",
          "state": {
            "_dom_classes": [],
            "_model_module": "@jupyter-widgets/controls",
            "_model_module_version": "1.5.0",
            "_model_name": "HTMLModel",
            "_view_count": null,
            "_view_module": "@jupyter-widgets/controls",
            "_view_module_version": "1.5.0",
            "_view_name": "HTMLView",
            "description": "",
            "description_tooltip": null,
            "layout": "IPY_MODEL_5f3e15d8e1f64ae1bc181a289ea57e14",
            "placeholder": "​",
            "style": "IPY_MODEL_dc3c427e62df4561a004426758b09014",
            "value": " 314/314 [00:00&lt;00:00, 22.0kB/s]"
          }
        },
        "489a4aa8daa941159a9b2f6c664c8e4e": {
          "model_module": "@jupyter-widgets/base",
          "model_name": "LayoutModel",
          "model_module_version": "1.2.0",
          "state": {
            "_model_module": "@jupyter-widgets/base",
            "_model_module_version": "1.2.0",
            "_model_name": "LayoutModel",
            "_view_count": null,
            "_view_module": "@jupyter-widgets/base",
            "_view_module_version": "1.2.0",
            "_view_name": "LayoutView",
            "align_content": null,
            "align_items": null,
            "align_self": null,
            "border": null,
            "bottom": null,
            "display": null,
            "flex": null,
            "flex_flow": null,
            "grid_area": null,
            "grid_auto_columns": null,
            "grid_auto_flow": null,
            "grid_auto_rows": null,
            "grid_column": null,
            "grid_gap": null,
            "grid_row": null,
            "grid_template_areas": null,
            "grid_template_columns": null,
            "grid_template_rows": null,
            "height": null,
            "justify_content": null,
            "justify_items": null,
            "left": null,
            "margin": null,
            "max_height": null,
            "max_width": null,
            "min_height": null,
            "min_width": null,
            "object_fit": null,
            "object_position": null,
            "order": null,
            "overflow": null,
            "overflow_x": null,
            "overflow_y": null,
            "padding": null,
            "right": null,
            "top": null,
            "visibility": null,
            "width": null
          }
        },
        "a7a894c56bec4d409a0db7a97e1f53c4": {
          "model_module": "@jupyter-widgets/base",
          "model_name": "LayoutModel",
          "model_module_version": "1.2.0",
          "state": {
            "_model_module": "@jupyter-widgets/base",
            "_model_module_version": "1.2.0",
            "_model_name": "LayoutModel",
            "_view_count": null,
            "_view_module": "@jupyter-widgets/base",
            "_view_module_version": "1.2.0",
            "_view_name": "LayoutView",
            "align_content": null,
            "align_items": null,
            "align_self": null,
            "border": null,
            "bottom": null,
            "display": null,
            "flex": null,
            "flex_flow": null,
            "grid_area": null,
            "grid_auto_columns": null,
            "grid_auto_flow": null,
            "grid_auto_rows": null,
            "grid_column": null,
            "grid_gap": null,
            "grid_row": null,
            "grid_template_areas": null,
            "grid_template_columns": null,
            "grid_template_rows": null,
            "height": null,
            "justify_content": null,
            "justify_items": null,
            "left": null,
            "margin": null,
            "max_height": null,
            "max_width": null,
            "min_height": null,
            "min_width": null,
            "object_fit": null,
            "object_position": null,
            "order": null,
            "overflow": null,
            "overflow_x": null,
            "overflow_y": null,
            "padding": null,
            "right": null,
            "top": null,
            "visibility": null,
            "width": null
          }
        },
        "c4fafe71f1754cde87a47f8e26cc2617": {
          "model_module": "@jupyter-widgets/controls",
          "model_name": "DescriptionStyleModel",
          "model_module_version": "1.5.0",
          "state": {
            "_model_module": "@jupyter-widgets/controls",
            "_model_module_version": "1.5.0",
            "_model_name": "DescriptionStyleModel",
            "_view_count": null,
            "_view_module": "@jupyter-widgets/base",
            "_view_module_version": "1.2.0",
            "_view_name": "StyleView",
            "description_width": ""
          }
        },
        "96468deb0370458ca9f0990bff261601": {
          "model_module": "@jupyter-widgets/base",
          "model_name": "LayoutModel",
          "model_module_version": "1.2.0",
          "state": {
            "_model_module": "@jupyter-widgets/base",
            "_model_module_version": "1.2.0",
            "_model_name": "LayoutModel",
            "_view_count": null,
            "_view_module": "@jupyter-widgets/base",
            "_view_module_version": "1.2.0",
            "_view_name": "LayoutView",
            "align_content": null,
            "align_items": null,
            "align_self": null,
            "border": null,
            "bottom": null,
            "display": null,
            "flex": null,
            "flex_flow": null,
            "grid_area": null,
            "grid_auto_columns": null,
            "grid_auto_flow": null,
            "grid_auto_rows": null,
            "grid_column": null,
            "grid_gap": null,
            "grid_row": null,
            "grid_template_areas": null,
            "grid_template_columns": null,
            "grid_template_rows": null,
            "height": null,
            "justify_content": null,
            "justify_items": null,
            "left": null,
            "margin": null,
            "max_height": null,
            "max_width": null,
            "min_height": null,
            "min_width": null,
            "object_fit": null,
            "object_position": null,
            "order": null,
            "overflow": null,
            "overflow_x": null,
            "overflow_y": null,
            "padding": null,
            "right": null,
            "top": null,
            "visibility": null,
            "width": null
          }
        },
        "2c6fc77043fb4584ac9ecc73b75184a0": {
          "model_module": "@jupyter-widgets/controls",
          "model_name": "ProgressStyleModel",
          "model_module_version": "1.5.0",
          "state": {
            "_model_module": "@jupyter-widgets/controls",
            "_model_module_version": "1.5.0",
            "_model_name": "ProgressStyleModel",
            "_view_count": null,
            "_view_module": "@jupyter-widgets/base",
            "_view_module_version": "1.2.0",
            "_view_name": "StyleView",
            "bar_color": null,
            "description_width": ""
          }
        },
        "5f3e15d8e1f64ae1bc181a289ea57e14": {
          "model_module": "@jupyter-widgets/base",
          "model_name": "LayoutModel",
          "model_module_version": "1.2.0",
          "state": {
            "_model_module": "@jupyter-widgets/base",
            "_model_module_version": "1.2.0",
            "_model_name": "LayoutModel",
            "_view_count": null,
            "_view_module": "@jupyter-widgets/base",
            "_view_module_version": "1.2.0",
            "_view_name": "LayoutView",
            "align_content": null,
            "align_items": null,
            "align_self": null,
            "border": null,
            "bottom": null,
            "display": null,
            "flex": null,
            "flex_flow": null,
            "grid_area": null,
            "grid_auto_columns": null,
            "grid_auto_flow": null,
            "grid_auto_rows": null,
            "grid_column": null,
            "grid_gap": null,
            "grid_row": null,
            "grid_template_areas": null,
            "grid_template_columns": null,
            "grid_template_rows": null,
            "height": null,
            "justify_content": null,
            "justify_items": null,
            "left": null,
            "margin": null,
            "max_height": null,
            "max_width": null,
            "min_height": null,
            "min_width": null,
            "object_fit": null,
            "object_position": null,
            "order": null,
            "overflow": null,
            "overflow_x": null,
            "overflow_y": null,
            "padding": null,
            "right": null,
            "top": null,
            "visibility": null,
            "width": null
          }
        },
        "dc3c427e62df4561a004426758b09014": {
          "model_module": "@jupyter-widgets/controls",
          "model_name": "DescriptionStyleModel",
          "model_module_version": "1.5.0",
          "state": {
            "_model_module": "@jupyter-widgets/controls",
            "_model_module_version": "1.5.0",
            "_model_name": "DescriptionStyleModel",
            "_view_count": null,
            "_view_module": "@jupyter-widgets/base",
            "_view_module_version": "1.2.0",
            "_view_name": "StyleView",
            "description_width": ""
          }
        },
        "c7f6d46a02fa451ca6b6669960673156": {
          "model_module": "@jupyter-widgets/controls",
          "model_name": "HBoxModel",
          "model_module_version": "1.5.0",
          "state": {
            "_dom_classes": [],
            "_model_module": "@jupyter-widgets/controls",
            "_model_module_version": "1.5.0",
            "_model_name": "HBoxModel",
            "_view_count": null,
            "_view_module": "@jupyter-widgets/controls",
            "_view_module_version": "1.5.0",
            "_view_name": "HBoxView",
            "box_style": "",
            "children": [
              "IPY_MODEL_28ea4a12316f46c5b0590b69746164e8",
              "IPY_MODEL_06c55fe1a2404d51bc4df18f2ba1d047",
              "IPY_MODEL_2a7c2cd590db4179967424eb88d9967c"
            ],
            "layout": "IPY_MODEL_8404b011a0ca4b6cb5757bb4e36e6445"
          }
        },
        "28ea4a12316f46c5b0590b69746164e8": {
          "model_module": "@jupyter-widgets/controls",
          "model_name": "HTMLModel",
          "model_module_version": "1.5.0",
          "state": {
            "_dom_classes": [],
            "_model_module": "@jupyter-widgets/controls",
            "_model_module_version": "1.5.0",
            "_model_name": "HTMLModel",
            "_view_count": null,
            "_view_module": "@jupyter-widgets/controls",
            "_view_module_version": "1.5.0",
            "_view_name": "HTMLView",
            "description": "",
            "description_tooltip": null,
            "layout": "IPY_MODEL_34ad19460e5143e9b8ccd7f518798419",
            "placeholder": "​",
            "style": "IPY_MODEL_8f75ffbca1ba4a9c886a8922c81ca5fc",
            "value": "Downloading (…)solve/main/vocab.txt: 100%"
          }
        },
        "06c55fe1a2404d51bc4df18f2ba1d047": {
          "model_module": "@jupyter-widgets/controls",
          "model_name": "FloatProgressModel",
          "model_module_version": "1.5.0",
          "state": {
            "_dom_classes": [],
            "_model_module": "@jupyter-widgets/controls",
            "_model_module_version": "1.5.0",
            "_model_name": "FloatProgressModel",
            "_view_count": null,
            "_view_module": "@jupyter-widgets/controls",
            "_view_module_version": "1.5.0",
            "_view_name": "ProgressView",
            "bar_style": "success",
            "description": "",
            "description_tooltip": null,
            "layout": "IPY_MODEL_6a51bc1584c040afbf74bd29e887abe9",
            "max": 231508,
            "min": 0,
            "orientation": "horizontal",
            "style": "IPY_MODEL_f3b0899444744c97a0d7bc57fdc5b11b",
            "value": 231508
          }
        },
        "2a7c2cd590db4179967424eb88d9967c": {
          "model_module": "@jupyter-widgets/controls",
          "model_name": "HTMLModel",
          "model_module_version": "1.5.0",
          "state": {
            "_dom_classes": [],
            "_model_module": "@jupyter-widgets/controls",
            "_model_module_version": "1.5.0",
            "_model_name": "HTMLModel",
            "_view_count": null,
            "_view_module": "@jupyter-widgets/controls",
            "_view_module_version": "1.5.0",
            "_view_name": "HTMLView",
            "description": "",
            "description_tooltip": null,
            "layout": "IPY_MODEL_5e369ab423714f96a66bb11e81eb5144",
            "placeholder": "​",
            "style": "IPY_MODEL_a746cf4f50254c01bdbb1b6dd12afb55",
            "value": " 232k/232k [00:00&lt;00:00, 4.49MB/s]"
          }
        },
        "8404b011a0ca4b6cb5757bb4e36e6445": {
          "model_module": "@jupyter-widgets/base",
          "model_name": "LayoutModel",
          "model_module_version": "1.2.0",
          "state": {
            "_model_module": "@jupyter-widgets/base",
            "_model_module_version": "1.2.0",
            "_model_name": "LayoutModel",
            "_view_count": null,
            "_view_module": "@jupyter-widgets/base",
            "_view_module_version": "1.2.0",
            "_view_name": "LayoutView",
            "align_content": null,
            "align_items": null,
            "align_self": null,
            "border": null,
            "bottom": null,
            "display": null,
            "flex": null,
            "flex_flow": null,
            "grid_area": null,
            "grid_auto_columns": null,
            "grid_auto_flow": null,
            "grid_auto_rows": null,
            "grid_column": null,
            "grid_gap": null,
            "grid_row": null,
            "grid_template_areas": null,
            "grid_template_columns": null,
            "grid_template_rows": null,
            "height": null,
            "justify_content": null,
            "justify_items": null,
            "left": null,
            "margin": null,
            "max_height": null,
            "max_width": null,
            "min_height": null,
            "min_width": null,
            "object_fit": null,
            "object_position": null,
            "order": null,
            "overflow": null,
            "overflow_x": null,
            "overflow_y": null,
            "padding": null,
            "right": null,
            "top": null,
            "visibility": null,
            "width": null
          }
        },
        "34ad19460e5143e9b8ccd7f518798419": {
          "model_module": "@jupyter-widgets/base",
          "model_name": "LayoutModel",
          "model_module_version": "1.2.0",
          "state": {
            "_model_module": "@jupyter-widgets/base",
            "_model_module_version": "1.2.0",
            "_model_name": "LayoutModel",
            "_view_count": null,
            "_view_module": "@jupyter-widgets/base",
            "_view_module_version": "1.2.0",
            "_view_name": "LayoutView",
            "align_content": null,
            "align_items": null,
            "align_self": null,
            "border": null,
            "bottom": null,
            "display": null,
            "flex": null,
            "flex_flow": null,
            "grid_area": null,
            "grid_auto_columns": null,
            "grid_auto_flow": null,
            "grid_auto_rows": null,
            "grid_column": null,
            "grid_gap": null,
            "grid_row": null,
            "grid_template_areas": null,
            "grid_template_columns": null,
            "grid_template_rows": null,
            "height": null,
            "justify_content": null,
            "justify_items": null,
            "left": null,
            "margin": null,
            "max_height": null,
            "max_width": null,
            "min_height": null,
            "min_width": null,
            "object_fit": null,
            "object_position": null,
            "order": null,
            "overflow": null,
            "overflow_x": null,
            "overflow_y": null,
            "padding": null,
            "right": null,
            "top": null,
            "visibility": null,
            "width": null
          }
        },
        "8f75ffbca1ba4a9c886a8922c81ca5fc": {
          "model_module": "@jupyter-widgets/controls",
          "model_name": "DescriptionStyleModel",
          "model_module_version": "1.5.0",
          "state": {
            "_model_module": "@jupyter-widgets/controls",
            "_model_module_version": "1.5.0",
            "_model_name": "DescriptionStyleModel",
            "_view_count": null,
            "_view_module": "@jupyter-widgets/base",
            "_view_module_version": "1.2.0",
            "_view_name": "StyleView",
            "description_width": ""
          }
        },
        "6a51bc1584c040afbf74bd29e887abe9": {
          "model_module": "@jupyter-widgets/base",
          "model_name": "LayoutModel",
          "model_module_version": "1.2.0",
          "state": {
            "_model_module": "@jupyter-widgets/base",
            "_model_module_version": "1.2.0",
            "_model_name": "LayoutModel",
            "_view_count": null,
            "_view_module": "@jupyter-widgets/base",
            "_view_module_version": "1.2.0",
            "_view_name": "LayoutView",
            "align_content": null,
            "align_items": null,
            "align_self": null,
            "border": null,
            "bottom": null,
            "display": null,
            "flex": null,
            "flex_flow": null,
            "grid_area": null,
            "grid_auto_columns": null,
            "grid_auto_flow": null,
            "grid_auto_rows": null,
            "grid_column": null,
            "grid_gap": null,
            "grid_row": null,
            "grid_template_areas": null,
            "grid_template_columns": null,
            "grid_template_rows": null,
            "height": null,
            "justify_content": null,
            "justify_items": null,
            "left": null,
            "margin": null,
            "max_height": null,
            "max_width": null,
            "min_height": null,
            "min_width": null,
            "object_fit": null,
            "object_position": null,
            "order": null,
            "overflow": null,
            "overflow_x": null,
            "overflow_y": null,
            "padding": null,
            "right": null,
            "top": null,
            "visibility": null,
            "width": null
          }
        },
        "f3b0899444744c97a0d7bc57fdc5b11b": {
          "model_module": "@jupyter-widgets/controls",
          "model_name": "ProgressStyleModel",
          "model_module_version": "1.5.0",
          "state": {
            "_model_module": "@jupyter-widgets/controls",
            "_model_module_version": "1.5.0",
            "_model_name": "ProgressStyleModel",
            "_view_count": null,
            "_view_module": "@jupyter-widgets/base",
            "_view_module_version": "1.2.0",
            "_view_name": "StyleView",
            "bar_color": null,
            "description_width": ""
          }
        },
        "5e369ab423714f96a66bb11e81eb5144": {
          "model_module": "@jupyter-widgets/base",
          "model_name": "LayoutModel",
          "model_module_version": "1.2.0",
          "state": {
            "_model_module": "@jupyter-widgets/base",
            "_model_module_version": "1.2.0",
            "_model_name": "LayoutModel",
            "_view_count": null,
            "_view_module": "@jupyter-widgets/base",
            "_view_module_version": "1.2.0",
            "_view_name": "LayoutView",
            "align_content": null,
            "align_items": null,
            "align_self": null,
            "border": null,
            "bottom": null,
            "display": null,
            "flex": null,
            "flex_flow": null,
            "grid_area": null,
            "grid_auto_columns": null,
            "grid_auto_flow": null,
            "grid_auto_rows": null,
            "grid_column": null,
            "grid_gap": null,
            "grid_row": null,
            "grid_template_areas": null,
            "grid_template_columns": null,
            "grid_template_rows": null,
            "height": null,
            "justify_content": null,
            "justify_items": null,
            "left": null,
            "margin": null,
            "max_height": null,
            "max_width": null,
            "min_height": null,
            "min_width": null,
            "object_fit": null,
            "object_position": null,
            "order": null,
            "overflow": null,
            "overflow_x": null,
            "overflow_y": null,
            "padding": null,
            "right": null,
            "top": null,
            "visibility": null,
            "width": null
          }
        },
        "a746cf4f50254c01bdbb1b6dd12afb55": {
          "model_module": "@jupyter-widgets/controls",
          "model_name": "DescriptionStyleModel",
          "model_module_version": "1.5.0",
          "state": {
            "_model_module": "@jupyter-widgets/controls",
            "_model_module_version": "1.5.0",
            "_model_name": "DescriptionStyleModel",
            "_view_count": null,
            "_view_module": "@jupyter-widgets/base",
            "_view_module_version": "1.2.0",
            "_view_name": "StyleView",
            "description_width": ""
          }
        },
        "b252175314f7407885ecf2f1e877d220": {
          "model_module": "@jupyter-widgets/controls",
          "model_name": "HBoxModel",
          "model_module_version": "1.5.0",
          "state": {
            "_dom_classes": [],
            "_model_module": "@jupyter-widgets/controls",
            "_model_module_version": "1.5.0",
            "_model_name": "HBoxModel",
            "_view_count": null,
            "_view_module": "@jupyter-widgets/controls",
            "_view_module_version": "1.5.0",
            "_view_name": "HBoxView",
            "box_style": "",
            "children": [
              "IPY_MODEL_58ded46bf9e54c7a96346b7e3721e255",
              "IPY_MODEL_ffef626fc4424afa82d51289a488e771",
              "IPY_MODEL_d3a94d16d796481ebf90efdb63653f2e"
            ],
            "layout": "IPY_MODEL_af6546d5f56e4b8ba374bc7a4d0fdff5"
          }
        },
        "58ded46bf9e54c7a96346b7e3721e255": {
          "model_module": "@jupyter-widgets/controls",
          "model_name": "HTMLModel",
          "model_module_version": "1.5.0",
          "state": {
            "_dom_classes": [],
            "_model_module": "@jupyter-widgets/controls",
            "_model_module_version": "1.5.0",
            "_model_name": "HTMLModel",
            "_view_count": null,
            "_view_module": "@jupyter-widgets/controls",
            "_view_module_version": "1.5.0",
            "_view_name": "HTMLView",
            "description": "",
            "description_tooltip": null,
            "layout": "IPY_MODEL_6d1bdf7bfbdf4ef4aad5ce44467bfe05",
            "placeholder": "​",
            "style": "IPY_MODEL_58f1976c90104f37bca33a409fdcfbb3",
            "value": "Downloading (…)/main/tokenizer.json: 100%"
          }
        },
        "ffef626fc4424afa82d51289a488e771": {
          "model_module": "@jupyter-widgets/controls",
          "model_name": "FloatProgressModel",
          "model_module_version": "1.5.0",
          "state": {
            "_dom_classes": [],
            "_model_module": "@jupyter-widgets/controls",
            "_model_module_version": "1.5.0",
            "_model_name": "FloatProgressModel",
            "_view_count": null,
            "_view_module": "@jupyter-widgets/controls",
            "_view_module_version": "1.5.0",
            "_view_name": "ProgressView",
            "bar_style": "success",
            "description": "",
            "description_tooltip": null,
            "layout": "IPY_MODEL_c4477c478cf8408c8f2049eda0daebaa",
            "max": 711661,
            "min": 0,
            "orientation": "horizontal",
            "style": "IPY_MODEL_a66e0f277cac4193ae420cd556f748ed",
            "value": 711661
          }
        },
        "d3a94d16d796481ebf90efdb63653f2e": {
          "model_module": "@jupyter-widgets/controls",
          "model_name": "HTMLModel",
          "model_module_version": "1.5.0",
          "state": {
            "_dom_classes": [],
            "_model_module": "@jupyter-widgets/controls",
            "_model_module_version": "1.5.0",
            "_model_name": "HTMLModel",
            "_view_count": null,
            "_view_module": "@jupyter-widgets/controls",
            "_view_module_version": "1.5.0",
            "_view_name": "HTMLView",
            "description": "",
            "description_tooltip": null,
            "layout": "IPY_MODEL_33ef85932acf4a4e99c47b5a4db084d6",
            "placeholder": "​",
            "style": "IPY_MODEL_e62ff96e4e564a03b753f6aa2fe99251",
            "value": " 712k/712k [00:00&lt;00:00, 10.2MB/s]"
          }
        },
        "af6546d5f56e4b8ba374bc7a4d0fdff5": {
          "model_module": "@jupyter-widgets/base",
          "model_name": "LayoutModel",
          "model_module_version": "1.2.0",
          "state": {
            "_model_module": "@jupyter-widgets/base",
            "_model_module_version": "1.2.0",
            "_model_name": "LayoutModel",
            "_view_count": null,
            "_view_module": "@jupyter-widgets/base",
            "_view_module_version": "1.2.0",
            "_view_name": "LayoutView",
            "align_content": null,
            "align_items": null,
            "align_self": null,
            "border": null,
            "bottom": null,
            "display": null,
            "flex": null,
            "flex_flow": null,
            "grid_area": null,
            "grid_auto_columns": null,
            "grid_auto_flow": null,
            "grid_auto_rows": null,
            "grid_column": null,
            "grid_gap": null,
            "grid_row": null,
            "grid_template_areas": null,
            "grid_template_columns": null,
            "grid_template_rows": null,
            "height": null,
            "justify_content": null,
            "justify_items": null,
            "left": null,
            "margin": null,
            "max_height": null,
            "max_width": null,
            "min_height": null,
            "min_width": null,
            "object_fit": null,
            "object_position": null,
            "order": null,
            "overflow": null,
            "overflow_x": null,
            "overflow_y": null,
            "padding": null,
            "right": null,
            "top": null,
            "visibility": null,
            "width": null
          }
        },
        "6d1bdf7bfbdf4ef4aad5ce44467bfe05": {
          "model_module": "@jupyter-widgets/base",
          "model_name": "LayoutModel",
          "model_module_version": "1.2.0",
          "state": {
            "_model_module": "@jupyter-widgets/base",
            "_model_module_version": "1.2.0",
            "_model_name": "LayoutModel",
            "_view_count": null,
            "_view_module": "@jupyter-widgets/base",
            "_view_module_version": "1.2.0",
            "_view_name": "LayoutView",
            "align_content": null,
            "align_items": null,
            "align_self": null,
            "border": null,
            "bottom": null,
            "display": null,
            "flex": null,
            "flex_flow": null,
            "grid_area": null,
            "grid_auto_columns": null,
            "grid_auto_flow": null,
            "grid_auto_rows": null,
            "grid_column": null,
            "grid_gap": null,
            "grid_row": null,
            "grid_template_areas": null,
            "grid_template_columns": null,
            "grid_template_rows": null,
            "height": null,
            "justify_content": null,
            "justify_items": null,
            "left": null,
            "margin": null,
            "max_height": null,
            "max_width": null,
            "min_height": null,
            "min_width": null,
            "object_fit": null,
            "object_position": null,
            "order": null,
            "overflow": null,
            "overflow_x": null,
            "overflow_y": null,
            "padding": null,
            "right": null,
            "top": null,
            "visibility": null,
            "width": null
          }
        },
        "58f1976c90104f37bca33a409fdcfbb3": {
          "model_module": "@jupyter-widgets/controls",
          "model_name": "DescriptionStyleModel",
          "model_module_version": "1.5.0",
          "state": {
            "_model_module": "@jupyter-widgets/controls",
            "_model_module_version": "1.5.0",
            "_model_name": "DescriptionStyleModel",
            "_view_count": null,
            "_view_module": "@jupyter-widgets/base",
            "_view_module_version": "1.2.0",
            "_view_name": "StyleView",
            "description_width": ""
          }
        },
        "c4477c478cf8408c8f2049eda0daebaa": {
          "model_module": "@jupyter-widgets/base",
          "model_name": "LayoutModel",
          "model_module_version": "1.2.0",
          "state": {
            "_model_module": "@jupyter-widgets/base",
            "_model_module_version": "1.2.0",
            "_model_name": "LayoutModel",
            "_view_count": null,
            "_view_module": "@jupyter-widgets/base",
            "_view_module_version": "1.2.0",
            "_view_name": "LayoutView",
            "align_content": null,
            "align_items": null,
            "align_self": null,
            "border": null,
            "bottom": null,
            "display": null,
            "flex": null,
            "flex_flow": null,
            "grid_area": null,
            "grid_auto_columns": null,
            "grid_auto_flow": null,
            "grid_auto_rows": null,
            "grid_column": null,
            "grid_gap": null,
            "grid_row": null,
            "grid_template_areas": null,
            "grid_template_columns": null,
            "grid_template_rows": null,
            "height": null,
            "justify_content": null,
            "justify_items": null,
            "left": null,
            "margin": null,
            "max_height": null,
            "max_width": null,
            "min_height": null,
            "min_width": null,
            "object_fit": null,
            "object_position": null,
            "order": null,
            "overflow": null,
            "overflow_x": null,
            "overflow_y": null,
            "padding": null,
            "right": null,
            "top": null,
            "visibility": null,
            "width": null
          }
        },
        "a66e0f277cac4193ae420cd556f748ed": {
          "model_module": "@jupyter-widgets/controls",
          "model_name": "ProgressStyleModel",
          "model_module_version": "1.5.0",
          "state": {
            "_model_module": "@jupyter-widgets/controls",
            "_model_module_version": "1.5.0",
            "_model_name": "ProgressStyleModel",
            "_view_count": null,
            "_view_module": "@jupyter-widgets/base",
            "_view_module_version": "1.2.0",
            "_view_name": "StyleView",
            "bar_color": null,
            "description_width": ""
          }
        },
        "33ef85932acf4a4e99c47b5a4db084d6": {
          "model_module": "@jupyter-widgets/base",
          "model_name": "LayoutModel",
          "model_module_version": "1.2.0",
          "state": {
            "_model_module": "@jupyter-widgets/base",
            "_model_module_version": "1.2.0",
            "_model_name": "LayoutModel",
            "_view_count": null,
            "_view_module": "@jupyter-widgets/base",
            "_view_module_version": "1.2.0",
            "_view_name": "LayoutView",
            "align_content": null,
            "align_items": null,
            "align_self": null,
            "border": null,
            "bottom": null,
            "display": null,
            "flex": null,
            "flex_flow": null,
            "grid_area": null,
            "grid_auto_columns": null,
            "grid_auto_flow": null,
            "grid_auto_rows": null,
            "grid_column": null,
            "grid_gap": null,
            "grid_row": null,
            "grid_template_areas": null,
            "grid_template_columns": null,
            "grid_template_rows": null,
            "height": null,
            "justify_content": null,
            "justify_items": null,
            "left": null,
            "margin": null,
            "max_height": null,
            "max_width": null,
            "min_height": null,
            "min_width": null,
            "object_fit": null,
            "object_position": null,
            "order": null,
            "overflow": null,
            "overflow_x": null,
            "overflow_y": null,
            "padding": null,
            "right": null,
            "top": null,
            "visibility": null,
            "width": null
          }
        },
        "e62ff96e4e564a03b753f6aa2fe99251": {
          "model_module": "@jupyter-widgets/controls",
          "model_name": "DescriptionStyleModel",
          "model_module_version": "1.5.0",
          "state": {
            "_model_module": "@jupyter-widgets/controls",
            "_model_module_version": "1.5.0",
            "_model_name": "DescriptionStyleModel",
            "_view_count": null,
            "_view_module": "@jupyter-widgets/base",
            "_view_module_version": "1.2.0",
            "_view_name": "StyleView",
            "description_width": ""
          }
        },
        "35b5446afb1747dd82adce6c20ec8c58": {
          "model_module": "@jupyter-widgets/controls",
          "model_name": "HBoxModel",
          "model_module_version": "1.5.0",
          "state": {
            "_dom_classes": [],
            "_model_module": "@jupyter-widgets/controls",
            "_model_module_version": "1.5.0",
            "_model_name": "HBoxModel",
            "_view_count": null,
            "_view_module": "@jupyter-widgets/controls",
            "_view_module_version": "1.5.0",
            "_view_name": "HBoxView",
            "box_style": "",
            "children": [
              "IPY_MODEL_a27cd4f1b5834f8f99e1933a0a97be0b",
              "IPY_MODEL_7db7eb9c783847148afea14f8eb41177",
              "IPY_MODEL_8d6593550b64411daeafad62579d927b"
            ],
            "layout": "IPY_MODEL_86f938b0c5da47468139b118539c55fa"
          }
        },
        "a27cd4f1b5834f8f99e1933a0a97be0b": {
          "model_module": "@jupyter-widgets/controls",
          "model_name": "HTMLModel",
          "model_module_version": "1.5.0",
          "state": {
            "_dom_classes": [],
            "_model_module": "@jupyter-widgets/controls",
            "_model_module_version": "1.5.0",
            "_model_name": "HTMLModel",
            "_view_count": null,
            "_view_module": "@jupyter-widgets/controls",
            "_view_module_version": "1.5.0",
            "_view_name": "HTMLView",
            "description": "",
            "description_tooltip": null,
            "layout": "IPY_MODEL_9d731dfd37ee4817b9af60eba3d6d82e",
            "placeholder": "​",
            "style": "IPY_MODEL_9369d77d52214765be8bb653dcb9d70e",
            "value": "Downloading (…)cial_tokens_map.json: 100%"
          }
        },
        "7db7eb9c783847148afea14f8eb41177": {
          "model_module": "@jupyter-widgets/controls",
          "model_name": "FloatProgressModel",
          "model_module_version": "1.5.0",
          "state": {
            "_dom_classes": [],
            "_model_module": "@jupyter-widgets/controls",
            "_model_module_version": "1.5.0",
            "_model_name": "FloatProgressModel",
            "_view_count": null,
            "_view_module": "@jupyter-widgets/controls",
            "_view_module_version": "1.5.0",
            "_view_name": "ProgressView",
            "bar_style": "success",
            "description": "",
            "description_tooltip": null,
            "layout": "IPY_MODEL_5f50a37d466b45fc8309eaa35fd28fc0",
            "max": 125,
            "min": 0,
            "orientation": "horizontal",
            "style": "IPY_MODEL_87191f45b0624da49e1135a8d288133c",
            "value": 125
          }
        },
        "8d6593550b64411daeafad62579d927b": {
          "model_module": "@jupyter-widgets/controls",
          "model_name": "HTMLModel",
          "model_module_version": "1.5.0",
          "state": {
            "_dom_classes": [],
            "_model_module": "@jupyter-widgets/controls",
            "_model_module_version": "1.5.0",
            "_model_name": "HTMLModel",
            "_view_count": null,
            "_view_module": "@jupyter-widgets/controls",
            "_view_module_version": "1.5.0",
            "_view_name": "HTMLView",
            "description": "",
            "description_tooltip": null,
            "layout": "IPY_MODEL_7770f751c3d940579256ddad3e6e5f16",
            "placeholder": "​",
            "style": "IPY_MODEL_f97975b6c31a420c85e6d261ab48aa13",
            "value": " 125/125 [00:00&lt;00:00, 7.64kB/s]"
          }
        },
        "86f938b0c5da47468139b118539c55fa": {
          "model_module": "@jupyter-widgets/base",
          "model_name": "LayoutModel",
          "model_module_version": "1.2.0",
          "state": {
            "_model_module": "@jupyter-widgets/base",
            "_model_module_version": "1.2.0",
            "_model_name": "LayoutModel",
            "_view_count": null,
            "_view_module": "@jupyter-widgets/base",
            "_view_module_version": "1.2.0",
            "_view_name": "LayoutView",
            "align_content": null,
            "align_items": null,
            "align_self": null,
            "border": null,
            "bottom": null,
            "display": null,
            "flex": null,
            "flex_flow": null,
            "grid_area": null,
            "grid_auto_columns": null,
            "grid_auto_flow": null,
            "grid_auto_rows": null,
            "grid_column": null,
            "grid_gap": null,
            "grid_row": null,
            "grid_template_areas": null,
            "grid_template_columns": null,
            "grid_template_rows": null,
            "height": null,
            "justify_content": null,
            "justify_items": null,
            "left": null,
            "margin": null,
            "max_height": null,
            "max_width": null,
            "min_height": null,
            "min_width": null,
            "object_fit": null,
            "object_position": null,
            "order": null,
            "overflow": null,
            "overflow_x": null,
            "overflow_y": null,
            "padding": null,
            "right": null,
            "top": null,
            "visibility": null,
            "width": null
          }
        },
        "9d731dfd37ee4817b9af60eba3d6d82e": {
          "model_module": "@jupyter-widgets/base",
          "model_name": "LayoutModel",
          "model_module_version": "1.2.0",
          "state": {
            "_model_module": "@jupyter-widgets/base",
            "_model_module_version": "1.2.0",
            "_model_name": "LayoutModel",
            "_view_count": null,
            "_view_module": "@jupyter-widgets/base",
            "_view_module_version": "1.2.0",
            "_view_name": "LayoutView",
            "align_content": null,
            "align_items": null,
            "align_self": null,
            "border": null,
            "bottom": null,
            "display": null,
            "flex": null,
            "flex_flow": null,
            "grid_area": null,
            "grid_auto_columns": null,
            "grid_auto_flow": null,
            "grid_auto_rows": null,
            "grid_column": null,
            "grid_gap": null,
            "grid_row": null,
            "grid_template_areas": null,
            "grid_template_columns": null,
            "grid_template_rows": null,
            "height": null,
            "justify_content": null,
            "justify_items": null,
            "left": null,
            "margin": null,
            "max_height": null,
            "max_width": null,
            "min_height": null,
            "min_width": null,
            "object_fit": null,
            "object_position": null,
            "order": null,
            "overflow": null,
            "overflow_x": null,
            "overflow_y": null,
            "padding": null,
            "right": null,
            "top": null,
            "visibility": null,
            "width": null
          }
        },
        "9369d77d52214765be8bb653dcb9d70e": {
          "model_module": "@jupyter-widgets/controls",
          "model_name": "DescriptionStyleModel",
          "model_module_version": "1.5.0",
          "state": {
            "_model_module": "@jupyter-widgets/controls",
            "_model_module_version": "1.5.0",
            "_model_name": "DescriptionStyleModel",
            "_view_count": null,
            "_view_module": "@jupyter-widgets/base",
            "_view_module_version": "1.2.0",
            "_view_name": "StyleView",
            "description_width": ""
          }
        },
        "5f50a37d466b45fc8309eaa35fd28fc0": {
          "model_module": "@jupyter-widgets/base",
          "model_name": "LayoutModel",
          "model_module_version": "1.2.0",
          "state": {
            "_model_module": "@jupyter-widgets/base",
            "_model_module_version": "1.2.0",
            "_model_name": "LayoutModel",
            "_view_count": null,
            "_view_module": "@jupyter-widgets/base",
            "_view_module_version": "1.2.0",
            "_view_name": "LayoutView",
            "align_content": null,
            "align_items": null,
            "align_self": null,
            "border": null,
            "bottom": null,
            "display": null,
            "flex": null,
            "flex_flow": null,
            "grid_area": null,
            "grid_auto_columns": null,
            "grid_auto_flow": null,
            "grid_auto_rows": null,
            "grid_column": null,
            "grid_gap": null,
            "grid_row": null,
            "grid_template_areas": null,
            "grid_template_columns": null,
            "grid_template_rows": null,
            "height": null,
            "justify_content": null,
            "justify_items": null,
            "left": null,
            "margin": null,
            "max_height": null,
            "max_width": null,
            "min_height": null,
            "min_width": null,
            "object_fit": null,
            "object_position": null,
            "order": null,
            "overflow": null,
            "overflow_x": null,
            "overflow_y": null,
            "padding": null,
            "right": null,
            "top": null,
            "visibility": null,
            "width": null
          }
        },
        "87191f45b0624da49e1135a8d288133c": {
          "model_module": "@jupyter-widgets/controls",
          "model_name": "ProgressStyleModel",
          "model_module_version": "1.5.0",
          "state": {
            "_model_module": "@jupyter-widgets/controls",
            "_model_module_version": "1.5.0",
            "_model_name": "ProgressStyleModel",
            "_view_count": null,
            "_view_module": "@jupyter-widgets/base",
            "_view_module_version": "1.2.0",
            "_view_name": "StyleView",
            "bar_color": null,
            "description_width": ""
          }
        },
        "7770f751c3d940579256ddad3e6e5f16": {
          "model_module": "@jupyter-widgets/base",
          "model_name": "LayoutModel",
          "model_module_version": "1.2.0",
          "state": {
            "_model_module": "@jupyter-widgets/base",
            "_model_module_version": "1.2.0",
            "_model_name": "LayoutModel",
            "_view_count": null,
            "_view_module": "@jupyter-widgets/base",
            "_view_module_version": "1.2.0",
            "_view_name": "LayoutView",
            "align_content": null,
            "align_items": null,
            "align_self": null,
            "border": null,
            "bottom": null,
            "display": null,
            "flex": null,
            "flex_flow": null,
            "grid_area": null,
            "grid_auto_columns": null,
            "grid_auto_flow": null,
            "grid_auto_rows": null,
            "grid_column": null,
            "grid_gap": null,
            "grid_row": null,
            "grid_template_areas": null,
            "grid_template_columns": null,
            "grid_template_rows": null,
            "height": null,
            "justify_content": null,
            "justify_items": null,
            "left": null,
            "margin": null,
            "max_height": null,
            "max_width": null,
            "min_height": null,
            "min_width": null,
            "object_fit": null,
            "object_position": null,
            "order": null,
            "overflow": null,
            "overflow_x": null,
            "overflow_y": null,
            "padding": null,
            "right": null,
            "top": null,
            "visibility": null,
            "width": null
          }
        },
        "f97975b6c31a420c85e6d261ab48aa13": {
          "model_module": "@jupyter-widgets/controls",
          "model_name": "DescriptionStyleModel",
          "model_module_version": "1.5.0",
          "state": {
            "_model_module": "@jupyter-widgets/controls",
            "_model_module_version": "1.5.0",
            "_model_name": "DescriptionStyleModel",
            "_view_count": null,
            "_view_module": "@jupyter-widgets/base",
            "_view_module_version": "1.2.0",
            "_view_name": "StyleView",
            "description_width": ""
          }
        },
        "6c69ab2c52084272874c96f38d6e2694": {
          "model_module": "@jupyter-widgets/controls",
          "model_name": "HBoxModel",
          "model_module_version": "1.5.0",
          "state": {
            "_dom_classes": [],
            "_model_module": "@jupyter-widgets/controls",
            "_model_module_version": "1.5.0",
            "_model_name": "HBoxModel",
            "_view_count": null,
            "_view_module": "@jupyter-widgets/controls",
            "_view_module_version": "1.5.0",
            "_view_name": "HBoxView",
            "box_style": "",
            "children": [
              "IPY_MODEL_9db9a8cef7fa477e8a657639dc3d01b7",
              "IPY_MODEL_a09846bcf6e246b08b44ece098836e9e",
              "IPY_MODEL_fff10347b2c7473189572312371a5b1d"
            ],
            "layout": "IPY_MODEL_327d961046544b979d59cca4fdc5eadb"
          }
        },
        "9db9a8cef7fa477e8a657639dc3d01b7": {
          "model_module": "@jupyter-widgets/controls",
          "model_name": "HTMLModel",
          "model_module_version": "1.5.0",
          "state": {
            "_dom_classes": [],
            "_model_module": "@jupyter-widgets/controls",
            "_model_module_version": "1.5.0",
            "_model_name": "HTMLModel",
            "_view_count": null,
            "_view_module": "@jupyter-widgets/controls",
            "_view_module_version": "1.5.0",
            "_view_name": "HTMLView",
            "description": "",
            "description_tooltip": null,
            "layout": "IPY_MODEL_8dd8815fdcb64d058908fee8606ce8dc",
            "placeholder": "​",
            "style": "IPY_MODEL_112e0dd031da4ea789f17be6298cdde4",
            "value": "Map: 100%"
          }
        },
        "a09846bcf6e246b08b44ece098836e9e": {
          "model_module": "@jupyter-widgets/controls",
          "model_name": "FloatProgressModel",
          "model_module_version": "1.5.0",
          "state": {
            "_dom_classes": [],
            "_model_module": "@jupyter-widgets/controls",
            "_model_module_version": "1.5.0",
            "_model_name": "FloatProgressModel",
            "_view_count": null,
            "_view_module": "@jupyter-widgets/controls",
            "_view_module_version": "1.5.0",
            "_view_name": "ProgressView",
            "bar_style": "",
            "description": "",
            "description_tooltip": null,
            "layout": "IPY_MODEL_d6a193376dab47a9acb4f5814d5fc806",
            "max": 32769,
            "min": 0,
            "orientation": "horizontal",
            "style": "IPY_MODEL_999d384180bd48c384352a993cca09a7",
            "value": 32769
          }
        },
        "fff10347b2c7473189572312371a5b1d": {
          "model_module": "@jupyter-widgets/controls",
          "model_name": "HTMLModel",
          "model_module_version": "1.5.0",
          "state": {
            "_dom_classes": [],
            "_model_module": "@jupyter-widgets/controls",
            "_model_module_version": "1.5.0",
            "_model_name": "HTMLModel",
            "_view_count": null,
            "_view_module": "@jupyter-widgets/controls",
            "_view_module_version": "1.5.0",
            "_view_name": "HTMLView",
            "description": "",
            "description_tooltip": null,
            "layout": "IPY_MODEL_50b8faf727f04b87af02a4d825e2c345",
            "placeholder": "​",
            "style": "IPY_MODEL_65f9e316c849433e9b6f0eb0df50fc7e",
            "value": " 32769/32769 [00:07&lt;00:00, 5790.88 examples/s]"
          }
        },
        "327d961046544b979d59cca4fdc5eadb": {
          "model_module": "@jupyter-widgets/base",
          "model_name": "LayoutModel",
          "model_module_version": "1.2.0",
          "state": {
            "_model_module": "@jupyter-widgets/base",
            "_model_module_version": "1.2.0",
            "_model_name": "LayoutModel",
            "_view_count": null,
            "_view_module": "@jupyter-widgets/base",
            "_view_module_version": "1.2.0",
            "_view_name": "LayoutView",
            "align_content": null,
            "align_items": null,
            "align_self": null,
            "border": null,
            "bottom": null,
            "display": null,
            "flex": null,
            "flex_flow": null,
            "grid_area": null,
            "grid_auto_columns": null,
            "grid_auto_flow": null,
            "grid_auto_rows": null,
            "grid_column": null,
            "grid_gap": null,
            "grid_row": null,
            "grid_template_areas": null,
            "grid_template_columns": null,
            "grid_template_rows": null,
            "height": null,
            "justify_content": null,
            "justify_items": null,
            "left": null,
            "margin": null,
            "max_height": null,
            "max_width": null,
            "min_height": null,
            "min_width": null,
            "object_fit": null,
            "object_position": null,
            "order": null,
            "overflow": null,
            "overflow_x": null,
            "overflow_y": null,
            "padding": null,
            "right": null,
            "top": null,
            "visibility": "hidden",
            "width": null
          }
        },
        "8dd8815fdcb64d058908fee8606ce8dc": {
          "model_module": "@jupyter-widgets/base",
          "model_name": "LayoutModel",
          "model_module_version": "1.2.0",
          "state": {
            "_model_module": "@jupyter-widgets/base",
            "_model_module_version": "1.2.0",
            "_model_name": "LayoutModel",
            "_view_count": null,
            "_view_module": "@jupyter-widgets/base",
            "_view_module_version": "1.2.0",
            "_view_name": "LayoutView",
            "align_content": null,
            "align_items": null,
            "align_self": null,
            "border": null,
            "bottom": null,
            "display": null,
            "flex": null,
            "flex_flow": null,
            "grid_area": null,
            "grid_auto_columns": null,
            "grid_auto_flow": null,
            "grid_auto_rows": null,
            "grid_column": null,
            "grid_gap": null,
            "grid_row": null,
            "grid_template_areas": null,
            "grid_template_columns": null,
            "grid_template_rows": null,
            "height": null,
            "justify_content": null,
            "justify_items": null,
            "left": null,
            "margin": null,
            "max_height": null,
            "max_width": null,
            "min_height": null,
            "min_width": null,
            "object_fit": null,
            "object_position": null,
            "order": null,
            "overflow": null,
            "overflow_x": null,
            "overflow_y": null,
            "padding": null,
            "right": null,
            "top": null,
            "visibility": null,
            "width": null
          }
        },
        "112e0dd031da4ea789f17be6298cdde4": {
          "model_module": "@jupyter-widgets/controls",
          "model_name": "DescriptionStyleModel",
          "model_module_version": "1.5.0",
          "state": {
            "_model_module": "@jupyter-widgets/controls",
            "_model_module_version": "1.5.0",
            "_model_name": "DescriptionStyleModel",
            "_view_count": null,
            "_view_module": "@jupyter-widgets/base",
            "_view_module_version": "1.2.0",
            "_view_name": "StyleView",
            "description_width": ""
          }
        },
        "d6a193376dab47a9acb4f5814d5fc806": {
          "model_module": "@jupyter-widgets/base",
          "model_name": "LayoutModel",
          "model_module_version": "1.2.0",
          "state": {
            "_model_module": "@jupyter-widgets/base",
            "_model_module_version": "1.2.0",
            "_model_name": "LayoutModel",
            "_view_count": null,
            "_view_module": "@jupyter-widgets/base",
            "_view_module_version": "1.2.0",
            "_view_name": "LayoutView",
            "align_content": null,
            "align_items": null,
            "align_self": null,
            "border": null,
            "bottom": null,
            "display": null,
            "flex": null,
            "flex_flow": null,
            "grid_area": null,
            "grid_auto_columns": null,
            "grid_auto_flow": null,
            "grid_auto_rows": null,
            "grid_column": null,
            "grid_gap": null,
            "grid_row": null,
            "grid_template_areas": null,
            "grid_template_columns": null,
            "grid_template_rows": null,
            "height": null,
            "justify_content": null,
            "justify_items": null,
            "left": null,
            "margin": null,
            "max_height": null,
            "max_width": null,
            "min_height": null,
            "min_width": null,
            "object_fit": null,
            "object_position": null,
            "order": null,
            "overflow": null,
            "overflow_x": null,
            "overflow_y": null,
            "padding": null,
            "right": null,
            "top": null,
            "visibility": null,
            "width": null
          }
        },
        "999d384180bd48c384352a993cca09a7": {
          "model_module": "@jupyter-widgets/controls",
          "model_name": "ProgressStyleModel",
          "model_module_version": "1.5.0",
          "state": {
            "_model_module": "@jupyter-widgets/controls",
            "_model_module_version": "1.5.0",
            "_model_name": "ProgressStyleModel",
            "_view_count": null,
            "_view_module": "@jupyter-widgets/base",
            "_view_module_version": "1.2.0",
            "_view_name": "StyleView",
            "bar_color": null,
            "description_width": ""
          }
        },
        "50b8faf727f04b87af02a4d825e2c345": {
          "model_module": "@jupyter-widgets/base",
          "model_name": "LayoutModel",
          "model_module_version": "1.2.0",
          "state": {
            "_model_module": "@jupyter-widgets/base",
            "_model_module_version": "1.2.0",
            "_model_name": "LayoutModel",
            "_view_count": null,
            "_view_module": "@jupyter-widgets/base",
            "_view_module_version": "1.2.0",
            "_view_name": "LayoutView",
            "align_content": null,
            "align_items": null,
            "align_self": null,
            "border": null,
            "bottom": null,
            "display": null,
            "flex": null,
            "flex_flow": null,
            "grid_area": null,
            "grid_auto_columns": null,
            "grid_auto_flow": null,
            "grid_auto_rows": null,
            "grid_column": null,
            "grid_gap": null,
            "grid_row": null,
            "grid_template_areas": null,
            "grid_template_columns": null,
            "grid_template_rows": null,
            "height": null,
            "justify_content": null,
            "justify_items": null,
            "left": null,
            "margin": null,
            "max_height": null,
            "max_width": null,
            "min_height": null,
            "min_width": null,
            "object_fit": null,
            "object_position": null,
            "order": null,
            "overflow": null,
            "overflow_x": null,
            "overflow_y": null,
            "padding": null,
            "right": null,
            "top": null,
            "visibility": null,
            "width": null
          }
        },
        "65f9e316c849433e9b6f0eb0df50fc7e": {
          "model_module": "@jupyter-widgets/controls",
          "model_name": "DescriptionStyleModel",
          "model_module_version": "1.5.0",
          "state": {
            "_model_module": "@jupyter-widgets/controls",
            "_model_module_version": "1.5.0",
            "_model_name": "DescriptionStyleModel",
            "_view_count": null,
            "_view_module": "@jupyter-widgets/base",
            "_view_module_version": "1.2.0",
            "_view_name": "StyleView",
            "description_width": ""
          }
        },
        "0953e7f6b3a140f0a0f4254b44f51fa3": {
          "model_module": "@jupyter-widgets/controls",
          "model_name": "HBoxModel",
          "model_module_version": "1.5.0",
          "state": {
            "_dom_classes": [],
            "_model_module": "@jupyter-widgets/controls",
            "_model_module_version": "1.5.0",
            "_model_name": "HBoxModel",
            "_view_count": null,
            "_view_module": "@jupyter-widgets/controls",
            "_view_module_version": "1.5.0",
            "_view_name": "HBoxView",
            "box_style": "",
            "children": [
              "IPY_MODEL_5ff9177bd83e4351a6473ac2dbaccf8c",
              "IPY_MODEL_46ce007c6bb44fd4a66c007fc6b29ac1",
              "IPY_MODEL_9f03cbda63f14a7f84c68b5392d0b258"
            ],
            "layout": "IPY_MODEL_1e6a6efd4cde41ef8d77d543eff331d6"
          }
        },
        "5ff9177bd83e4351a6473ac2dbaccf8c": {
          "model_module": "@jupyter-widgets/controls",
          "model_name": "HTMLModel",
          "model_module_version": "1.5.0",
          "state": {
            "_dom_classes": [],
            "_model_module": "@jupyter-widgets/controls",
            "_model_module_version": "1.5.0",
            "_model_name": "HTMLModel",
            "_view_count": null,
            "_view_module": "@jupyter-widgets/controls",
            "_view_module_version": "1.5.0",
            "_view_name": "HTMLView",
            "description": "",
            "description_tooltip": null,
            "layout": "IPY_MODEL_ab9ff2ca03454adebd3a1a2639299b31",
            "placeholder": "​",
            "style": "IPY_MODEL_a45e6195c39c4c9fa3c54485713ae752",
            "value": "Map:  98%"
          }
        },
        "46ce007c6bb44fd4a66c007fc6b29ac1": {
          "model_module": "@jupyter-widgets/controls",
          "model_name": "FloatProgressModel",
          "model_module_version": "1.5.0",
          "state": {
            "_dom_classes": [],
            "_model_module": "@jupyter-widgets/controls",
            "_model_module_version": "1.5.0",
            "_model_name": "FloatProgressModel",
            "_view_count": null,
            "_view_module": "@jupyter-widgets/controls",
            "_view_module_version": "1.5.0",
            "_view_name": "ProgressView",
            "bar_style": "",
            "description": "",
            "description_tooltip": null,
            "layout": "IPY_MODEL_bf890d850f7c43c0a95bf5a442227d41",
            "max": 8193,
            "min": 0,
            "orientation": "horizontal",
            "style": "IPY_MODEL_6b3dbca66dcb4c2dba96ac6c56720341",
            "value": 8193
          }
        },
        "9f03cbda63f14a7f84c68b5392d0b258": {
          "model_module": "@jupyter-widgets/controls",
          "model_name": "HTMLModel",
          "model_module_version": "1.5.0",
          "state": {
            "_dom_classes": [],
            "_model_module": "@jupyter-widgets/controls",
            "_model_module_version": "1.5.0",
            "_model_name": "HTMLModel",
            "_view_count": null,
            "_view_module": "@jupyter-widgets/controls",
            "_view_module_version": "1.5.0",
            "_view_name": "HTMLView",
            "description": "",
            "description_tooltip": null,
            "layout": "IPY_MODEL_00d0eb3e846741f29452643c839afa8b",
            "placeholder": "​",
            "style": "IPY_MODEL_903679525d34417faba6a7b66106f858",
            "value": " 8000/8193 [00:01&lt;00:00, 5883.18 examples/s]"
          }
        },
        "1e6a6efd4cde41ef8d77d543eff331d6": {
          "model_module": "@jupyter-widgets/base",
          "model_name": "LayoutModel",
          "model_module_version": "1.2.0",
          "state": {
            "_model_module": "@jupyter-widgets/base",
            "_model_module_version": "1.2.0",
            "_model_name": "LayoutModel",
            "_view_count": null,
            "_view_module": "@jupyter-widgets/base",
            "_view_module_version": "1.2.0",
            "_view_name": "LayoutView",
            "align_content": null,
            "align_items": null,
            "align_self": null,
            "border": null,
            "bottom": null,
            "display": null,
            "flex": null,
            "flex_flow": null,
            "grid_area": null,
            "grid_auto_columns": null,
            "grid_auto_flow": null,
            "grid_auto_rows": null,
            "grid_column": null,
            "grid_gap": null,
            "grid_row": null,
            "grid_template_areas": null,
            "grid_template_columns": null,
            "grid_template_rows": null,
            "height": null,
            "justify_content": null,
            "justify_items": null,
            "left": null,
            "margin": null,
            "max_height": null,
            "max_width": null,
            "min_height": null,
            "min_width": null,
            "object_fit": null,
            "object_position": null,
            "order": null,
            "overflow": null,
            "overflow_x": null,
            "overflow_y": null,
            "padding": null,
            "right": null,
            "top": null,
            "visibility": "hidden",
            "width": null
          }
        },
        "ab9ff2ca03454adebd3a1a2639299b31": {
          "model_module": "@jupyter-widgets/base",
          "model_name": "LayoutModel",
          "model_module_version": "1.2.0",
          "state": {
            "_model_module": "@jupyter-widgets/base",
            "_model_module_version": "1.2.0",
            "_model_name": "LayoutModel",
            "_view_count": null,
            "_view_module": "@jupyter-widgets/base",
            "_view_module_version": "1.2.0",
            "_view_name": "LayoutView",
            "align_content": null,
            "align_items": null,
            "align_self": null,
            "border": null,
            "bottom": null,
            "display": null,
            "flex": null,
            "flex_flow": null,
            "grid_area": null,
            "grid_auto_columns": null,
            "grid_auto_flow": null,
            "grid_auto_rows": null,
            "grid_column": null,
            "grid_gap": null,
            "grid_row": null,
            "grid_template_areas": null,
            "grid_template_columns": null,
            "grid_template_rows": null,
            "height": null,
            "justify_content": null,
            "justify_items": null,
            "left": null,
            "margin": null,
            "max_height": null,
            "max_width": null,
            "min_height": null,
            "min_width": null,
            "object_fit": null,
            "object_position": null,
            "order": null,
            "overflow": null,
            "overflow_x": null,
            "overflow_y": null,
            "padding": null,
            "right": null,
            "top": null,
            "visibility": null,
            "width": null
          }
        },
        "a45e6195c39c4c9fa3c54485713ae752": {
          "model_module": "@jupyter-widgets/controls",
          "model_name": "DescriptionStyleModel",
          "model_module_version": "1.5.0",
          "state": {
            "_model_module": "@jupyter-widgets/controls",
            "_model_module_version": "1.5.0",
            "_model_name": "DescriptionStyleModel",
            "_view_count": null,
            "_view_module": "@jupyter-widgets/base",
            "_view_module_version": "1.2.0",
            "_view_name": "StyleView",
            "description_width": ""
          }
        },
        "bf890d850f7c43c0a95bf5a442227d41": {
          "model_module": "@jupyter-widgets/base",
          "model_name": "LayoutModel",
          "model_module_version": "1.2.0",
          "state": {
            "_model_module": "@jupyter-widgets/base",
            "_model_module_version": "1.2.0",
            "_model_name": "LayoutModel",
            "_view_count": null,
            "_view_module": "@jupyter-widgets/base",
            "_view_module_version": "1.2.0",
            "_view_name": "LayoutView",
            "align_content": null,
            "align_items": null,
            "align_self": null,
            "border": null,
            "bottom": null,
            "display": null,
            "flex": null,
            "flex_flow": null,
            "grid_area": null,
            "grid_auto_columns": null,
            "grid_auto_flow": null,
            "grid_auto_rows": null,
            "grid_column": null,
            "grid_gap": null,
            "grid_row": null,
            "grid_template_areas": null,
            "grid_template_columns": null,
            "grid_template_rows": null,
            "height": null,
            "justify_content": null,
            "justify_items": null,
            "left": null,
            "margin": null,
            "max_height": null,
            "max_width": null,
            "min_height": null,
            "min_width": null,
            "object_fit": null,
            "object_position": null,
            "order": null,
            "overflow": null,
            "overflow_x": null,
            "overflow_y": null,
            "padding": null,
            "right": null,
            "top": null,
            "visibility": null,
            "width": null
          }
        },
        "6b3dbca66dcb4c2dba96ac6c56720341": {
          "model_module": "@jupyter-widgets/controls",
          "model_name": "ProgressStyleModel",
          "model_module_version": "1.5.0",
          "state": {
            "_model_module": "@jupyter-widgets/controls",
            "_model_module_version": "1.5.0",
            "_model_name": "ProgressStyleModel",
            "_view_count": null,
            "_view_module": "@jupyter-widgets/base",
            "_view_module_version": "1.2.0",
            "_view_name": "StyleView",
            "bar_color": null,
            "description_width": ""
          }
        },
        "00d0eb3e846741f29452643c839afa8b": {
          "model_module": "@jupyter-widgets/base",
          "model_name": "LayoutModel",
          "model_module_version": "1.2.0",
          "state": {
            "_model_module": "@jupyter-widgets/base",
            "_model_module_version": "1.2.0",
            "_model_name": "LayoutModel",
            "_view_count": null,
            "_view_module": "@jupyter-widgets/base",
            "_view_module_version": "1.2.0",
            "_view_name": "LayoutView",
            "align_content": null,
            "align_items": null,
            "align_self": null,
            "border": null,
            "bottom": null,
            "display": null,
            "flex": null,
            "flex_flow": null,
            "grid_area": null,
            "grid_auto_columns": null,
            "grid_auto_flow": null,
            "grid_auto_rows": null,
            "grid_column": null,
            "grid_gap": null,
            "grid_row": null,
            "grid_template_areas": null,
            "grid_template_columns": null,
            "grid_template_rows": null,
            "height": null,
            "justify_content": null,
            "justify_items": null,
            "left": null,
            "margin": null,
            "max_height": null,
            "max_width": null,
            "min_height": null,
            "min_width": null,
            "object_fit": null,
            "object_position": null,
            "order": null,
            "overflow": null,
            "overflow_x": null,
            "overflow_y": null,
            "padding": null,
            "right": null,
            "top": null,
            "visibility": null,
            "width": null
          }
        },
        "903679525d34417faba6a7b66106f858": {
          "model_module": "@jupyter-widgets/controls",
          "model_name": "DescriptionStyleModel",
          "model_module_version": "1.5.0",
          "state": {
            "_model_module": "@jupyter-widgets/controls",
            "_model_module_version": "1.5.0",
            "_model_name": "DescriptionStyleModel",
            "_view_count": null,
            "_view_module": "@jupyter-widgets/base",
            "_view_module_version": "1.2.0",
            "_view_name": "StyleView",
            "description_width": ""
          }
        },
        "05129fe34ef545e7baa31354ba892968": {
          "model_module": "@jupyter-widgets/controls",
          "model_name": "HBoxModel",
          "model_module_version": "1.5.0",
          "state": {
            "_dom_classes": [],
            "_model_module": "@jupyter-widgets/controls",
            "_model_module_version": "1.5.0",
            "_model_name": "HBoxModel",
            "_view_count": null,
            "_view_module": "@jupyter-widgets/controls",
            "_view_module_version": "1.5.0",
            "_view_name": "HBoxView",
            "box_style": "",
            "children": [
              "IPY_MODEL_9cd11870d78048de9be9de6d0f535800",
              "IPY_MODEL_2e6e0dee061b495ebbe3736410ca3d3c",
              "IPY_MODEL_4facf8aacb504ee7bb35794dbac740c9"
            ],
            "layout": "IPY_MODEL_acf56854ae954701bd4110c16ca9bd15"
          }
        },
        "9cd11870d78048de9be9de6d0f535800": {
          "model_module": "@jupyter-widgets/controls",
          "model_name": "HTMLModel",
          "model_module_version": "1.5.0",
          "state": {
            "_dom_classes": [],
            "_model_module": "@jupyter-widgets/controls",
            "_model_module_version": "1.5.0",
            "_model_name": "HTMLModel",
            "_view_count": null,
            "_view_module": "@jupyter-widgets/controls",
            "_view_module_version": "1.5.0",
            "_view_name": "HTMLView",
            "description": "",
            "description_tooltip": null,
            "layout": "IPY_MODEL_39c55a8e99e444db9ad47ca6b780c519",
            "placeholder": "​",
            "style": "IPY_MODEL_32e31764f6934f9cb89a89c7dfd8ea27",
            "value": "Map: 100%"
          }
        },
        "2e6e0dee061b495ebbe3736410ca3d3c": {
          "model_module": "@jupyter-widgets/controls",
          "model_name": "FloatProgressModel",
          "model_module_version": "1.5.0",
          "state": {
            "_dom_classes": [],
            "_model_module": "@jupyter-widgets/controls",
            "_model_module_version": "1.5.0",
            "_model_name": "FloatProgressModel",
            "_view_count": null,
            "_view_module": "@jupyter-widgets/controls",
            "_view_module_version": "1.5.0",
            "_view_name": "ProgressView",
            "bar_style": "",
            "description": "",
            "description_tooltip": null,
            "layout": "IPY_MODEL_05a971f71fec42679620ddf51c46320f",
            "max": 3793,
            "min": 0,
            "orientation": "horizontal",
            "style": "IPY_MODEL_54de0b3843694b3981c6d1315b4e1628",
            "value": 3793
          }
        },
        "4facf8aacb504ee7bb35794dbac740c9": {
          "model_module": "@jupyter-widgets/controls",
          "model_name": "HTMLModel",
          "model_module_version": "1.5.0",
          "state": {
            "_dom_classes": [],
            "_model_module": "@jupyter-widgets/controls",
            "_model_module_version": "1.5.0",
            "_model_name": "HTMLModel",
            "_view_count": null,
            "_view_module": "@jupyter-widgets/controls",
            "_view_module_version": "1.5.0",
            "_view_name": "HTMLView",
            "description": "",
            "description_tooltip": null,
            "layout": "IPY_MODEL_7d146b5dfd06438ba15e6d59c66205a4",
            "placeholder": "​",
            "style": "IPY_MODEL_397b00e31cb74025a160929eb6222168",
            "value": " 3793/3793 [00:00&lt;00:00, 4464.90 examples/s]"
          }
        },
        "acf56854ae954701bd4110c16ca9bd15": {
          "model_module": "@jupyter-widgets/base",
          "model_name": "LayoutModel",
          "model_module_version": "1.2.0",
          "state": {
            "_model_module": "@jupyter-widgets/base",
            "_model_module_version": "1.2.0",
            "_model_name": "LayoutModel",
            "_view_count": null,
            "_view_module": "@jupyter-widgets/base",
            "_view_module_version": "1.2.0",
            "_view_name": "LayoutView",
            "align_content": null,
            "align_items": null,
            "align_self": null,
            "border": null,
            "bottom": null,
            "display": null,
            "flex": null,
            "flex_flow": null,
            "grid_area": null,
            "grid_auto_columns": null,
            "grid_auto_flow": null,
            "grid_auto_rows": null,
            "grid_column": null,
            "grid_gap": null,
            "grid_row": null,
            "grid_template_areas": null,
            "grid_template_columns": null,
            "grid_template_rows": null,
            "height": null,
            "justify_content": null,
            "justify_items": null,
            "left": null,
            "margin": null,
            "max_height": null,
            "max_width": null,
            "min_height": null,
            "min_width": null,
            "object_fit": null,
            "object_position": null,
            "order": null,
            "overflow": null,
            "overflow_x": null,
            "overflow_y": null,
            "padding": null,
            "right": null,
            "top": null,
            "visibility": "hidden",
            "width": null
          }
        },
        "39c55a8e99e444db9ad47ca6b780c519": {
          "model_module": "@jupyter-widgets/base",
          "model_name": "LayoutModel",
          "model_module_version": "1.2.0",
          "state": {
            "_model_module": "@jupyter-widgets/base",
            "_model_module_version": "1.2.0",
            "_model_name": "LayoutModel",
            "_view_count": null,
            "_view_module": "@jupyter-widgets/base",
            "_view_module_version": "1.2.0",
            "_view_name": "LayoutView",
            "align_content": null,
            "align_items": null,
            "align_self": null,
            "border": null,
            "bottom": null,
            "display": null,
            "flex": null,
            "flex_flow": null,
            "grid_area": null,
            "grid_auto_columns": null,
            "grid_auto_flow": null,
            "grid_auto_rows": null,
            "grid_column": null,
            "grid_gap": null,
            "grid_row": null,
            "grid_template_areas": null,
            "grid_template_columns": null,
            "grid_template_rows": null,
            "height": null,
            "justify_content": null,
            "justify_items": null,
            "left": null,
            "margin": null,
            "max_height": null,
            "max_width": null,
            "min_height": null,
            "min_width": null,
            "object_fit": null,
            "object_position": null,
            "order": null,
            "overflow": null,
            "overflow_x": null,
            "overflow_y": null,
            "padding": null,
            "right": null,
            "top": null,
            "visibility": null,
            "width": null
          }
        },
        "32e31764f6934f9cb89a89c7dfd8ea27": {
          "model_module": "@jupyter-widgets/controls",
          "model_name": "DescriptionStyleModel",
          "model_module_version": "1.5.0",
          "state": {
            "_model_module": "@jupyter-widgets/controls",
            "_model_module_version": "1.5.0",
            "_model_name": "DescriptionStyleModel",
            "_view_count": null,
            "_view_module": "@jupyter-widgets/base",
            "_view_module_version": "1.2.0",
            "_view_name": "StyleView",
            "description_width": ""
          }
        },
        "05a971f71fec42679620ddf51c46320f": {
          "model_module": "@jupyter-widgets/base",
          "model_name": "LayoutModel",
          "model_module_version": "1.2.0",
          "state": {
            "_model_module": "@jupyter-widgets/base",
            "_model_module_version": "1.2.0",
            "_model_name": "LayoutModel",
            "_view_count": null,
            "_view_module": "@jupyter-widgets/base",
            "_view_module_version": "1.2.0",
            "_view_name": "LayoutView",
            "align_content": null,
            "align_items": null,
            "align_self": null,
            "border": null,
            "bottom": null,
            "display": null,
            "flex": null,
            "flex_flow": null,
            "grid_area": null,
            "grid_auto_columns": null,
            "grid_auto_flow": null,
            "grid_auto_rows": null,
            "grid_column": null,
            "grid_gap": null,
            "grid_row": null,
            "grid_template_areas": null,
            "grid_template_columns": null,
            "grid_template_rows": null,
            "height": null,
            "justify_content": null,
            "justify_items": null,
            "left": null,
            "margin": null,
            "max_height": null,
            "max_width": null,
            "min_height": null,
            "min_width": null,
            "object_fit": null,
            "object_position": null,
            "order": null,
            "overflow": null,
            "overflow_x": null,
            "overflow_y": null,
            "padding": null,
            "right": null,
            "top": null,
            "visibility": null,
            "width": null
          }
        },
        "54de0b3843694b3981c6d1315b4e1628": {
          "model_module": "@jupyter-widgets/controls",
          "model_name": "ProgressStyleModel",
          "model_module_version": "1.5.0",
          "state": {
            "_model_module": "@jupyter-widgets/controls",
            "_model_module_version": "1.5.0",
            "_model_name": "ProgressStyleModel",
            "_view_count": null,
            "_view_module": "@jupyter-widgets/base",
            "_view_module_version": "1.2.0",
            "_view_name": "StyleView",
            "bar_color": null,
            "description_width": ""
          }
        },
        "7d146b5dfd06438ba15e6d59c66205a4": {
          "model_module": "@jupyter-widgets/base",
          "model_name": "LayoutModel",
          "model_module_version": "1.2.0",
          "state": {
            "_model_module": "@jupyter-widgets/base",
            "_model_module_version": "1.2.0",
            "_model_name": "LayoutModel",
            "_view_count": null,
            "_view_module": "@jupyter-widgets/base",
            "_view_module_version": "1.2.0",
            "_view_name": "LayoutView",
            "align_content": null,
            "align_items": null,
            "align_self": null,
            "border": null,
            "bottom": null,
            "display": null,
            "flex": null,
            "flex_flow": null,
            "grid_area": null,
            "grid_auto_columns": null,
            "grid_auto_flow": null,
            "grid_auto_rows": null,
            "grid_column": null,
            "grid_gap": null,
            "grid_row": null,
            "grid_template_areas": null,
            "grid_template_columns": null,
            "grid_template_rows": null,
            "height": null,
            "justify_content": null,
            "justify_items": null,
            "left": null,
            "margin": null,
            "max_height": null,
            "max_width": null,
            "min_height": null,
            "min_width": null,
            "object_fit": null,
            "object_position": null,
            "order": null,
            "overflow": null,
            "overflow_x": null,
            "overflow_y": null,
            "padding": null,
            "right": null,
            "top": null,
            "visibility": null,
            "width": null
          }
        },
        "397b00e31cb74025a160929eb6222168": {
          "model_module": "@jupyter-widgets/controls",
          "model_name": "DescriptionStyleModel",
          "model_module_version": "1.5.0",
          "state": {
            "_model_module": "@jupyter-widgets/controls",
            "_model_module_version": "1.5.0",
            "_model_name": "DescriptionStyleModel",
            "_view_count": null,
            "_view_module": "@jupyter-widgets/base",
            "_view_module_version": "1.2.0",
            "_view_name": "StyleView",
            "description_width": ""
          }
        },
        "81759dfa749a4205a0942f0a2c9ff54a": {
          "model_module": "@jupyter-widgets/controls",
          "model_name": "HBoxModel",
          "model_module_version": "1.5.0",
          "state": {
            "_dom_classes": [],
            "_model_module": "@jupyter-widgets/controls",
            "_model_module_version": "1.5.0",
            "_model_name": "HBoxModel",
            "_view_count": null,
            "_view_module": "@jupyter-widgets/controls",
            "_view_module_version": "1.5.0",
            "_view_name": "HBoxView",
            "box_style": "",
            "children": [
              "IPY_MODEL_6acbcd187b1a430995ba4a7628d92ccb",
              "IPY_MODEL_551a3f27471e4253987c14b1a9a37c56",
              "IPY_MODEL_b5f626526f5c4983839c00e879a30246"
            ],
            "layout": "IPY_MODEL_3e83d8cd98154adea0a05119973ec1f6"
          }
        },
        "6acbcd187b1a430995ba4a7628d92ccb": {
          "model_module": "@jupyter-widgets/controls",
          "model_name": "HTMLModel",
          "model_module_version": "1.5.0",
          "state": {
            "_dom_classes": [],
            "_model_module": "@jupyter-widgets/controls",
            "_model_module_version": "1.5.0",
            "_model_name": "HTMLModel",
            "_view_count": null,
            "_view_module": "@jupyter-widgets/controls",
            "_view_module_version": "1.5.0",
            "_view_name": "HTMLView",
            "description": "",
            "description_tooltip": null,
            "layout": "IPY_MODEL_175c554a97cf4681934b1b3c7716f989",
            "placeholder": "​",
            "style": "IPY_MODEL_3937272461d1412da694a0386fd7067a",
            "value": "Downloading builder script: "
          }
        },
        "551a3f27471e4253987c14b1a9a37c56": {
          "model_module": "@jupyter-widgets/controls",
          "model_name": "FloatProgressModel",
          "model_module_version": "1.5.0",
          "state": {
            "_dom_classes": [],
            "_model_module": "@jupyter-widgets/controls",
            "_model_module_version": "1.5.0",
            "_model_name": "FloatProgressModel",
            "_view_count": null,
            "_view_module": "@jupyter-widgets/controls",
            "_view_module_version": "1.5.0",
            "_view_name": "ProgressView",
            "bar_style": "success",
            "description": "",
            "description_tooltip": null,
            "layout": "IPY_MODEL_553e5a3cc55741b39736d441ae5d37a7",
            "max": 1652,
            "min": 0,
            "orientation": "horizontal",
            "style": "IPY_MODEL_0222f244a8a34dd682093b8248403d44",
            "value": 1652
          }
        },
        "b5f626526f5c4983839c00e879a30246": {
          "model_module": "@jupyter-widgets/controls",
          "model_name": "HTMLModel",
          "model_module_version": "1.5.0",
          "state": {
            "_dom_classes": [],
            "_model_module": "@jupyter-widgets/controls",
            "_model_module_version": "1.5.0",
            "_model_name": "HTMLModel",
            "_view_count": null,
            "_view_module": "@jupyter-widgets/controls",
            "_view_module_version": "1.5.0",
            "_view_name": "HTMLView",
            "description": "",
            "description_tooltip": null,
            "layout": "IPY_MODEL_4019b334be7840acbf73b578f84164dd",
            "placeholder": "​",
            "style": "IPY_MODEL_da511600839d44f18d9c70ce8c7f0bc6",
            "value": " 4.21k/? [00:00&lt;00:00, 83.7kB/s]"
          }
        },
        "3e83d8cd98154adea0a05119973ec1f6": {
          "model_module": "@jupyter-widgets/base",
          "model_name": "LayoutModel",
          "model_module_version": "1.2.0",
          "state": {
            "_model_module": "@jupyter-widgets/base",
            "_model_module_version": "1.2.0",
            "_model_name": "LayoutModel",
            "_view_count": null,
            "_view_module": "@jupyter-widgets/base",
            "_view_module_version": "1.2.0",
            "_view_name": "LayoutView",
            "align_content": null,
            "align_items": null,
            "align_self": null,
            "border": null,
            "bottom": null,
            "display": null,
            "flex": null,
            "flex_flow": null,
            "grid_area": null,
            "grid_auto_columns": null,
            "grid_auto_flow": null,
            "grid_auto_rows": null,
            "grid_column": null,
            "grid_gap": null,
            "grid_row": null,
            "grid_template_areas": null,
            "grid_template_columns": null,
            "grid_template_rows": null,
            "height": null,
            "justify_content": null,
            "justify_items": null,
            "left": null,
            "margin": null,
            "max_height": null,
            "max_width": null,
            "min_height": null,
            "min_width": null,
            "object_fit": null,
            "object_position": null,
            "order": null,
            "overflow": null,
            "overflow_x": null,
            "overflow_y": null,
            "padding": null,
            "right": null,
            "top": null,
            "visibility": null,
            "width": null
          }
        },
        "175c554a97cf4681934b1b3c7716f989": {
          "model_module": "@jupyter-widgets/base",
          "model_name": "LayoutModel",
          "model_module_version": "1.2.0",
          "state": {
            "_model_module": "@jupyter-widgets/base",
            "_model_module_version": "1.2.0",
            "_model_name": "LayoutModel",
            "_view_count": null,
            "_view_module": "@jupyter-widgets/base",
            "_view_module_version": "1.2.0",
            "_view_name": "LayoutView",
            "align_content": null,
            "align_items": null,
            "align_self": null,
            "border": null,
            "bottom": null,
            "display": null,
            "flex": null,
            "flex_flow": null,
            "grid_area": null,
            "grid_auto_columns": null,
            "grid_auto_flow": null,
            "grid_auto_rows": null,
            "grid_column": null,
            "grid_gap": null,
            "grid_row": null,
            "grid_template_areas": null,
            "grid_template_columns": null,
            "grid_template_rows": null,
            "height": null,
            "justify_content": null,
            "justify_items": null,
            "left": null,
            "margin": null,
            "max_height": null,
            "max_width": null,
            "min_height": null,
            "min_width": null,
            "object_fit": null,
            "object_position": null,
            "order": null,
            "overflow": null,
            "overflow_x": null,
            "overflow_y": null,
            "padding": null,
            "right": null,
            "top": null,
            "visibility": null,
            "width": null
          }
        },
        "3937272461d1412da694a0386fd7067a": {
          "model_module": "@jupyter-widgets/controls",
          "model_name": "DescriptionStyleModel",
          "model_module_version": "1.5.0",
          "state": {
            "_model_module": "@jupyter-widgets/controls",
            "_model_module_version": "1.5.0",
            "_model_name": "DescriptionStyleModel",
            "_view_count": null,
            "_view_module": "@jupyter-widgets/base",
            "_view_module_version": "1.2.0",
            "_view_name": "StyleView",
            "description_width": ""
          }
        },
        "553e5a3cc55741b39736d441ae5d37a7": {
          "model_module": "@jupyter-widgets/base",
          "model_name": "LayoutModel",
          "model_module_version": "1.2.0",
          "state": {
            "_model_module": "@jupyter-widgets/base",
            "_model_module_version": "1.2.0",
            "_model_name": "LayoutModel",
            "_view_count": null,
            "_view_module": "@jupyter-widgets/base",
            "_view_module_version": "1.2.0",
            "_view_name": "LayoutView",
            "align_content": null,
            "align_items": null,
            "align_self": null,
            "border": null,
            "bottom": null,
            "display": null,
            "flex": null,
            "flex_flow": null,
            "grid_area": null,
            "grid_auto_columns": null,
            "grid_auto_flow": null,
            "grid_auto_rows": null,
            "grid_column": null,
            "grid_gap": null,
            "grid_row": null,
            "grid_template_areas": null,
            "grid_template_columns": null,
            "grid_template_rows": null,
            "height": null,
            "justify_content": null,
            "justify_items": null,
            "left": null,
            "margin": null,
            "max_height": null,
            "max_width": null,
            "min_height": null,
            "min_width": null,
            "object_fit": null,
            "object_position": null,
            "order": null,
            "overflow": null,
            "overflow_x": null,
            "overflow_y": null,
            "padding": null,
            "right": null,
            "top": null,
            "visibility": null,
            "width": null
          }
        },
        "0222f244a8a34dd682093b8248403d44": {
          "model_module": "@jupyter-widgets/controls",
          "model_name": "ProgressStyleModel",
          "model_module_version": "1.5.0",
          "state": {
            "_model_module": "@jupyter-widgets/controls",
            "_model_module_version": "1.5.0",
            "_model_name": "ProgressStyleModel",
            "_view_count": null,
            "_view_module": "@jupyter-widgets/base",
            "_view_module_version": "1.2.0",
            "_view_name": "StyleView",
            "bar_color": null,
            "description_width": ""
          }
        },
        "4019b334be7840acbf73b578f84164dd": {
          "model_module": "@jupyter-widgets/base",
          "model_name": "LayoutModel",
          "model_module_version": "1.2.0",
          "state": {
            "_model_module": "@jupyter-widgets/base",
            "_model_module_version": "1.2.0",
            "_model_name": "LayoutModel",
            "_view_count": null,
            "_view_module": "@jupyter-widgets/base",
            "_view_module_version": "1.2.0",
            "_view_name": "LayoutView",
            "align_content": null,
            "align_items": null,
            "align_self": null,
            "border": null,
            "bottom": null,
            "display": null,
            "flex": null,
            "flex_flow": null,
            "grid_area": null,
            "grid_auto_columns": null,
            "grid_auto_flow": null,
            "grid_auto_rows": null,
            "grid_column": null,
            "grid_gap": null,
            "grid_row": null,
            "grid_template_areas": null,
            "grid_template_columns": null,
            "grid_template_rows": null,
            "height": null,
            "justify_content": null,
            "justify_items": null,
            "left": null,
            "margin": null,
            "max_height": null,
            "max_width": null,
            "min_height": null,
            "min_width": null,
            "object_fit": null,
            "object_position": null,
            "order": null,
            "overflow": null,
            "overflow_x": null,
            "overflow_y": null,
            "padding": null,
            "right": null,
            "top": null,
            "visibility": null,
            "width": null
          }
        },
        "da511600839d44f18d9c70ce8c7f0bc6": {
          "model_module": "@jupyter-widgets/controls",
          "model_name": "DescriptionStyleModel",
          "model_module_version": "1.5.0",
          "state": {
            "_model_module": "@jupyter-widgets/controls",
            "_model_module_version": "1.5.0",
            "_model_name": "DescriptionStyleModel",
            "_view_count": null,
            "_view_module": "@jupyter-widgets/base",
            "_view_module_version": "1.2.0",
            "_view_name": "StyleView",
            "description_width": ""
          }
        },
        "096651369c0a446a8d9fc6bae13dc20f": {
          "model_module": "@jupyter-widgets/controls",
          "model_name": "HBoxModel",
          "model_module_version": "1.5.0",
          "state": {
            "_dom_classes": [],
            "_model_module": "@jupyter-widgets/controls",
            "_model_module_version": "1.5.0",
            "_model_name": "HBoxModel",
            "_view_count": null,
            "_view_module": "@jupyter-widgets/controls",
            "_view_module_version": "1.5.0",
            "_view_name": "HBoxView",
            "box_style": "",
            "children": [
              "IPY_MODEL_862b1a42ec0947298f16f3683837b908",
              "IPY_MODEL_b6cc8cc74eb640f78297c0348875a132",
              "IPY_MODEL_3d5ebb9cb78e4e57b6d2280a45b991d2"
            ],
            "layout": "IPY_MODEL_8b13ae4c9eb84ccb886bbbe92c28fe0d"
          }
        },
        "862b1a42ec0947298f16f3683837b908": {
          "model_module": "@jupyter-widgets/controls",
          "model_name": "HTMLModel",
          "model_module_version": "1.5.0",
          "state": {
            "_dom_classes": [],
            "_model_module": "@jupyter-widgets/controls",
            "_model_module_version": "1.5.0",
            "_model_name": "HTMLModel",
            "_view_count": null,
            "_view_module": "@jupyter-widgets/controls",
            "_view_module_version": "1.5.0",
            "_view_name": "HTMLView",
            "description": "",
            "description_tooltip": null,
            "layout": "IPY_MODEL_bfcd227c1b60438baaa8dfc111c362aa",
            "placeholder": "​",
            "style": "IPY_MODEL_e6cb12dfb92a4fb28778633d12e92c89",
            "value": "Downloading builder script: "
          }
        },
        "b6cc8cc74eb640f78297c0348875a132": {
          "model_module": "@jupyter-widgets/controls",
          "model_name": "FloatProgressModel",
          "model_module_version": "1.5.0",
          "state": {
            "_dom_classes": [],
            "_model_module": "@jupyter-widgets/controls",
            "_model_module_version": "1.5.0",
            "_model_name": "FloatProgressModel",
            "_view_count": null,
            "_view_module": "@jupyter-widgets/controls",
            "_view_module_version": "1.5.0",
            "_view_name": "ProgressView",
            "bar_style": "success",
            "description": "",
            "description_tooltip": null,
            "layout": "IPY_MODEL_1e4818917add4f918c06d4a6b72c463c",
            "max": 2318,
            "min": 0,
            "orientation": "horizontal",
            "style": "IPY_MODEL_fabd0473a3d94eb9b90e21aeb038768d",
            "value": 2318
          }
        },
        "3d5ebb9cb78e4e57b6d2280a45b991d2": {
          "model_module": "@jupyter-widgets/controls",
          "model_name": "HTMLModel",
          "model_module_version": "1.5.0",
          "state": {
            "_dom_classes": [],
            "_model_module": "@jupyter-widgets/controls",
            "_model_module_version": "1.5.0",
            "_model_name": "HTMLModel",
            "_view_count": null,
            "_view_module": "@jupyter-widgets/controls",
            "_view_module_version": "1.5.0",
            "_view_name": "HTMLView",
            "description": "",
            "description_tooltip": null,
            "layout": "IPY_MODEL_303de96e4a544cb08ac28de884e84184",
            "placeholder": "​",
            "style": "IPY_MODEL_c98237c16c65484ebb9faf3e05cb0b5c",
            "value": " 6.50k/? [00:00&lt;00:00, 162kB/s]"
          }
        },
        "8b13ae4c9eb84ccb886bbbe92c28fe0d": {
          "model_module": "@jupyter-widgets/base",
          "model_name": "LayoutModel",
          "model_module_version": "1.2.0",
          "state": {
            "_model_module": "@jupyter-widgets/base",
            "_model_module_version": "1.2.0",
            "_model_name": "LayoutModel",
            "_view_count": null,
            "_view_module": "@jupyter-widgets/base",
            "_view_module_version": "1.2.0",
            "_view_name": "LayoutView",
            "align_content": null,
            "align_items": null,
            "align_self": null,
            "border": null,
            "bottom": null,
            "display": null,
            "flex": null,
            "flex_flow": null,
            "grid_area": null,
            "grid_auto_columns": null,
            "grid_auto_flow": null,
            "grid_auto_rows": null,
            "grid_column": null,
            "grid_gap": null,
            "grid_row": null,
            "grid_template_areas": null,
            "grid_template_columns": null,
            "grid_template_rows": null,
            "height": null,
            "justify_content": null,
            "justify_items": null,
            "left": null,
            "margin": null,
            "max_height": null,
            "max_width": null,
            "min_height": null,
            "min_width": null,
            "object_fit": null,
            "object_position": null,
            "order": null,
            "overflow": null,
            "overflow_x": null,
            "overflow_y": null,
            "padding": null,
            "right": null,
            "top": null,
            "visibility": null,
            "width": null
          }
        },
        "bfcd227c1b60438baaa8dfc111c362aa": {
          "model_module": "@jupyter-widgets/base",
          "model_name": "LayoutModel",
          "model_module_version": "1.2.0",
          "state": {
            "_model_module": "@jupyter-widgets/base",
            "_model_module_version": "1.2.0",
            "_model_name": "LayoutModel",
            "_view_count": null,
            "_view_module": "@jupyter-widgets/base",
            "_view_module_version": "1.2.0",
            "_view_name": "LayoutView",
            "align_content": null,
            "align_items": null,
            "align_self": null,
            "border": null,
            "bottom": null,
            "display": null,
            "flex": null,
            "flex_flow": null,
            "grid_area": null,
            "grid_auto_columns": null,
            "grid_auto_flow": null,
            "grid_auto_rows": null,
            "grid_column": null,
            "grid_gap": null,
            "grid_row": null,
            "grid_template_areas": null,
            "grid_template_columns": null,
            "grid_template_rows": null,
            "height": null,
            "justify_content": null,
            "justify_items": null,
            "left": null,
            "margin": null,
            "max_height": null,
            "max_width": null,
            "min_height": null,
            "min_width": null,
            "object_fit": null,
            "object_position": null,
            "order": null,
            "overflow": null,
            "overflow_x": null,
            "overflow_y": null,
            "padding": null,
            "right": null,
            "top": null,
            "visibility": null,
            "width": null
          }
        },
        "e6cb12dfb92a4fb28778633d12e92c89": {
          "model_module": "@jupyter-widgets/controls",
          "model_name": "DescriptionStyleModel",
          "model_module_version": "1.5.0",
          "state": {
            "_model_module": "@jupyter-widgets/controls",
            "_model_module_version": "1.5.0",
            "_model_name": "DescriptionStyleModel",
            "_view_count": null,
            "_view_module": "@jupyter-widgets/base",
            "_view_module_version": "1.2.0",
            "_view_name": "StyleView",
            "description_width": ""
          }
        },
        "1e4818917add4f918c06d4a6b72c463c": {
          "model_module": "@jupyter-widgets/base",
          "model_name": "LayoutModel",
          "model_module_version": "1.2.0",
          "state": {
            "_model_module": "@jupyter-widgets/base",
            "_model_module_version": "1.2.0",
            "_model_name": "LayoutModel",
            "_view_count": null,
            "_view_module": "@jupyter-widgets/base",
            "_view_module_version": "1.2.0",
            "_view_name": "LayoutView",
            "align_content": null,
            "align_items": null,
            "align_self": null,
            "border": null,
            "bottom": null,
            "display": null,
            "flex": null,
            "flex_flow": null,
            "grid_area": null,
            "grid_auto_columns": null,
            "grid_auto_flow": null,
            "grid_auto_rows": null,
            "grid_column": null,
            "grid_gap": null,
            "grid_row": null,
            "grid_template_areas": null,
            "grid_template_columns": null,
            "grid_template_rows": null,
            "height": null,
            "justify_content": null,
            "justify_items": null,
            "left": null,
            "margin": null,
            "max_height": null,
            "max_width": null,
            "min_height": null,
            "min_width": null,
            "object_fit": null,
            "object_position": null,
            "order": null,
            "overflow": null,
            "overflow_x": null,
            "overflow_y": null,
            "padding": null,
            "right": null,
            "top": null,
            "visibility": null,
            "width": null
          }
        },
        "fabd0473a3d94eb9b90e21aeb038768d": {
          "model_module": "@jupyter-widgets/controls",
          "model_name": "ProgressStyleModel",
          "model_module_version": "1.5.0",
          "state": {
            "_model_module": "@jupyter-widgets/controls",
            "_model_module_version": "1.5.0",
            "_model_name": "ProgressStyleModel",
            "_view_count": null,
            "_view_module": "@jupyter-widgets/base",
            "_view_module_version": "1.2.0",
            "_view_name": "StyleView",
            "bar_color": null,
            "description_width": ""
          }
        },
        "303de96e4a544cb08ac28de884e84184": {
          "model_module": "@jupyter-widgets/base",
          "model_name": "LayoutModel",
          "model_module_version": "1.2.0",
          "state": {
            "_model_module": "@jupyter-widgets/base",
            "_model_module_version": "1.2.0",
            "_model_name": "LayoutModel",
            "_view_count": null,
            "_view_module": "@jupyter-widgets/base",
            "_view_module_version": "1.2.0",
            "_view_name": "LayoutView",
            "align_content": null,
            "align_items": null,
            "align_self": null,
            "border": null,
            "bottom": null,
            "display": null,
            "flex": null,
            "flex_flow": null,
            "grid_area": null,
            "grid_auto_columns": null,
            "grid_auto_flow": null,
            "grid_auto_rows": null,
            "grid_column": null,
            "grid_gap": null,
            "grid_row": null,
            "grid_template_areas": null,
            "grid_template_columns": null,
            "grid_template_rows": null,
            "height": null,
            "justify_content": null,
            "justify_items": null,
            "left": null,
            "margin": null,
            "max_height": null,
            "max_width": null,
            "min_height": null,
            "min_width": null,
            "object_fit": null,
            "object_position": null,
            "order": null,
            "overflow": null,
            "overflow_x": null,
            "overflow_y": null,
            "padding": null,
            "right": null,
            "top": null,
            "visibility": null,
            "width": null
          }
        },
        "c98237c16c65484ebb9faf3e05cb0b5c": {
          "model_module": "@jupyter-widgets/controls",
          "model_name": "DescriptionStyleModel",
          "model_module_version": "1.5.0",
          "state": {
            "_model_module": "@jupyter-widgets/controls",
            "_model_module_version": "1.5.0",
            "_model_name": "DescriptionStyleModel",
            "_view_count": null,
            "_view_module": "@jupyter-widgets/base",
            "_view_module_version": "1.2.0",
            "_view_name": "StyleView",
            "description_width": ""
          }
        },
        "614d2acd3a9c465291e986fd7c456ec6": {
          "model_module": "@jupyter-widgets/controls",
          "model_name": "HBoxModel",
          "model_module_version": "1.5.0",
          "state": {
            "_dom_classes": [],
            "_model_module": "@jupyter-widgets/controls",
            "_model_module_version": "1.5.0",
            "_model_name": "HBoxModel",
            "_view_count": null,
            "_view_module": "@jupyter-widgets/controls",
            "_view_module_version": "1.5.0",
            "_view_name": "HBoxView",
            "box_style": "",
            "children": [
              "IPY_MODEL_a5de97dec963474a947843c54b3cf5b8",
              "IPY_MODEL_83d862bdf5444333897a2b43ea56cc5b",
              "IPY_MODEL_673c9c970f144fefaade077aaf597967"
            ],
            "layout": "IPY_MODEL_77dfd900fddd46099d2bbca13cba01d2"
          }
        },
        "a5de97dec963474a947843c54b3cf5b8": {
          "model_module": "@jupyter-widgets/controls",
          "model_name": "HTMLModel",
          "model_module_version": "1.5.0",
          "state": {
            "_dom_classes": [],
            "_model_module": "@jupyter-widgets/controls",
            "_model_module_version": "1.5.0",
            "_model_name": "HTMLModel",
            "_view_count": null,
            "_view_module": "@jupyter-widgets/controls",
            "_view_module_version": "1.5.0",
            "_view_name": "HTMLView",
            "description": "",
            "description_tooltip": null,
            "layout": "IPY_MODEL_7a53ec2b585e47d39739737ff587fdc4",
            "placeholder": "​",
            "style": "IPY_MODEL_c9047403a2ff43e49daf9af88f2fad53",
            "value": "Downloading builder script: "
          }
        },
        "83d862bdf5444333897a2b43ea56cc5b": {
          "model_module": "@jupyter-widgets/controls",
          "model_name": "FloatProgressModel",
          "model_module_version": "1.5.0",
          "state": {
            "_dom_classes": [],
            "_model_module": "@jupyter-widgets/controls",
            "_model_module_version": "1.5.0",
            "_model_name": "FloatProgressModel",
            "_view_count": null,
            "_view_module": "@jupyter-widgets/controls",
            "_view_module_version": "1.5.0",
            "_view_name": "ProgressView",
            "bar_style": "success",
            "description": "",
            "description_tooltip": null,
            "layout": "IPY_MODEL_fc4f4e860a2b4199b68a19dc4ca03c0a",
            "max": 2575,
            "min": 0,
            "orientation": "horizontal",
            "style": "IPY_MODEL_686e76e6e019471aad4435ed6c2fa177",
            "value": 2575
          }
        },
        "673c9c970f144fefaade077aaf597967": {
          "model_module": "@jupyter-widgets/controls",
          "model_name": "HTMLModel",
          "model_module_version": "1.5.0",
          "state": {
            "_dom_classes": [],
            "_model_module": "@jupyter-widgets/controls",
            "_model_module_version": "1.5.0",
            "_model_name": "HTMLModel",
            "_view_count": null,
            "_view_module": "@jupyter-widgets/controls",
            "_view_module_version": "1.5.0",
            "_view_name": "HTMLView",
            "description": "",
            "description_tooltip": null,
            "layout": "IPY_MODEL_a4f4e208b79b4691a0d4ef10fe4e7a60",
            "placeholder": "​",
            "style": "IPY_MODEL_3f9d3dcdde5f4758b2e9270f760877a7",
            "value": " 7.55k/? [00:00&lt;00:00, 169kB/s]"
          }
        },
        "77dfd900fddd46099d2bbca13cba01d2": {
          "model_module": "@jupyter-widgets/base",
          "model_name": "LayoutModel",
          "model_module_version": "1.2.0",
          "state": {
            "_model_module": "@jupyter-widgets/base",
            "_model_module_version": "1.2.0",
            "_model_name": "LayoutModel",
            "_view_count": null,
            "_view_module": "@jupyter-widgets/base",
            "_view_module_version": "1.2.0",
            "_view_name": "LayoutView",
            "align_content": null,
            "align_items": null,
            "align_self": null,
            "border": null,
            "bottom": null,
            "display": null,
            "flex": null,
            "flex_flow": null,
            "grid_area": null,
            "grid_auto_columns": null,
            "grid_auto_flow": null,
            "grid_auto_rows": null,
            "grid_column": null,
            "grid_gap": null,
            "grid_row": null,
            "grid_template_areas": null,
            "grid_template_columns": null,
            "grid_template_rows": null,
            "height": null,
            "justify_content": null,
            "justify_items": null,
            "left": null,
            "margin": null,
            "max_height": null,
            "max_width": null,
            "min_height": null,
            "min_width": null,
            "object_fit": null,
            "object_position": null,
            "order": null,
            "overflow": null,
            "overflow_x": null,
            "overflow_y": null,
            "padding": null,
            "right": null,
            "top": null,
            "visibility": null,
            "width": null
          }
        },
        "7a53ec2b585e47d39739737ff587fdc4": {
          "model_module": "@jupyter-widgets/base",
          "model_name": "LayoutModel",
          "model_module_version": "1.2.0",
          "state": {
            "_model_module": "@jupyter-widgets/base",
            "_model_module_version": "1.2.0",
            "_model_name": "LayoutModel",
            "_view_count": null,
            "_view_module": "@jupyter-widgets/base",
            "_view_module_version": "1.2.0",
            "_view_name": "LayoutView",
            "align_content": null,
            "align_items": null,
            "align_self": null,
            "border": null,
            "bottom": null,
            "display": null,
            "flex": null,
            "flex_flow": null,
            "grid_area": null,
            "grid_auto_columns": null,
            "grid_auto_flow": null,
            "grid_auto_rows": null,
            "grid_column": null,
            "grid_gap": null,
            "grid_row": null,
            "grid_template_areas": null,
            "grid_template_columns": null,
            "grid_template_rows": null,
            "height": null,
            "justify_content": null,
            "justify_items": null,
            "left": null,
            "margin": null,
            "max_height": null,
            "max_width": null,
            "min_height": null,
            "min_width": null,
            "object_fit": null,
            "object_position": null,
            "order": null,
            "overflow": null,
            "overflow_x": null,
            "overflow_y": null,
            "padding": null,
            "right": null,
            "top": null,
            "visibility": null,
            "width": null
          }
        },
        "c9047403a2ff43e49daf9af88f2fad53": {
          "model_module": "@jupyter-widgets/controls",
          "model_name": "DescriptionStyleModel",
          "model_module_version": "1.5.0",
          "state": {
            "_model_module": "@jupyter-widgets/controls",
            "_model_module_version": "1.5.0",
            "_model_name": "DescriptionStyleModel",
            "_view_count": null,
            "_view_module": "@jupyter-widgets/base",
            "_view_module_version": "1.2.0",
            "_view_name": "StyleView",
            "description_width": ""
          }
        },
        "fc4f4e860a2b4199b68a19dc4ca03c0a": {
          "model_module": "@jupyter-widgets/base",
          "model_name": "LayoutModel",
          "model_module_version": "1.2.0",
          "state": {
            "_model_module": "@jupyter-widgets/base",
            "_model_module_version": "1.2.0",
            "_model_name": "LayoutModel",
            "_view_count": null,
            "_view_module": "@jupyter-widgets/base",
            "_view_module_version": "1.2.0",
            "_view_name": "LayoutView",
            "align_content": null,
            "align_items": null,
            "align_self": null,
            "border": null,
            "bottom": null,
            "display": null,
            "flex": null,
            "flex_flow": null,
            "grid_area": null,
            "grid_auto_columns": null,
            "grid_auto_flow": null,
            "grid_auto_rows": null,
            "grid_column": null,
            "grid_gap": null,
            "grid_row": null,
            "grid_template_areas": null,
            "grid_template_columns": null,
            "grid_template_rows": null,
            "height": null,
            "justify_content": null,
            "justify_items": null,
            "left": null,
            "margin": null,
            "max_height": null,
            "max_width": null,
            "min_height": null,
            "min_width": null,
            "object_fit": null,
            "object_position": null,
            "order": null,
            "overflow": null,
            "overflow_x": null,
            "overflow_y": null,
            "padding": null,
            "right": null,
            "top": null,
            "visibility": null,
            "width": null
          }
        },
        "686e76e6e019471aad4435ed6c2fa177": {
          "model_module": "@jupyter-widgets/controls",
          "model_name": "ProgressStyleModel",
          "model_module_version": "1.5.0",
          "state": {
            "_model_module": "@jupyter-widgets/controls",
            "_model_module_version": "1.5.0",
            "_model_name": "ProgressStyleModel",
            "_view_count": null,
            "_view_module": "@jupyter-widgets/base",
            "_view_module_version": "1.2.0",
            "_view_name": "StyleView",
            "bar_color": null,
            "description_width": ""
          }
        },
        "a4f4e208b79b4691a0d4ef10fe4e7a60": {
          "model_module": "@jupyter-widgets/base",
          "model_name": "LayoutModel",
          "model_module_version": "1.2.0",
          "state": {
            "_model_module": "@jupyter-widgets/base",
            "_model_module_version": "1.2.0",
            "_model_name": "LayoutModel",
            "_view_count": null,
            "_view_module": "@jupyter-widgets/base",
            "_view_module_version": "1.2.0",
            "_view_name": "LayoutView",
            "align_content": null,
            "align_items": null,
            "align_self": null,
            "border": null,
            "bottom": null,
            "display": null,
            "flex": null,
            "flex_flow": null,
            "grid_area": null,
            "grid_auto_columns": null,
            "grid_auto_flow": null,
            "grid_auto_rows": null,
            "grid_column": null,
            "grid_gap": null,
            "grid_row": null,
            "grid_template_areas": null,
            "grid_template_columns": null,
            "grid_template_rows": null,
            "height": null,
            "justify_content": null,
            "justify_items": null,
            "left": null,
            "margin": null,
            "max_height": null,
            "max_width": null,
            "min_height": null,
            "min_width": null,
            "object_fit": null,
            "object_position": null,
            "order": null,
            "overflow": null,
            "overflow_x": null,
            "overflow_y": null,
            "padding": null,
            "right": null,
            "top": null,
            "visibility": null,
            "width": null
          }
        },
        "3f9d3dcdde5f4758b2e9270f760877a7": {
          "model_module": "@jupyter-widgets/controls",
          "model_name": "DescriptionStyleModel",
          "model_module_version": "1.5.0",
          "state": {
            "_model_module": "@jupyter-widgets/controls",
            "_model_module_version": "1.5.0",
            "_model_name": "DescriptionStyleModel",
            "_view_count": null,
            "_view_module": "@jupyter-widgets/base",
            "_view_module_version": "1.2.0",
            "_view_name": "StyleView",
            "description_width": ""
          }
        },
        "e33dbe2917c74b4fbfdbe00cdfabd1e9": {
          "model_module": "@jupyter-widgets/controls",
          "model_name": "HBoxModel",
          "model_module_version": "1.5.0",
          "state": {
            "_dom_classes": [],
            "_model_module": "@jupyter-widgets/controls",
            "_model_module_version": "1.5.0",
            "_model_name": "HBoxModel",
            "_view_count": null,
            "_view_module": "@jupyter-widgets/controls",
            "_view_module_version": "1.5.0",
            "_view_name": "HBoxView",
            "box_style": "",
            "children": [
              "IPY_MODEL_e6e9edb8b5aa4d2ebc51cff1000bdb51",
              "IPY_MODEL_f86a71e23cae47e4830b5cefaa87214c",
              "IPY_MODEL_b068805c976943339789435d619679a0"
            ],
            "layout": "IPY_MODEL_9953b26226ea40848ec71e2448ea8172"
          }
        },
        "e6e9edb8b5aa4d2ebc51cff1000bdb51": {
          "model_module": "@jupyter-widgets/controls",
          "model_name": "HTMLModel",
          "model_module_version": "1.5.0",
          "state": {
            "_dom_classes": [],
            "_model_module": "@jupyter-widgets/controls",
            "_model_module_version": "1.5.0",
            "_model_name": "HTMLModel",
            "_view_count": null,
            "_view_module": "@jupyter-widgets/controls",
            "_view_module_version": "1.5.0",
            "_view_name": "HTMLView",
            "description": "",
            "description_tooltip": null,
            "layout": "IPY_MODEL_7af446d5f48b43f7893a99174cc5537b",
            "placeholder": "​",
            "style": "IPY_MODEL_98058281335942b38553e17c910e51c0",
            "value": "Downloading builder script: "
          }
        },
        "f86a71e23cae47e4830b5cefaa87214c": {
          "model_module": "@jupyter-widgets/controls",
          "model_name": "FloatProgressModel",
          "model_module_version": "1.5.0",
          "state": {
            "_dom_classes": [],
            "_model_module": "@jupyter-widgets/controls",
            "_model_module_version": "1.5.0",
            "_model_name": "FloatProgressModel",
            "_view_count": null,
            "_view_module": "@jupyter-widgets/controls",
            "_view_module_version": "1.5.0",
            "_view_name": "ProgressView",
            "bar_style": "success",
            "description": "",
            "description_tooltip": null,
            "layout": "IPY_MODEL_23c52bd1591e4833b0d93fd2b45f2d09",
            "max": 2524,
            "min": 0,
            "orientation": "horizontal",
            "style": "IPY_MODEL_f70c7101eeb6401386b6b88c816ba7d6",
            "value": 2524
          }
        },
        "b068805c976943339789435d619679a0": {
          "model_module": "@jupyter-widgets/controls",
          "model_name": "HTMLModel",
          "model_module_version": "1.5.0",
          "state": {
            "_dom_classes": [],
            "_model_module": "@jupyter-widgets/controls",
            "_model_module_version": "1.5.0",
            "_model_name": "HTMLModel",
            "_view_count": null,
            "_view_module": "@jupyter-widgets/controls",
            "_view_module_version": "1.5.0",
            "_view_name": "HTMLView",
            "description": "",
            "description_tooltip": null,
            "layout": "IPY_MODEL_25a0e330fae04c42b0251d91a2d34323",
            "placeholder": "​",
            "style": "IPY_MODEL_a4c163acd6c14fc3a17bb67cb22150cc",
            "value": " 7.38k/? [00:00&lt;00:00, 117kB/s]"
          }
        },
        "9953b26226ea40848ec71e2448ea8172": {
          "model_module": "@jupyter-widgets/base",
          "model_name": "LayoutModel",
          "model_module_version": "1.2.0",
          "state": {
            "_model_module": "@jupyter-widgets/base",
            "_model_module_version": "1.2.0",
            "_model_name": "LayoutModel",
            "_view_count": null,
            "_view_module": "@jupyter-widgets/base",
            "_view_module_version": "1.2.0",
            "_view_name": "LayoutView",
            "align_content": null,
            "align_items": null,
            "align_self": null,
            "border": null,
            "bottom": null,
            "display": null,
            "flex": null,
            "flex_flow": null,
            "grid_area": null,
            "grid_auto_columns": null,
            "grid_auto_flow": null,
            "grid_auto_rows": null,
            "grid_column": null,
            "grid_gap": null,
            "grid_row": null,
            "grid_template_areas": null,
            "grid_template_columns": null,
            "grid_template_rows": null,
            "height": null,
            "justify_content": null,
            "justify_items": null,
            "left": null,
            "margin": null,
            "max_height": null,
            "max_width": null,
            "min_height": null,
            "min_width": null,
            "object_fit": null,
            "object_position": null,
            "order": null,
            "overflow": null,
            "overflow_x": null,
            "overflow_y": null,
            "padding": null,
            "right": null,
            "top": null,
            "visibility": null,
            "width": null
          }
        },
        "7af446d5f48b43f7893a99174cc5537b": {
          "model_module": "@jupyter-widgets/base",
          "model_name": "LayoutModel",
          "model_module_version": "1.2.0",
          "state": {
            "_model_module": "@jupyter-widgets/base",
            "_model_module_version": "1.2.0",
            "_model_name": "LayoutModel",
            "_view_count": null,
            "_view_module": "@jupyter-widgets/base",
            "_view_module_version": "1.2.0",
            "_view_name": "LayoutView",
            "align_content": null,
            "align_items": null,
            "align_self": null,
            "border": null,
            "bottom": null,
            "display": null,
            "flex": null,
            "flex_flow": null,
            "grid_area": null,
            "grid_auto_columns": null,
            "grid_auto_flow": null,
            "grid_auto_rows": null,
            "grid_column": null,
            "grid_gap": null,
            "grid_row": null,
            "grid_template_areas": null,
            "grid_template_columns": null,
            "grid_template_rows": null,
            "height": null,
            "justify_content": null,
            "justify_items": null,
            "left": null,
            "margin": null,
            "max_height": null,
            "max_width": null,
            "min_height": null,
            "min_width": null,
            "object_fit": null,
            "object_position": null,
            "order": null,
            "overflow": null,
            "overflow_x": null,
            "overflow_y": null,
            "padding": null,
            "right": null,
            "top": null,
            "visibility": null,
            "width": null
          }
        },
        "98058281335942b38553e17c910e51c0": {
          "model_module": "@jupyter-widgets/controls",
          "model_name": "DescriptionStyleModel",
          "model_module_version": "1.5.0",
          "state": {
            "_model_module": "@jupyter-widgets/controls",
            "_model_module_version": "1.5.0",
            "_model_name": "DescriptionStyleModel",
            "_view_count": null,
            "_view_module": "@jupyter-widgets/base",
            "_view_module_version": "1.2.0",
            "_view_name": "StyleView",
            "description_width": ""
          }
        },
        "23c52bd1591e4833b0d93fd2b45f2d09": {
          "model_module": "@jupyter-widgets/base",
          "model_name": "LayoutModel",
          "model_module_version": "1.2.0",
          "state": {
            "_model_module": "@jupyter-widgets/base",
            "_model_module_version": "1.2.0",
            "_model_name": "LayoutModel",
            "_view_count": null,
            "_view_module": "@jupyter-widgets/base",
            "_view_module_version": "1.2.0",
            "_view_name": "LayoutView",
            "align_content": null,
            "align_items": null,
            "align_self": null,
            "border": null,
            "bottom": null,
            "display": null,
            "flex": null,
            "flex_flow": null,
            "grid_area": null,
            "grid_auto_columns": null,
            "grid_auto_flow": null,
            "grid_auto_rows": null,
            "grid_column": null,
            "grid_gap": null,
            "grid_row": null,
            "grid_template_areas": null,
            "grid_template_columns": null,
            "grid_template_rows": null,
            "height": null,
            "justify_content": null,
            "justify_items": null,
            "left": null,
            "margin": null,
            "max_height": null,
            "max_width": null,
            "min_height": null,
            "min_width": null,
            "object_fit": null,
            "object_position": null,
            "order": null,
            "overflow": null,
            "overflow_x": null,
            "overflow_y": null,
            "padding": null,
            "right": null,
            "top": null,
            "visibility": null,
            "width": null
          }
        },
        "f70c7101eeb6401386b6b88c816ba7d6": {
          "model_module": "@jupyter-widgets/controls",
          "model_name": "ProgressStyleModel",
          "model_module_version": "1.5.0",
          "state": {
            "_model_module": "@jupyter-widgets/controls",
            "_model_module_version": "1.5.0",
            "_model_name": "ProgressStyleModel",
            "_view_count": null,
            "_view_module": "@jupyter-widgets/base",
            "_view_module_version": "1.2.0",
            "_view_name": "StyleView",
            "bar_color": null,
            "description_width": ""
          }
        },
        "25a0e330fae04c42b0251d91a2d34323": {
          "model_module": "@jupyter-widgets/base",
          "model_name": "LayoutModel",
          "model_module_version": "1.2.0",
          "state": {
            "_model_module": "@jupyter-widgets/base",
            "_model_module_version": "1.2.0",
            "_model_name": "LayoutModel",
            "_view_count": null,
            "_view_module": "@jupyter-widgets/base",
            "_view_module_version": "1.2.0",
            "_view_name": "LayoutView",
            "align_content": null,
            "align_items": null,
            "align_self": null,
            "border": null,
            "bottom": null,
            "display": null,
            "flex": null,
            "flex_flow": null,
            "grid_area": null,
            "grid_auto_columns": null,
            "grid_auto_flow": null,
            "grid_auto_rows": null,
            "grid_column": null,
            "grid_gap": null,
            "grid_row": null,
            "grid_template_areas": null,
            "grid_template_columns": null,
            "grid_template_rows": null,
            "height": null,
            "justify_content": null,
            "justify_items": null,
            "left": null,
            "margin": null,
            "max_height": null,
            "max_width": null,
            "min_height": null,
            "min_width": null,
            "object_fit": null,
            "object_position": null,
            "order": null,
            "overflow": null,
            "overflow_x": null,
            "overflow_y": null,
            "padding": null,
            "right": null,
            "top": null,
            "visibility": null,
            "width": null
          }
        },
        "a4c163acd6c14fc3a17bb67cb22150cc": {
          "model_module": "@jupyter-widgets/controls",
          "model_name": "DescriptionStyleModel",
          "model_module_version": "1.5.0",
          "state": {
            "_model_module": "@jupyter-widgets/controls",
            "_model_module_version": "1.5.0",
            "_model_name": "DescriptionStyleModel",
            "_view_count": null,
            "_view_module": "@jupyter-widgets/base",
            "_view_module_version": "1.2.0",
            "_view_name": "StyleView",
            "description_width": ""
          }
        },
        "0b4822ee7e0f4aeda4be1b7746a6bf74": {
          "model_module": "@jupyter-widgets/controls",
          "model_name": "HBoxModel",
          "model_module_version": "1.5.0",
          "state": {
            "_dom_classes": [],
            "_model_module": "@jupyter-widgets/controls",
            "_model_module_version": "1.5.0",
            "_model_name": "HBoxModel",
            "_view_count": null,
            "_view_module": "@jupyter-widgets/controls",
            "_view_module_version": "1.5.0",
            "_view_name": "HBoxView",
            "box_style": "",
            "children": [
              "IPY_MODEL_677e9575b4234469b45481a05a930339",
              "IPY_MODEL_1b9672d3b88c472d97ea4eb061c666b1",
              "IPY_MODEL_6808fe305e264208a61d4e7339023130"
            ],
            "layout": "IPY_MODEL_897c2323cb57473a991b1c6c882b6c65"
          }
        },
        "677e9575b4234469b45481a05a930339": {
          "model_module": "@jupyter-widgets/controls",
          "model_name": "HTMLModel",
          "model_module_version": "1.5.0",
          "state": {
            "_dom_classes": [],
            "_model_module": "@jupyter-widgets/controls",
            "_model_module_version": "1.5.0",
            "_model_name": "HTMLModel",
            "_view_count": null,
            "_view_module": "@jupyter-widgets/controls",
            "_view_module_version": "1.5.0",
            "_view_name": "HTMLView",
            "description": "",
            "description_tooltip": null,
            "layout": "IPY_MODEL_1b74df79023e469cb7e3f7ef3799acff",
            "placeholder": "​",
            "style": "IPY_MODEL_63fb7a9d1fe74aeeb78b6472c353bde2",
            "value": "Downloading pytorch_model.bin: 100%"
          }
        },
        "1b9672d3b88c472d97ea4eb061c666b1": {
          "model_module": "@jupyter-widgets/controls",
          "model_name": "FloatProgressModel",
          "model_module_version": "1.5.0",
          "state": {
            "_dom_classes": [],
            "_model_module": "@jupyter-widgets/controls",
            "_model_module_version": "1.5.0",
            "_model_name": "FloatProgressModel",
            "_view_count": null,
            "_view_module": "@jupyter-widgets/controls",
            "_view_module_version": "1.5.0",
            "_view_name": "ProgressView",
            "bar_style": "success",
            "description": "",
            "description_tooltip": null,
            "layout": "IPY_MODEL_c106acc26f974e1cb976050820284973",
            "max": 438010997,
            "min": 0,
            "orientation": "horizontal",
            "style": "IPY_MODEL_3a4b2ea617304ca39acdf5bb4abe18bb",
            "value": 438010997
          }
        },
        "6808fe305e264208a61d4e7339023130": {
          "model_module": "@jupyter-widgets/controls",
          "model_name": "HTMLModel",
          "model_module_version": "1.5.0",
          "state": {
            "_dom_classes": [],
            "_model_module": "@jupyter-widgets/controls",
            "_model_module_version": "1.5.0",
            "_model_name": "HTMLModel",
            "_view_count": null,
            "_view_module": "@jupyter-widgets/controls",
            "_view_module_version": "1.5.0",
            "_view_name": "HTMLView",
            "description": "",
            "description_tooltip": null,
            "layout": "IPY_MODEL_3aac351c7d1c4d05bcca827ffe1d6c46",
            "placeholder": "​",
            "style": "IPY_MODEL_a723072bca3544ef88b04edae98b2d81",
            "value": " 438M/438M [00:07&lt;00:00, 50.0MB/s]"
          }
        },
        "897c2323cb57473a991b1c6c882b6c65": {
          "model_module": "@jupyter-widgets/base",
          "model_name": "LayoutModel",
          "model_module_version": "1.2.0",
          "state": {
            "_model_module": "@jupyter-widgets/base",
            "_model_module_version": "1.2.0",
            "_model_name": "LayoutModel",
            "_view_count": null,
            "_view_module": "@jupyter-widgets/base",
            "_view_module_version": "1.2.0",
            "_view_name": "LayoutView",
            "align_content": null,
            "align_items": null,
            "align_self": null,
            "border": null,
            "bottom": null,
            "display": null,
            "flex": null,
            "flex_flow": null,
            "grid_area": null,
            "grid_auto_columns": null,
            "grid_auto_flow": null,
            "grid_auto_rows": null,
            "grid_column": null,
            "grid_gap": null,
            "grid_row": null,
            "grid_template_areas": null,
            "grid_template_columns": null,
            "grid_template_rows": null,
            "height": null,
            "justify_content": null,
            "justify_items": null,
            "left": null,
            "margin": null,
            "max_height": null,
            "max_width": null,
            "min_height": null,
            "min_width": null,
            "object_fit": null,
            "object_position": null,
            "order": null,
            "overflow": null,
            "overflow_x": null,
            "overflow_y": null,
            "padding": null,
            "right": null,
            "top": null,
            "visibility": null,
            "width": null
          }
        },
        "1b74df79023e469cb7e3f7ef3799acff": {
          "model_module": "@jupyter-widgets/base",
          "model_name": "LayoutModel",
          "model_module_version": "1.2.0",
          "state": {
            "_model_module": "@jupyter-widgets/base",
            "_model_module_version": "1.2.0",
            "_model_name": "LayoutModel",
            "_view_count": null,
            "_view_module": "@jupyter-widgets/base",
            "_view_module_version": "1.2.0",
            "_view_name": "LayoutView",
            "align_content": null,
            "align_items": null,
            "align_self": null,
            "border": null,
            "bottom": null,
            "display": null,
            "flex": null,
            "flex_flow": null,
            "grid_area": null,
            "grid_auto_columns": null,
            "grid_auto_flow": null,
            "grid_auto_rows": null,
            "grid_column": null,
            "grid_gap": null,
            "grid_row": null,
            "grid_template_areas": null,
            "grid_template_columns": null,
            "grid_template_rows": null,
            "height": null,
            "justify_content": null,
            "justify_items": null,
            "left": null,
            "margin": null,
            "max_height": null,
            "max_width": null,
            "min_height": null,
            "min_width": null,
            "object_fit": null,
            "object_position": null,
            "order": null,
            "overflow": null,
            "overflow_x": null,
            "overflow_y": null,
            "padding": null,
            "right": null,
            "top": null,
            "visibility": null,
            "width": null
          }
        },
        "63fb7a9d1fe74aeeb78b6472c353bde2": {
          "model_module": "@jupyter-widgets/controls",
          "model_name": "DescriptionStyleModel",
          "model_module_version": "1.5.0",
          "state": {
            "_model_module": "@jupyter-widgets/controls",
            "_model_module_version": "1.5.0",
            "_model_name": "DescriptionStyleModel",
            "_view_count": null,
            "_view_module": "@jupyter-widgets/base",
            "_view_module_version": "1.2.0",
            "_view_name": "StyleView",
            "description_width": ""
          }
        },
        "c106acc26f974e1cb976050820284973": {
          "model_module": "@jupyter-widgets/base",
          "model_name": "LayoutModel",
          "model_module_version": "1.2.0",
          "state": {
            "_model_module": "@jupyter-widgets/base",
            "_model_module_version": "1.2.0",
            "_model_name": "LayoutModel",
            "_view_count": null,
            "_view_module": "@jupyter-widgets/base",
            "_view_module_version": "1.2.0",
            "_view_name": "LayoutView",
            "align_content": null,
            "align_items": null,
            "align_self": null,
            "border": null,
            "bottom": null,
            "display": null,
            "flex": null,
            "flex_flow": null,
            "grid_area": null,
            "grid_auto_columns": null,
            "grid_auto_flow": null,
            "grid_auto_rows": null,
            "grid_column": null,
            "grid_gap": null,
            "grid_row": null,
            "grid_template_areas": null,
            "grid_template_columns": null,
            "grid_template_rows": null,
            "height": null,
            "justify_content": null,
            "justify_items": null,
            "left": null,
            "margin": null,
            "max_height": null,
            "max_width": null,
            "min_height": null,
            "min_width": null,
            "object_fit": null,
            "object_position": null,
            "order": null,
            "overflow": null,
            "overflow_x": null,
            "overflow_y": null,
            "padding": null,
            "right": null,
            "top": null,
            "visibility": null,
            "width": null
          }
        },
        "3a4b2ea617304ca39acdf5bb4abe18bb": {
          "model_module": "@jupyter-widgets/controls",
          "model_name": "ProgressStyleModel",
          "model_module_version": "1.5.0",
          "state": {
            "_model_module": "@jupyter-widgets/controls",
            "_model_module_version": "1.5.0",
            "_model_name": "ProgressStyleModel",
            "_view_count": null,
            "_view_module": "@jupyter-widgets/base",
            "_view_module_version": "1.2.0",
            "_view_name": "StyleView",
            "bar_color": null,
            "description_width": ""
          }
        },
        "3aac351c7d1c4d05bcca827ffe1d6c46": {
          "model_module": "@jupyter-widgets/base",
          "model_name": "LayoutModel",
          "model_module_version": "1.2.0",
          "state": {
            "_model_module": "@jupyter-widgets/base",
            "_model_module_version": "1.2.0",
            "_model_name": "LayoutModel",
            "_view_count": null,
            "_view_module": "@jupyter-widgets/base",
            "_view_module_version": "1.2.0",
            "_view_name": "LayoutView",
            "align_content": null,
            "align_items": null,
            "align_self": null,
            "border": null,
            "bottom": null,
            "display": null,
            "flex": null,
            "flex_flow": null,
            "grid_area": null,
            "grid_auto_columns": null,
            "grid_auto_flow": null,
            "grid_auto_rows": null,
            "grid_column": null,
            "grid_gap": null,
            "grid_row": null,
            "grid_template_areas": null,
            "grid_template_columns": null,
            "grid_template_rows": null,
            "height": null,
            "justify_content": null,
            "justify_items": null,
            "left": null,
            "margin": null,
            "max_height": null,
            "max_width": null,
            "min_height": null,
            "min_width": null,
            "object_fit": null,
            "object_position": null,
            "order": null,
            "overflow": null,
            "overflow_x": null,
            "overflow_y": null,
            "padding": null,
            "right": null,
            "top": null,
            "visibility": null,
            "width": null
          }
        },
        "a723072bca3544ef88b04edae98b2d81": {
          "model_module": "@jupyter-widgets/controls",
          "model_name": "DescriptionStyleModel",
          "model_module_version": "1.5.0",
          "state": {
            "_model_module": "@jupyter-widgets/controls",
            "_model_module_version": "1.5.0",
            "_model_name": "DescriptionStyleModel",
            "_view_count": null,
            "_view_module": "@jupyter-widgets/base",
            "_view_module_version": "1.2.0",
            "_view_name": "StyleView",
            "description_width": ""
          }
        }
      }
    }
  },
  "cells": [
    {
      "cell_type": "code",
      "execution_count": 1,
      "metadata": {
        "colab": {
          "base_uri": "https://localhost:8080/"
        },
        "id": "uLAozfXgtniW",
        "outputId": "46cd78dd-dca9-48b6-b1b0-5ca580ba0f4f"
      },
      "outputs": [
        {
          "output_type": "stream",
          "name": "stdout",
          "text": [
            "Looking in indexes: https://pypi.org/simple, https://us-python.pkg.dev/colab-wheels/public/simple/\n",
            "Requirement already satisfied: transformers in /usr/local/lib/python3.10/dist-packages (4.30.2)\n",
            "Requirement already satisfied: datasets in /usr/local/lib/python3.10/dist-packages (2.13.0)\n",
            "Requirement already satisfied: huggingface_hub in /usr/local/lib/python3.10/dist-packages (0.15.1)\n",
            "Requirement already satisfied: tensorboard in /usr/local/lib/python3.10/dist-packages (2.13.0)\n",
            "Requirement already satisfied: torchinfo in /usr/local/lib/python3.10/dist-packages (1.8.0)\n",
            "Requirement already satisfied: filelock in /usr/local/lib/python3.10/dist-packages (from transformers) (3.12.0)\n",
            "Requirement already satisfied: numpy>=1.17 in /usr/local/lib/python3.10/dist-packages (from transformers) (1.22.4)\n",
            "Requirement already satisfied: packaging>=20.0 in /usr/local/lib/python3.10/dist-packages (from transformers) (23.1)\n",
            "Requirement already satisfied: pyyaml>=5.1 in /usr/local/lib/python3.10/dist-packages (from transformers) (6.0)\n",
            "Requirement already satisfied: regex!=2019.12.17 in /usr/local/lib/python3.10/dist-packages (from transformers) (2022.10.31)\n",
            "Requirement already satisfied: requests in /usr/local/lib/python3.10/dist-packages (from transformers) (2.27.1)\n",
            "Requirement already satisfied: tokenizers!=0.11.3,<0.14,>=0.11.1 in /usr/local/lib/python3.10/dist-packages (from transformers) (0.13.3)\n",
            "Requirement already satisfied: safetensors>=0.3.1 in /usr/local/lib/python3.10/dist-packages (from transformers) (0.3.1)\n",
            "Requirement already satisfied: tqdm>=4.27 in /usr/local/lib/python3.10/dist-packages (from transformers) (4.65.0)\n",
            "Requirement already satisfied: pyarrow>=8.0.0 in /usr/local/lib/python3.10/dist-packages (from datasets) (9.0.0)\n",
            "Requirement already satisfied: dill<0.3.7,>=0.3.0 in /usr/local/lib/python3.10/dist-packages (from datasets) (0.3.6)\n",
            "Requirement already satisfied: pandas in /usr/local/lib/python3.10/dist-packages (from datasets) (1.5.3)\n",
            "Requirement already satisfied: xxhash in /usr/local/lib/python3.10/dist-packages (from datasets) (3.2.0)\n",
            "Requirement already satisfied: multiprocess in /usr/local/lib/python3.10/dist-packages (from datasets) (0.70.14)\n",
            "Requirement already satisfied: fsspec[http]>=2021.11.1 in /usr/local/lib/python3.10/dist-packages (from datasets) (2023.4.0)\n",
            "Requirement already satisfied: aiohttp in /usr/local/lib/python3.10/dist-packages (from datasets) (3.8.4)\n",
            "Requirement already satisfied: typing-extensions>=3.7.4.3 in /usr/local/lib/python3.10/dist-packages (from huggingface_hub) (4.5.0)\n",
            "Requirement already satisfied: absl-py>=0.4 in /usr/local/lib/python3.10/dist-packages (from tensorboard) (1.4.0)\n",
            "Requirement already satisfied: grpcio>=1.48.2 in /usr/local/lib/python3.10/dist-packages (from tensorboard) (1.54.0)\n",
            "Requirement already satisfied: google-auth<3,>=1.6.3 in /usr/local/lib/python3.10/dist-packages (from tensorboard) (2.17.3)\n",
            "Requirement already satisfied: google-auth-oauthlib<1.1,>=0.5 in /usr/local/lib/python3.10/dist-packages (from tensorboard) (1.0.0)\n",
            "Requirement already satisfied: markdown>=2.6.8 in /usr/local/lib/python3.10/dist-packages (from tensorboard) (3.4.3)\n",
            "Requirement already satisfied: protobuf>=3.19.6 in /usr/local/lib/python3.10/dist-packages (from tensorboard) (3.20.3)\n",
            "Requirement already satisfied: setuptools>=41.0.0 in /usr/local/lib/python3.10/dist-packages (from tensorboard) (67.7.2)\n",
            "Requirement already satisfied: tensorboard-data-server<0.8.0,>=0.7.0 in /usr/local/lib/python3.10/dist-packages (from tensorboard) (0.7.0)\n",
            "Requirement already satisfied: werkzeug>=1.0.1 in /usr/local/lib/python3.10/dist-packages (from tensorboard) (2.3.0)\n",
            "Requirement already satisfied: wheel>=0.26 in /usr/local/lib/python3.10/dist-packages (from tensorboard) (0.40.0)\n",
            "Requirement already satisfied: attrs>=17.3.0 in /usr/local/lib/python3.10/dist-packages (from aiohttp->datasets) (23.1.0)\n",
            "Requirement already satisfied: charset-normalizer<4.0,>=2.0 in /usr/local/lib/python3.10/dist-packages (from aiohttp->datasets) (2.0.12)\n",
            "Requirement already satisfied: multidict<7.0,>=4.5 in /usr/local/lib/python3.10/dist-packages (from aiohttp->datasets) (6.0.4)\n",
            "Requirement already satisfied: async-timeout<5.0,>=4.0.0a3 in /usr/local/lib/python3.10/dist-packages (from aiohttp->datasets) (4.0.2)\n",
            "Requirement already satisfied: yarl<2.0,>=1.0 in /usr/local/lib/python3.10/dist-packages (from aiohttp->datasets) (1.9.2)\n",
            "Requirement already satisfied: frozenlist>=1.1.1 in /usr/local/lib/python3.10/dist-packages (from aiohttp->datasets) (1.3.3)\n",
            "Requirement already satisfied: aiosignal>=1.1.2 in /usr/local/lib/python3.10/dist-packages (from aiohttp->datasets) (1.3.1)\n",
            "Requirement already satisfied: cachetools<6.0,>=2.0.0 in /usr/local/lib/python3.10/dist-packages (from google-auth<3,>=1.6.3->tensorboard) (5.3.0)\n",
            "Requirement already satisfied: pyasn1-modules>=0.2.1 in /usr/local/lib/python3.10/dist-packages (from google-auth<3,>=1.6.3->tensorboard) (0.3.0)\n",
            "Requirement already satisfied: six>=1.9.0 in /usr/local/lib/python3.10/dist-packages (from google-auth<3,>=1.6.3->tensorboard) (1.16.0)\n",
            "Requirement already satisfied: rsa<5,>=3.1.4 in /usr/local/lib/python3.10/dist-packages (from google-auth<3,>=1.6.3->tensorboard) (4.9)\n",
            "Requirement already satisfied: requests-oauthlib>=0.7.0 in /usr/local/lib/python3.10/dist-packages (from google-auth-oauthlib<1.1,>=0.5->tensorboard) (1.3.1)\n",
            "Requirement already satisfied: urllib3<1.27,>=1.21.1 in /usr/local/lib/python3.10/dist-packages (from requests->transformers) (1.26.15)\n",
            "Requirement already satisfied: certifi>=2017.4.17 in /usr/local/lib/python3.10/dist-packages (from requests->transformers) (2022.12.7)\n",
            "Requirement already satisfied: idna<4,>=2.5 in /usr/local/lib/python3.10/dist-packages (from requests->transformers) (3.4)\n",
            "Requirement already satisfied: MarkupSafe>=2.1.1 in /usr/local/lib/python3.10/dist-packages (from werkzeug>=1.0.1->tensorboard) (2.1.2)\n",
            "Requirement already satisfied: python-dateutil>=2.8.1 in /usr/local/lib/python3.10/dist-packages (from pandas->datasets) (2.8.2)\n",
            "Requirement already satisfied: pytz>=2020.1 in /usr/local/lib/python3.10/dist-packages (from pandas->datasets) (2022.7.1)\n",
            "Requirement already satisfied: pyasn1<0.6.0,>=0.4.6 in /usr/local/lib/python3.10/dist-packages (from pyasn1-modules>=0.2.1->google-auth<3,>=1.6.3->tensorboard) (0.5.0)\n",
            "Requirement already satisfied: oauthlib>=3.0.0 in /usr/local/lib/python3.10/dist-packages (from requests-oauthlib>=0.7.0->google-auth-oauthlib<1.1,>=0.5->tensorboard) (3.2.2)\n"
          ]
        }
      ],
      "source": [
        "# Install huggingface libraries\n",
        "%pip install transformers datasets huggingface_hub tensorboard torchinfo --upgrade"
      ]
    },
    {
      "cell_type": "code",
      "source": [
        "!pip uninstall -y transformers accelerate\n",
        "!pip install transformers accelerate"
      ],
      "metadata": {
        "colab": {
          "base_uri": "https://localhost:8080/"
        },
        "id": "eXnXD1A2FHDq",
        "outputId": "2aa42493-4585-4aef-c8a8-d688e63fdd82"
      },
      "execution_count": 2,
      "outputs": [
        {
          "output_type": "stream",
          "name": "stdout",
          "text": [
            "Found existing installation: transformers 4.30.2\n",
            "Uninstalling transformers-4.30.2:\n",
            "  Successfully uninstalled transformers-4.30.2\n",
            "\u001b[33mWARNING: Skipping accelerate as it is not installed.\u001b[0m\u001b[33m\n",
            "\u001b[0mLooking in indexes: https://pypi.org/simple, https://us-python.pkg.dev/colab-wheels/public/simple/\n",
            "Collecting transformers\n",
            "  Using cached transformers-4.30.2-py3-none-any.whl (7.2 MB)\n",
            "Collecting accelerate\n",
            "  Downloading accelerate-0.20.3-py3-none-any.whl (227 kB)\n",
            "\u001b[2K     \u001b[90m━━━━━━━━━━━━━━━━━━━━━━━━━━━━━━━━━━━━━━━\u001b[0m \u001b[32m227.6/227.6 kB\u001b[0m \u001b[31m5.1 MB/s\u001b[0m eta \u001b[36m0:00:00\u001b[0m\n",
            "\u001b[?25hRequirement already satisfied: filelock in /usr/local/lib/python3.10/dist-packages (from transformers) (3.12.0)\n",
            "Requirement already satisfied: huggingface-hub<1.0,>=0.14.1 in /usr/local/lib/python3.10/dist-packages (from transformers) (0.15.1)\n",
            "Requirement already satisfied: numpy>=1.17 in /usr/local/lib/python3.10/dist-packages (from transformers) (1.22.4)\n",
            "Requirement already satisfied: packaging>=20.0 in /usr/local/lib/python3.10/dist-packages (from transformers) (23.1)\n",
            "Requirement already satisfied: pyyaml>=5.1 in /usr/local/lib/python3.10/dist-packages (from transformers) (6.0)\n",
            "Requirement already satisfied: regex!=2019.12.17 in /usr/local/lib/python3.10/dist-packages (from transformers) (2022.10.31)\n",
            "Requirement already satisfied: requests in /usr/local/lib/python3.10/dist-packages (from transformers) (2.27.1)\n",
            "Requirement already satisfied: tokenizers!=0.11.3,<0.14,>=0.11.1 in /usr/local/lib/python3.10/dist-packages (from transformers) (0.13.3)\n",
            "Requirement already satisfied: safetensors>=0.3.1 in /usr/local/lib/python3.10/dist-packages (from transformers) (0.3.1)\n",
            "Requirement already satisfied: tqdm>=4.27 in /usr/local/lib/python3.10/dist-packages (from transformers) (4.65.0)\n",
            "Requirement already satisfied: psutil in /usr/local/lib/python3.10/dist-packages (from accelerate) (5.9.5)\n",
            "Requirement already satisfied: torch>=1.6.0 in /usr/local/lib/python3.10/dist-packages (from accelerate) (2.0.1+cu118)\n",
            "Requirement already satisfied: fsspec in /usr/local/lib/python3.10/dist-packages (from huggingface-hub<1.0,>=0.14.1->transformers) (2023.4.0)\n",
            "Requirement already satisfied: typing-extensions>=3.7.4.3 in /usr/local/lib/python3.10/dist-packages (from huggingface-hub<1.0,>=0.14.1->transformers) (4.5.0)\n",
            "Requirement already satisfied: sympy in /usr/local/lib/python3.10/dist-packages (from torch>=1.6.0->accelerate) (1.11.1)\n",
            "Requirement already satisfied: networkx in /usr/local/lib/python3.10/dist-packages (from torch>=1.6.0->accelerate) (3.1)\n",
            "Requirement already satisfied: jinja2 in /usr/local/lib/python3.10/dist-packages (from torch>=1.6.0->accelerate) (3.1.2)\n",
            "Requirement already satisfied: triton==2.0.0 in /usr/local/lib/python3.10/dist-packages (from torch>=1.6.0->accelerate) (2.0.0)\n",
            "Requirement already satisfied: cmake in /usr/local/lib/python3.10/dist-packages (from triton==2.0.0->torch>=1.6.0->accelerate) (3.25.2)\n",
            "Requirement already satisfied: lit in /usr/local/lib/python3.10/dist-packages (from triton==2.0.0->torch>=1.6.0->accelerate) (16.0.5)\n",
            "Requirement already satisfied: urllib3<1.27,>=1.21.1 in /usr/local/lib/python3.10/dist-packages (from requests->transformers) (1.26.15)\n",
            "Requirement already satisfied: certifi>=2017.4.17 in /usr/local/lib/python3.10/dist-packages (from requests->transformers) (2022.12.7)\n",
            "Requirement already satisfied: charset-normalizer~=2.0.0 in /usr/local/lib/python3.10/dist-packages (from requests->transformers) (2.0.12)\n",
            "Requirement already satisfied: idna<4,>=2.5 in /usr/local/lib/python3.10/dist-packages (from requests->transformers) (3.4)\n",
            "Requirement already satisfied: MarkupSafe>=2.0 in /usr/local/lib/python3.10/dist-packages (from jinja2->torch>=1.6.0->accelerate) (2.1.2)\n",
            "Requirement already satisfied: mpmath>=0.19 in /usr/local/lib/python3.10/dist-packages (from sympy->torch>=1.6.0->accelerate) (1.3.0)\n",
            "Installing collected packages: transformers, accelerate\n",
            "Successfully installed accelerate-0.20.3 transformers-4.30.2\n"
          ]
        }
      ]
    },
    {
      "cell_type": "markdown",
      "source": [
        "## Library Imports"
      ],
      "metadata": {
        "id": "Dm0QI8keI2qS"
      }
    },
    {
      "cell_type": "code",
      "source": [
        "import torch\n",
        "import numpy as np\n",
        "import pandas as pd\n",
        "import string\n",
        "import re\n",
        "import matplotlib.pyplot as plt\n",
        "import seaborn as sns\n",
        "import random\n",
        "\n",
        "from sklearn.model_selection import train_test_split\n",
        "from sklearn.utils import compute_class_weight\n",
        "from torch import nn\n",
        "\n",
        "import datasets\n",
        "from datasets import Dataset, DatasetDict\n",
        "from datasets import load_metric\n",
        "\n",
        "from transformers import Trainer, AdamW\n",
        "from transformers import AutoTokenizer\n",
        "from transformers import AutoModelForSequenceClassification\n",
        "from transformers import BertConfig, BertForSequenceClassification\n",
        "from transformers.modeling_outputs import SequenceClassifierOutput\n",
        "\n",
        "from huggingface_hub import notebook_login\n",
        "\n",
        "import torch.nn.utils.rnn as rnn_utils\n",
        "from tqdm import tqdm\n",
        "from prettytable import PrettyTable\n",
        "from torchinfo import summary"
      ],
      "metadata": {
        "id": "c4MuE5lYI4VQ"
      },
      "execution_count": 2,
      "outputs": []
    },
    {
      "cell_type": "markdown",
      "source": [
        "## Set random seed"
      ],
      "metadata": {
        "id": "WVV_uIOpo9lk"
      }
    },
    {
      "cell_type": "code",
      "source": [
        "def set_seed(seed=None, seed_torch=True):\n",
        "    if seed is None:\n",
        "        seed = np.random.choice(2 ** 32)\n",
        "    random.seed(seed)\n",
        "    np.random.seed(seed)\n",
        "    if seed_torch:\n",
        "        torch.manual_seed(seed)\n",
        "        torch.cuda.manual_seed_all(seed)\n",
        "        torch.cuda.manual_seed(seed)\n",
        "        #torch.backends.cudnn.benchmark = False\n",
        "        #torch.backends.cudnn.deterministic = True\n",
        "    print(f'Seed {seed} has been assigned.')\n",
        "\n",
        "SEED = 42\n",
        "set_seed(SEED)"
      ],
      "metadata": {
        "id": "5AcOPmMvo9wU",
        "colab": {
          "base_uri": "https://localhost:8080/"
        },
        "outputId": "eb3b122e-4249-4ce8-adb8-1dc674bcb331"
      },
      "execution_count": 3,
      "outputs": [
        {
          "output_type": "stream",
          "name": "stdout",
          "text": [
            "Seed 42 has been assigned.\n"
          ]
        }
      ]
    },
    {
      "cell_type": "markdown",
      "source": [
        "## Torch device"
      ],
      "metadata": {
        "id": "K2rxzGe0NKla"
      }
    },
    {
      "cell_type": "code",
      "source": [
        "device = torch.device(\"cuda\") if torch.cuda.is_available() else torch.device(\"cpu\")\n",
        "print(f'Using {device}')"
      ],
      "metadata": {
        "id": "sAGY5dh7NKwU",
        "colab": {
          "base_uri": "https://localhost:8080/"
        },
        "outputId": "ac92ceba-f29d-4438-aa93-6509dfc0f793"
      },
      "execution_count": 4,
      "outputs": [
        {
          "output_type": "stream",
          "name": "stdout",
          "text": [
            "Using cuda\n"
          ]
        }
      ]
    },
    {
      "cell_type": "code",
      "source": [
        "!nvidia-smi"
      ],
      "metadata": {
        "colab": {
          "base_uri": "https://localhost:8080/"
        },
        "id": "7s784FiBF5Gj",
        "outputId": "f8e7a135-0a80-41b1-de3b-5184b9d6ab1c"
      },
      "execution_count": 5,
      "outputs": [
        {
          "output_type": "stream",
          "name": "stdout",
          "text": [
            "Tue Jun 20 05:36:50 2023       \n",
            "+-----------------------------------------------------------------------------+\n",
            "| NVIDIA-SMI 525.85.12    Driver Version: 525.85.12    CUDA Version: 12.0     |\n",
            "|-------------------------------+----------------------+----------------------+\n",
            "| GPU  Name        Persistence-M| Bus-Id        Disp.A | Volatile Uncorr. ECC |\n",
            "| Fan  Temp  Perf  Pwr:Usage/Cap|         Memory-Usage | GPU-Util  Compute M. |\n",
            "|                               |                      |               MIG M. |\n",
            "|===============================+======================+======================|\n",
            "|   0  Tesla T4            Off  | 00000000:00:04.0 Off |                    0 |\n",
            "| N/A   48C    P8     9W /  70W |      3MiB / 15360MiB |      0%      Default |\n",
            "|                               |                      |                  N/A |\n",
            "+-------------------------------+----------------------+----------------------+\n",
            "                                                                               \n",
            "+-----------------------------------------------------------------------------+\n",
            "| Processes:                                                                  |\n",
            "|  GPU   GI   CI        PID   Type   Process name                  GPU Memory |\n",
            "|        ID   ID                                                   Usage      |\n",
            "|=============================================================================|\n",
            "|  No running processes found                                                 |\n",
            "+-----------------------------------------------------------------------------+\n"
          ]
        }
      ]
    },
    {
      "cell_type": "markdown",
      "source": [
        "## Load dataset"
      ],
      "metadata": {
        "id": "oBtGKKdYD-Z1"
      }
    },
    {
      "cell_type": "code",
      "source": [
        "train_path = \"Corona_NLP_train.csv\"\n",
        "test_path = \"Corona_NLP_test.csv\"\n",
        "train_df = pd.read_csv(train_path, encoding='ISO-8859-1')\n",
        "test_df = pd.read_csv(test_path, encoding='ISO-8859-1')"
      ],
      "metadata": {
        "id": "iE-LHSOJCovp"
      },
      "execution_count": 7,
      "outputs": []
    },
    {
      "cell_type": "code",
      "source": [
        "train_df.head()"
      ],
      "metadata": {
        "id": "kjKUk9nfECFQ",
        "colab": {
          "base_uri": "https://localhost:8080/",
          "height": 406
        },
        "outputId": "d30a34ad-bbe0-43cc-c1df-1ba6fe573e33"
      },
      "execution_count": 8,
      "outputs": [
        {
          "output_type": "execute_result",
          "data": {
            "text/plain": [
              "   UserName  ScreenName   Location     TweetAt  \\\n",
              "0      3799       48751     London  16-03-2020   \n",
              "1      3800       48752         UK  16-03-2020   \n",
              "2      3801       48753  Vagabonds  16-03-2020   \n",
              "3      3802       48754        NaN  16-03-2020   \n",
              "4      3803       48755        NaN  16-03-2020   \n",
              "\n",
              "                                       OriginalTweet           Sentiment  \n",
              "0  @MeNyrbie @Phil_Gahan @Chrisitv https://t.co/i...             Neutral  \n",
              "1  advice Talk to your neighbours family to excha...            Positive  \n",
              "2  Coronavirus Australia: Woolworths to give elde...            Positive  \n",
              "3  My food stock is not the only one which is emp...            Positive  \n",
              "4  Me, ready to go at supermarket during the #COV...  Extremely Negative  "
            ],
            "text/html": [
              "\n",
              "  <div id=\"df-8a7e76fa-fa51-489c-97f0-47a7da30cd06\">\n",
              "    <div class=\"colab-df-container\">\n",
              "      <div>\n",
              "<style scoped>\n",
              "    .dataframe tbody tr th:only-of-type {\n",
              "        vertical-align: middle;\n",
              "    }\n",
              "\n",
              "    .dataframe tbody tr th {\n",
              "        vertical-align: top;\n",
              "    }\n",
              "\n",
              "    .dataframe thead th {\n",
              "        text-align: right;\n",
              "    }\n",
              "</style>\n",
              "<table border=\"1\" class=\"dataframe\">\n",
              "  <thead>\n",
              "    <tr style=\"text-align: right;\">\n",
              "      <th></th>\n",
              "      <th>UserName</th>\n",
              "      <th>ScreenName</th>\n",
              "      <th>Location</th>\n",
              "      <th>TweetAt</th>\n",
              "      <th>OriginalTweet</th>\n",
              "      <th>Sentiment</th>\n",
              "    </tr>\n",
              "  </thead>\n",
              "  <tbody>\n",
              "    <tr>\n",
              "      <th>0</th>\n",
              "      <td>3799</td>\n",
              "      <td>48751</td>\n",
              "      <td>London</td>\n",
              "      <td>16-03-2020</td>\n",
              "      <td>@MeNyrbie @Phil_Gahan @Chrisitv https://t.co/i...</td>\n",
              "      <td>Neutral</td>\n",
              "    </tr>\n",
              "    <tr>\n",
              "      <th>1</th>\n",
              "      <td>3800</td>\n",
              "      <td>48752</td>\n",
              "      <td>UK</td>\n",
              "      <td>16-03-2020</td>\n",
              "      <td>advice Talk to your neighbours family to excha...</td>\n",
              "      <td>Positive</td>\n",
              "    </tr>\n",
              "    <tr>\n",
              "      <th>2</th>\n",
              "      <td>3801</td>\n",
              "      <td>48753</td>\n",
              "      <td>Vagabonds</td>\n",
              "      <td>16-03-2020</td>\n",
              "      <td>Coronavirus Australia: Woolworths to give elde...</td>\n",
              "      <td>Positive</td>\n",
              "    </tr>\n",
              "    <tr>\n",
              "      <th>3</th>\n",
              "      <td>3802</td>\n",
              "      <td>48754</td>\n",
              "      <td>NaN</td>\n",
              "      <td>16-03-2020</td>\n",
              "      <td>My food stock is not the only one which is emp...</td>\n",
              "      <td>Positive</td>\n",
              "    </tr>\n",
              "    <tr>\n",
              "      <th>4</th>\n",
              "      <td>3803</td>\n",
              "      <td>48755</td>\n",
              "      <td>NaN</td>\n",
              "      <td>16-03-2020</td>\n",
              "      <td>Me, ready to go at supermarket during the #COV...</td>\n",
              "      <td>Extremely Negative</td>\n",
              "    </tr>\n",
              "  </tbody>\n",
              "</table>\n",
              "</div>\n",
              "      <button class=\"colab-df-convert\" onclick=\"convertToInteractive('df-8a7e76fa-fa51-489c-97f0-47a7da30cd06')\"\n",
              "              title=\"Convert this dataframe to an interactive table.\"\n",
              "              style=\"display:none;\">\n",
              "        \n",
              "  <svg xmlns=\"http://www.w3.org/2000/svg\" height=\"24px\"viewBox=\"0 0 24 24\"\n",
              "       width=\"24px\">\n",
              "    <path d=\"M0 0h24v24H0V0z\" fill=\"none\"/>\n",
              "    <path d=\"M18.56 5.44l.94 2.06.94-2.06 2.06-.94-2.06-.94-.94-2.06-.94 2.06-2.06.94zm-11 1L8.5 8.5l.94-2.06 2.06-.94-2.06-.94L8.5 2.5l-.94 2.06-2.06.94zm10 10l.94 2.06.94-2.06 2.06-.94-2.06-.94-.94-2.06-.94 2.06-2.06.94z\"/><path d=\"M17.41 7.96l-1.37-1.37c-.4-.4-.92-.59-1.43-.59-.52 0-1.04.2-1.43.59L10.3 9.45l-7.72 7.72c-.78.78-.78 2.05 0 2.83L4 21.41c.39.39.9.59 1.41.59.51 0 1.02-.2 1.41-.59l7.78-7.78 2.81-2.81c.8-.78.8-2.07 0-2.86zM5.41 20L4 18.59l7.72-7.72 1.47 1.35L5.41 20z\"/>\n",
              "  </svg>\n",
              "      </button>\n",
              "      \n",
              "  <style>\n",
              "    .colab-df-container {\n",
              "      display:flex;\n",
              "      flex-wrap:wrap;\n",
              "      gap: 12px;\n",
              "    }\n",
              "\n",
              "    .colab-df-convert {\n",
              "      background-color: #E8F0FE;\n",
              "      border: none;\n",
              "      border-radius: 50%;\n",
              "      cursor: pointer;\n",
              "      display: none;\n",
              "      fill: #1967D2;\n",
              "      height: 32px;\n",
              "      padding: 0 0 0 0;\n",
              "      width: 32px;\n",
              "    }\n",
              "\n",
              "    .colab-df-convert:hover {\n",
              "      background-color: #E2EBFA;\n",
              "      box-shadow: 0px 1px 2px rgba(60, 64, 67, 0.3), 0px 1px 3px 1px rgba(60, 64, 67, 0.15);\n",
              "      fill: #174EA6;\n",
              "    }\n",
              "\n",
              "    [theme=dark] .colab-df-convert {\n",
              "      background-color: #3B4455;\n",
              "      fill: #D2E3FC;\n",
              "    }\n",
              "\n",
              "    [theme=dark] .colab-df-convert:hover {\n",
              "      background-color: #434B5C;\n",
              "      box-shadow: 0px 1px 3px 1px rgba(0, 0, 0, 0.15);\n",
              "      filter: drop-shadow(0px 1px 2px rgba(0, 0, 0, 0.3));\n",
              "      fill: #FFFFFF;\n",
              "    }\n",
              "  </style>\n",
              "\n",
              "      <script>\n",
              "        const buttonEl =\n",
              "          document.querySelector('#df-8a7e76fa-fa51-489c-97f0-47a7da30cd06 button.colab-df-convert');\n",
              "        buttonEl.style.display =\n",
              "          google.colab.kernel.accessAllowed ? 'block' : 'none';\n",
              "\n",
              "        async function convertToInteractive(key) {\n",
              "          const element = document.querySelector('#df-8a7e76fa-fa51-489c-97f0-47a7da30cd06');\n",
              "          const dataTable =\n",
              "            await google.colab.kernel.invokeFunction('convertToInteractive',\n",
              "                                                     [key], {});\n",
              "          if (!dataTable) return;\n",
              "\n",
              "          const docLinkHtml = 'Like what you see? Visit the ' +\n",
              "            '<a target=\"_blank\" href=https://colab.research.google.com/notebooks/data_table.ipynb>data table notebook</a>'\n",
              "            + ' to learn more about interactive tables.';\n",
              "          element.innerHTML = '';\n",
              "          dataTable['output_type'] = 'display_data';\n",
              "          await google.colab.output.renderOutput(dataTable, element);\n",
              "          const docLink = document.createElement('div');\n",
              "          docLink.innerHTML = docLinkHtml;\n",
              "          element.appendChild(docLink);\n",
              "        }\n",
              "      </script>\n",
              "    </div>\n",
              "  </div>\n",
              "  "
            ]
          },
          "metadata": {},
          "execution_count": 8
        }
      ]
    },
    {
      "cell_type": "markdown",
      "source": [
        "## Preprocessing"
      ],
      "metadata": {
        "id": "KrtkcFMEEDk7"
      }
    },
    {
      "cell_type": "markdown",
      "source": [
        "### Preprocessing methods"
      ],
      "metadata": {
        "id": "5wVszflaFMvw"
      }
    },
    {
      "cell_type": "code",
      "source": [
        "#preprocess.py\n",
        "def preprocess_tweet(tweet):\n",
        "    tweet = tweet.lower()\n",
        "    tweet = tweet.replace('\\r', '').replace('\\n', ' ').replace('\\n', ' ') #Remove \\n and \\r\n",
        "    tweet = re.sub(r'http\\S+', '', tweet)       # Remove URLs\n",
        "    tweet = re.sub(r'[^\\x00-\\x7f]',r'', tweet)  # Remove non utf8/ascii characters such as '\\x9a\\x91\\x97\\x9a\\x97'\n",
        "    tweet = re.sub(r'@[^\\s]+', '', tweet)       # Remove usernames\n",
        "    tweet = re.sub(r'\\d+', '', tweet)           # Remove numbers\n",
        "    tweet = re.sub(\"\\s\\s+\" , \" \", tweet)        # Remove multispaces\n",
        "    return tweet\n",
        "\n",
        "def remove_small_tweets(data, threshold=4, column='tweet_clean'):\n",
        "    return data[data['tweet_clean'].apply(lambda x: len(x.split()) > threshold)]\n",
        "\n",
        "def replace_labels(data):\n",
        "    return data['Sentiment'].replace({'Extremely Negative':0,'Negative':0,'Neutral':1,'Positive':2,'Extremely Positive':2})"
      ],
      "metadata": {
        "id": "wYPmAUfvEEOv"
      },
      "execution_count": 9,
      "outputs": []
    },
    {
      "cell_type": "markdown",
      "source": [
        "### Preprocessing data"
      ],
      "metadata": {
        "id": "ml3zAe9GEmtr"
      }
    },
    {
      "cell_type": "code",
      "source": [
        "# Select only tweet text and sentiment\n",
        "train_df = train_df[['OriginalTweet','Sentiment']]\n",
        "test_df = test_df[['OriginalTweet','Sentiment']]\n",
        "\n",
        "# Preprocess tweets\n",
        "train_df[\"tweet_clean\"] = train_df[\"OriginalTweet\"].apply(preprocess_tweet)\n",
        "test_df[\"tweet_clean\"] = test_df[\"OriginalTweet\"].apply(preprocess_tweet)\n",
        "\n",
        "# Remove tweets with less than 5 words\n",
        "train_df = remove_small_tweets(train_df)\n",
        "test_df = remove_small_tweets(test_df)\n",
        "\n",
        "# Convert categories to numbers, it considers only 3 classes\n",
        "train_df['Sentiment'] = replace_labels(train_df)\n",
        "test_df['Sentiment'] = replace_labels(test_df)"
      ],
      "metadata": {
        "id": "IsGF-fk7EmKs",
        "colab": {
          "base_uri": "https://localhost:8080/"
        },
        "outputId": "cf24ba9d-0ab9-4b18-b0b2-98110d2328e1"
      },
      "execution_count": 10,
      "outputs": [
        {
          "output_type": "stream",
          "name": "stderr",
          "text": [
            "<ipython-input-10-c874411ca0e4>:14: SettingWithCopyWarning: \n",
            "A value is trying to be set on a copy of a slice from a DataFrame.\n",
            "Try using .loc[row_indexer,col_indexer] = value instead\n",
            "\n",
            "See the caveats in the documentation: https://pandas.pydata.org/pandas-docs/stable/user_guide/indexing.html#returning-a-view-versus-a-copy\n",
            "  train_df['Sentiment'] = replace_labels(train_df)\n",
            "<ipython-input-10-c874411ca0e4>:15: SettingWithCopyWarning: \n",
            "A value is trying to be set on a copy of a slice from a DataFrame.\n",
            "Try using .loc[row_indexer,col_indexer] = value instead\n",
            "\n",
            "See the caveats in the documentation: https://pandas.pydata.org/pandas-docs/stable/user_guide/indexing.html#returning-a-view-versus-a-copy\n",
            "  test_df['Sentiment'] = replace_labels(test_df)\n"
          ]
        }
      ]
    },
    {
      "cell_type": "code",
      "source": [
        "train_df.head()"
      ],
      "metadata": {
        "id": "c0mGwhWoWHt_",
        "colab": {
          "base_uri": "https://localhost:8080/",
          "height": 337
        },
        "outputId": "83a9452e-6089-492d-e0c4-e92ce5bb6f82"
      },
      "execution_count": 11,
      "outputs": [
        {
          "output_type": "execute_result",
          "data": {
            "text/plain": [
              "                                       OriginalTweet  Sentiment  \\\n",
              "1  advice Talk to your neighbours family to excha...          2   \n",
              "2  Coronavirus Australia: Woolworths to give elde...          2   \n",
              "3  My food stock is not the only one which is emp...          2   \n",
              "4  Me, ready to go at supermarket during the #COV...          0   \n",
              "5  As news of the regionÂs first confirmed COVID...          2   \n",
              "\n",
              "                                         tweet_clean  \n",
              "1  advice talk to your neighbours family to excha...  \n",
              "2  coronavirus australia: woolworths to give elde...  \n",
              "3  my food stock is not the only one which is emp...  \n",
              "4  me, ready to go at supermarket during the #cov...  \n",
              "5  as news of the regions first confirmed covid- ...  "
            ],
            "text/html": [
              "\n",
              "  <div id=\"df-17e3d2cb-9df9-4516-b2e8-57bc8dc596b8\">\n",
              "    <div class=\"colab-df-container\">\n",
              "      <div>\n",
              "<style scoped>\n",
              "    .dataframe tbody tr th:only-of-type {\n",
              "        vertical-align: middle;\n",
              "    }\n",
              "\n",
              "    .dataframe tbody tr th {\n",
              "        vertical-align: top;\n",
              "    }\n",
              "\n",
              "    .dataframe thead th {\n",
              "        text-align: right;\n",
              "    }\n",
              "</style>\n",
              "<table border=\"1\" class=\"dataframe\">\n",
              "  <thead>\n",
              "    <tr style=\"text-align: right;\">\n",
              "      <th></th>\n",
              "      <th>OriginalTweet</th>\n",
              "      <th>Sentiment</th>\n",
              "      <th>tweet_clean</th>\n",
              "    </tr>\n",
              "  </thead>\n",
              "  <tbody>\n",
              "    <tr>\n",
              "      <th>1</th>\n",
              "      <td>advice Talk to your neighbours family to excha...</td>\n",
              "      <td>2</td>\n",
              "      <td>advice talk to your neighbours family to excha...</td>\n",
              "    </tr>\n",
              "    <tr>\n",
              "      <th>2</th>\n",
              "      <td>Coronavirus Australia: Woolworths to give elde...</td>\n",
              "      <td>2</td>\n",
              "      <td>coronavirus australia: woolworths to give elde...</td>\n",
              "    </tr>\n",
              "    <tr>\n",
              "      <th>3</th>\n",
              "      <td>My food stock is not the only one which is emp...</td>\n",
              "      <td>2</td>\n",
              "      <td>my food stock is not the only one which is emp...</td>\n",
              "    </tr>\n",
              "    <tr>\n",
              "      <th>4</th>\n",
              "      <td>Me, ready to go at supermarket during the #COV...</td>\n",
              "      <td>0</td>\n",
              "      <td>me, ready to go at supermarket during the #cov...</td>\n",
              "    </tr>\n",
              "    <tr>\n",
              "      <th>5</th>\n",
              "      <td>As news of the regionÂs first confirmed COVID...</td>\n",
              "      <td>2</td>\n",
              "      <td>as news of the regions first confirmed covid- ...</td>\n",
              "    </tr>\n",
              "  </tbody>\n",
              "</table>\n",
              "</div>\n",
              "      <button class=\"colab-df-convert\" onclick=\"convertToInteractive('df-17e3d2cb-9df9-4516-b2e8-57bc8dc596b8')\"\n",
              "              title=\"Convert this dataframe to an interactive table.\"\n",
              "              style=\"display:none;\">\n",
              "        \n",
              "  <svg xmlns=\"http://www.w3.org/2000/svg\" height=\"24px\"viewBox=\"0 0 24 24\"\n",
              "       width=\"24px\">\n",
              "    <path d=\"M0 0h24v24H0V0z\" fill=\"none\"/>\n",
              "    <path d=\"M18.56 5.44l.94 2.06.94-2.06 2.06-.94-2.06-.94-.94-2.06-.94 2.06-2.06.94zm-11 1L8.5 8.5l.94-2.06 2.06-.94-2.06-.94L8.5 2.5l-.94 2.06-2.06.94zm10 10l.94 2.06.94-2.06 2.06-.94-2.06-.94-.94-2.06-.94 2.06-2.06.94z\"/><path d=\"M17.41 7.96l-1.37-1.37c-.4-.4-.92-.59-1.43-.59-.52 0-1.04.2-1.43.59L10.3 9.45l-7.72 7.72c-.78.78-.78 2.05 0 2.83L4 21.41c.39.39.9.59 1.41.59.51 0 1.02-.2 1.41-.59l7.78-7.78 2.81-2.81c.8-.78.8-2.07 0-2.86zM5.41 20L4 18.59l7.72-7.72 1.47 1.35L5.41 20z\"/>\n",
              "  </svg>\n",
              "      </button>\n",
              "      \n",
              "  <style>\n",
              "    .colab-df-container {\n",
              "      display:flex;\n",
              "      flex-wrap:wrap;\n",
              "      gap: 12px;\n",
              "    }\n",
              "\n",
              "    .colab-df-convert {\n",
              "      background-color: #E8F0FE;\n",
              "      border: none;\n",
              "      border-radius: 50%;\n",
              "      cursor: pointer;\n",
              "      display: none;\n",
              "      fill: #1967D2;\n",
              "      height: 32px;\n",
              "      padding: 0 0 0 0;\n",
              "      width: 32px;\n",
              "    }\n",
              "\n",
              "    .colab-df-convert:hover {\n",
              "      background-color: #E2EBFA;\n",
              "      box-shadow: 0px 1px 2px rgba(60, 64, 67, 0.3), 0px 1px 3px 1px rgba(60, 64, 67, 0.15);\n",
              "      fill: #174EA6;\n",
              "    }\n",
              "\n",
              "    [theme=dark] .colab-df-convert {\n",
              "      background-color: #3B4455;\n",
              "      fill: #D2E3FC;\n",
              "    }\n",
              "\n",
              "    [theme=dark] .colab-df-convert:hover {\n",
              "      background-color: #434B5C;\n",
              "      box-shadow: 0px 1px 3px 1px rgba(0, 0, 0, 0.15);\n",
              "      filter: drop-shadow(0px 1px 2px rgba(0, 0, 0, 0.3));\n",
              "      fill: #FFFFFF;\n",
              "    }\n",
              "  </style>\n",
              "\n",
              "      <script>\n",
              "        const buttonEl =\n",
              "          document.querySelector('#df-17e3d2cb-9df9-4516-b2e8-57bc8dc596b8 button.colab-df-convert');\n",
              "        buttonEl.style.display =\n",
              "          google.colab.kernel.accessAllowed ? 'block' : 'none';\n",
              "\n",
              "        async function convertToInteractive(key) {\n",
              "          const element = document.querySelector('#df-17e3d2cb-9df9-4516-b2e8-57bc8dc596b8');\n",
              "          const dataTable =\n",
              "            await google.colab.kernel.invokeFunction('convertToInteractive',\n",
              "                                                     [key], {});\n",
              "          if (!dataTable) return;\n",
              "\n",
              "          const docLinkHtml = 'Like what you see? Visit the ' +\n",
              "            '<a target=\"_blank\" href=https://colab.research.google.com/notebooks/data_table.ipynb>data table notebook</a>'\n",
              "            + ' to learn more about interactive tables.';\n",
              "          element.innerHTML = '';\n",
              "          dataTable['output_type'] = 'display_data';\n",
              "          await google.colab.output.renderOutput(dataTable, element);\n",
              "          const docLink = document.createElement('div');\n",
              "          docLink.innerHTML = docLinkHtml;\n",
              "          element.appendChild(docLink);\n",
              "        }\n",
              "      </script>\n",
              "    </div>\n",
              "  </div>\n",
              "  "
            ]
          },
          "metadata": {},
          "execution_count": 11
        }
      ]
    },
    {
      "cell_type": "markdown",
      "source": [
        "## Train values"
      ],
      "metadata": {
        "id": "cGS8g4mZaeum"
      }
    },
    {
      "cell_type": "code",
      "source": [
        "X_train_total = train_df['tweet_clean'].values\n",
        "y_train_total = train_df['Sentiment'].values\n",
        "\n",
        "print(f'Train size: {X_train_total.shape}')"
      ],
      "metadata": {
        "id": "qonBX49HaZKT",
        "colab": {
          "base_uri": "https://localhost:8080/"
        },
        "outputId": "e6c6a52d-754a-4446-81fb-778893881645"
      },
      "execution_count": 12,
      "outputs": [
        {
          "output_type": "stream",
          "name": "stdout",
          "text": [
            "Train size: (40962,)\n"
          ]
        }
      ]
    },
    {
      "cell_type": "markdown",
      "source": [
        "## Data partitioning"
      ],
      "metadata": {
        "id": "LFrkfiklZsb1"
      }
    },
    {
      "cell_type": "code",
      "source": [
        "X_train, X_val, y_train, y_val = train_test_split(X_train_total, y_train_total, test_size=0.2, stratify=y_train_total, random_state=SEED)"
      ],
      "metadata": {
        "id": "FFO27jiRZuEj"
      },
      "execution_count": 13,
      "outputs": []
    },
    {
      "cell_type": "code",
      "source": [
        "print(f'Train size: {X_train.shape}')\n",
        "print(f'Validation size: {X_val.shape}')"
      ],
      "metadata": {
        "id": "uUH-7ybQaxY0",
        "colab": {
          "base_uri": "https://localhost:8080/"
        },
        "outputId": "0d0496f8-abfc-4197-9044-9b03dff68870"
      },
      "execution_count": 14,
      "outputs": [
        {
          "output_type": "stream",
          "name": "stdout",
          "text": [
            "Train size: (32769,)\n",
            "Validation size: (8193,)\n"
          ]
        }
      ]
    },
    {
      "cell_type": "markdown",
      "source": [
        "## Dataset preparation"
      ],
      "metadata": {
        "id": "_irD0eyXn4Or"
      }
    },
    {
      "cell_type": "code",
      "source": [
        "# Train data\n",
        "train_df = pd.DataFrame(list(zip(X_train, y_train)), columns = ['tweet_clean', 'labels'])\n",
        "# Validation data\n",
        "val_df = pd.DataFrame(list(zip(X_val, y_val)), columns = ['tweet_clean', 'labels'])\n",
        "# Test data\n",
        "test_df = test_df.rename(columns={\"Sentiment\":\"labels\"})\n",
        "test_df = test_df[[\"tweet_clean\", \"labels\"]]"
      ],
      "metadata": {
        "id": "OIO1yRx8dtUR"
      },
      "execution_count": 15,
      "outputs": []
    },
    {
      "cell_type": "markdown",
      "source": [
        "### Huggingface datasets"
      ],
      "metadata": {
        "id": "VdNU91RsJML3"
      }
    },
    {
      "cell_type": "code",
      "source": [
        "train_ds = Dataset.from_pandas(train_df)\n",
        "val_ds = Dataset.from_pandas(val_df)\n",
        "test_ds = Dataset.from_pandas(test_df)\n",
        "test_ds = test_ds.remove_columns([\"__index_level_0__\"])"
      ],
      "metadata": {
        "id": "NYbFplLxJRYs"
      },
      "execution_count": 16,
      "outputs": []
    },
    {
      "cell_type": "code",
      "source": [
        "dataset = DatasetDict()\n",
        "\n",
        "dataset['train'] = train_ds\n",
        "dataset['validation'] = val_ds\n",
        "dataset['test'] = test_ds\n",
        "\n",
        "print(dataset)"
      ],
      "metadata": {
        "id": "oRwCB11EJ48S",
        "colab": {
          "base_uri": "https://localhost:8080/"
        },
        "outputId": "12678678-4837-43be-cc9a-0a9406093e77"
      },
      "execution_count": 17,
      "outputs": [
        {
          "output_type": "stream",
          "name": "stdout",
          "text": [
            "DatasetDict({\n",
            "    train: Dataset({\n",
            "        features: ['tweet_clean', 'labels'],\n",
            "        num_rows: 32769\n",
            "    })\n",
            "    validation: Dataset({\n",
            "        features: ['tweet_clean', 'labels'],\n",
            "        num_rows: 8193\n",
            "    })\n",
            "    test: Dataset({\n",
            "        features: ['tweet_clean', 'labels'],\n",
            "        num_rows: 3793\n",
            "    })\n",
            "})\n"
          ]
        }
      ]
    },
    {
      "cell_type": "markdown",
      "source": [
        "## Teacher model name"
      ],
      "metadata": {
        "id": "oobGndK911sd"
      }
    },
    {
      "cell_type": "code",
      "source": [
        "teacher_id = \"Moniksama/finetuned-bert-covid-tweets\""
      ],
      "metadata": {
        "id": "ORb9E-if113d"
      },
      "execution_count": 18,
      "outputs": []
    },
    {
      "cell_type": "code",
      "source": [
        "# Configuration file of the teacher model\n",
        "config_bert = BertConfig.from_pretrained(teacher_id)\n",
        "config_bert"
      ],
      "metadata": {
        "colab": {
          "base_uri": "https://localhost:8080/",
          "height": 738,
          "referenced_widgets": [
            "cb424cdecbf04ea893db3d2313a9ada5",
            "c8c64f9b1ce54606a9e42d4df0c5502d",
            "a7986112e21247e69d0c885b95d7f705",
            "e4517430e47e4d13a3fa07c4df793d59",
            "93a62fc28a3a41a7b60a761c845452f0",
            "387d9266a54d4fa59b5b02a4433bb0a3",
            "0928d2a2b54e4cf08dd5dc23ba9c6437",
            "bcc50c2f988648da8cb0e9eb83944545",
            "6b75615989a249fb939dbd1600ffdc64",
            "fd288c31a5e64a51afcce406e5e8baf1",
            "1d5ae23c155d4cde9e93d68ce5cc0523"
          ]
        },
        "id": "vTZGquTDGzfu",
        "outputId": "26ec187b-e396-4b45-a1eb-c41cdf12b2c4"
      },
      "execution_count": 19,
      "outputs": [
        {
          "output_type": "display_data",
          "data": {
            "text/plain": [
              "Downloading (…)lve/main/config.json:   0%|          | 0.00/881 [00:00<?, ?B/s]"
            ],
            "application/vnd.jupyter.widget-view+json": {
              "version_major": 2,
              "version_minor": 0,
              "model_id": "cb424cdecbf04ea893db3d2313a9ada5"
            }
          },
          "metadata": {}
        },
        {
          "output_type": "execute_result",
          "data": {
            "text/plain": [
              "BertConfig {\n",
              "  \"_name_or_path\": \"bert-base-uncased\",\n",
              "  \"architectures\": [\n",
              "    \"BertForSequenceClassification\"\n",
              "  ],\n",
              "  \"attention_probs_dropout_prob\": 0.1,\n",
              "  \"classifier_dropout\": null,\n",
              "  \"gradient_checkpointing\": false,\n",
              "  \"hidden_act\": \"gelu\",\n",
              "  \"hidden_dropout_prob\": 0.1,\n",
              "  \"hidden_size\": 768,\n",
              "  \"id2label\": {\n",
              "    \"0\": \"LABEL_0\",\n",
              "    \"1\": \"LABEL_1\",\n",
              "    \"2\": \"LABEL_2\"\n",
              "  },\n",
              "  \"initializer_range\": 0.02,\n",
              "  \"intermediate_size\": 3072,\n",
              "  \"label2id\": {\n",
              "    \"LABEL_0\": 0,\n",
              "    \"LABEL_1\": 1,\n",
              "    \"LABEL_2\": 2\n",
              "  },\n",
              "  \"layer_norm_eps\": 1e-12,\n",
              "  \"max_position_embeddings\": 512,\n",
              "  \"model_type\": \"bert\",\n",
              "  \"num_attention_heads\": 12,\n",
              "  \"num_hidden_layers\": 12,\n",
              "  \"pad_token_id\": 0,\n",
              "  \"position_embedding_type\": \"absolute\",\n",
              "  \"problem_type\": \"single_label_classification\",\n",
              "  \"torch_dtype\": \"float32\",\n",
              "  \"transformers_version\": \"4.30.2\",\n",
              "  \"type_vocab_size\": 2,\n",
              "  \"use_cache\": true,\n",
              "  \"vocab_size\": 30522\n",
              "}"
            ]
          },
          "metadata": {},
          "execution_count": 19
        }
      ]
    },
    {
      "cell_type": "markdown",
      "source": [
        "## Tokenization"
      ],
      "metadata": {
        "id": "xsXkfcmGKXn1"
      }
    },
    {
      "cell_type": "code",
      "source": [
        "tokenizer = AutoTokenizer.from_pretrained(teacher_id)"
      ],
      "metadata": {
        "id": "Q19qwiwsKZAt",
        "colab": {
          "base_uri": "https://localhost:8080/",
          "height": 257,
          "referenced_widgets": [
            "6594009ea6ab40e19bfe59152aa408ab",
            "1b4bcda9348e4c7bade6affe6180c2da",
            "3a1ab0e9a0254c50ac2c3578888c714d",
            "77a1b1ee03544f2ab7886509e01074d1",
            "489a4aa8daa941159a9b2f6c664c8e4e",
            "a7a894c56bec4d409a0db7a97e1f53c4",
            "c4fafe71f1754cde87a47f8e26cc2617",
            "96468deb0370458ca9f0990bff261601",
            "2c6fc77043fb4584ac9ecc73b75184a0",
            "5f3e15d8e1f64ae1bc181a289ea57e14",
            "dc3c427e62df4561a004426758b09014",
            "c7f6d46a02fa451ca6b6669960673156",
            "28ea4a12316f46c5b0590b69746164e8",
            "06c55fe1a2404d51bc4df18f2ba1d047",
            "2a7c2cd590db4179967424eb88d9967c",
            "8404b011a0ca4b6cb5757bb4e36e6445",
            "34ad19460e5143e9b8ccd7f518798419",
            "8f75ffbca1ba4a9c886a8922c81ca5fc",
            "6a51bc1584c040afbf74bd29e887abe9",
            "f3b0899444744c97a0d7bc57fdc5b11b",
            "5e369ab423714f96a66bb11e81eb5144",
            "a746cf4f50254c01bdbb1b6dd12afb55",
            "b252175314f7407885ecf2f1e877d220",
            "58ded46bf9e54c7a96346b7e3721e255",
            "ffef626fc4424afa82d51289a488e771",
            "d3a94d16d796481ebf90efdb63653f2e",
            "af6546d5f56e4b8ba374bc7a4d0fdff5",
            "6d1bdf7bfbdf4ef4aad5ce44467bfe05",
            "58f1976c90104f37bca33a409fdcfbb3",
            "c4477c478cf8408c8f2049eda0daebaa",
            "a66e0f277cac4193ae420cd556f748ed",
            "33ef85932acf4a4e99c47b5a4db084d6",
            "e62ff96e4e564a03b753f6aa2fe99251",
            "35b5446afb1747dd82adce6c20ec8c58",
            "a27cd4f1b5834f8f99e1933a0a97be0b",
            "7db7eb9c783847148afea14f8eb41177",
            "8d6593550b64411daeafad62579d927b",
            "86f938b0c5da47468139b118539c55fa",
            "9d731dfd37ee4817b9af60eba3d6d82e",
            "9369d77d52214765be8bb653dcb9d70e",
            "5f50a37d466b45fc8309eaa35fd28fc0",
            "87191f45b0624da49e1135a8d288133c",
            "7770f751c3d940579256ddad3e6e5f16",
            "f97975b6c31a420c85e6d261ab48aa13"
          ]
        },
        "outputId": "c5ab82e7-ebbb-4fa5-ee53-475ff8b8d2fd"
      },
      "execution_count": 20,
      "outputs": [
        {
          "output_type": "display_data",
          "data": {
            "text/plain": [
              "Downloading (…)okenizer_config.json:   0%|          | 0.00/314 [00:00<?, ?B/s]"
            ],
            "application/vnd.jupyter.widget-view+json": {
              "version_major": 2,
              "version_minor": 0,
              "model_id": "6594009ea6ab40e19bfe59152aa408ab"
            }
          },
          "metadata": {}
        },
        {
          "output_type": "display_data",
          "data": {
            "text/plain": [
              "Downloading (…)solve/main/vocab.txt:   0%|          | 0.00/232k [00:00<?, ?B/s]"
            ],
            "application/vnd.jupyter.widget-view+json": {
              "version_major": 2,
              "version_minor": 0,
              "model_id": "c7f6d46a02fa451ca6b6669960673156"
            }
          },
          "metadata": {}
        },
        {
          "output_type": "display_data",
          "data": {
            "text/plain": [
              "Downloading (…)/main/tokenizer.json:   0%|          | 0.00/712k [00:00<?, ?B/s]"
            ],
            "application/vnd.jupyter.widget-view+json": {
              "version_major": 2,
              "version_minor": 0,
              "model_id": "b252175314f7407885ecf2f1e877d220"
            }
          },
          "metadata": {}
        },
        {
          "output_type": "display_data",
          "data": {
            "text/plain": [
              "Downloading (…)cial_tokens_map.json:   0%|          | 0.00/125 [00:00<?, ?B/s]"
            ],
            "application/vnd.jupyter.widget-view+json": {
              "version_major": 2,
              "version_minor": 0,
              "model_id": "35b5446afb1747dd82adce6c20ec8c58"
            }
          },
          "metadata": {}
        }
      ]
    },
    {
      "cell_type": "code",
      "source": [
        "MAX_LENGTH = 100\n",
        "def tokenize_data(sample):\n",
        "    return tokenizer(sample[\"tweet_clean\"], max_length=MAX_LENGTH, padding='max_length', truncation=True, return_length=True)\n",
        "    #return tokenizer(sample[\"tweet_clean\"], max_length=MAX_LENGTH, truncation=True, return_length=True)\n",
        "tokenized_dataset = dataset.map(tokenize_data, batched=True)\n",
        "\n",
        "# Remove text column, now we have it tokenized\n",
        "tokenized_dataset = tokenized_dataset.remove_columns([\"tweet_clean\"])\n",
        "\n",
        "# Separate each dataset\n",
        "train_ds = tokenized_dataset['train']\n",
        "val_ds = tokenized_dataset['validation']\n",
        "test_ds = tokenized_dataset['test']"
      ],
      "metadata": {
        "colab": {
          "base_uri": "https://localhost:8080/",
          "height": 17,
          "referenced_widgets": [
            "6c69ab2c52084272874c96f38d6e2694",
            "9db9a8cef7fa477e8a657639dc3d01b7",
            "a09846bcf6e246b08b44ece098836e9e",
            "fff10347b2c7473189572312371a5b1d",
            "327d961046544b979d59cca4fdc5eadb",
            "8dd8815fdcb64d058908fee8606ce8dc",
            "112e0dd031da4ea789f17be6298cdde4",
            "d6a193376dab47a9acb4f5814d5fc806",
            "999d384180bd48c384352a993cca09a7",
            "50b8faf727f04b87af02a4d825e2c345",
            "65f9e316c849433e9b6f0eb0df50fc7e",
            "0953e7f6b3a140f0a0f4254b44f51fa3",
            "5ff9177bd83e4351a6473ac2dbaccf8c",
            "46ce007c6bb44fd4a66c007fc6b29ac1",
            "9f03cbda63f14a7f84c68b5392d0b258",
            "1e6a6efd4cde41ef8d77d543eff331d6",
            "ab9ff2ca03454adebd3a1a2639299b31",
            "a45e6195c39c4c9fa3c54485713ae752",
            "bf890d850f7c43c0a95bf5a442227d41",
            "6b3dbca66dcb4c2dba96ac6c56720341",
            "00d0eb3e846741f29452643c839afa8b",
            "903679525d34417faba6a7b66106f858",
            "05129fe34ef545e7baa31354ba892968",
            "9cd11870d78048de9be9de6d0f535800",
            "2e6e0dee061b495ebbe3736410ca3d3c",
            "4facf8aacb504ee7bb35794dbac740c9",
            "acf56854ae954701bd4110c16ca9bd15",
            "39c55a8e99e444db9ad47ca6b780c519",
            "32e31764f6934f9cb89a89c7dfd8ea27",
            "05a971f71fec42679620ddf51c46320f",
            "54de0b3843694b3981c6d1315b4e1628",
            "7d146b5dfd06438ba15e6d59c66205a4",
            "397b00e31cb74025a160929eb6222168"
          ]
        },
        "id": "BDCH7Yq7awnq",
        "outputId": "16dbf9f5-3ff7-4b5c-d0d1-26ef56220296"
      },
      "execution_count": 21,
      "outputs": [
        {
          "output_type": "display_data",
          "data": {
            "text/plain": [
              "Map:   0%|          | 0/32769 [00:00<?, ? examples/s]"
            ],
            "application/vnd.jupyter.widget-view+json": {
              "version_major": 2,
              "version_minor": 0,
              "model_id": "6c69ab2c52084272874c96f38d6e2694"
            }
          },
          "metadata": {}
        },
        {
          "output_type": "display_data",
          "data": {
            "text/plain": [
              "Map:   0%|          | 0/8193 [00:00<?, ? examples/s]"
            ],
            "application/vnd.jupyter.widget-view+json": {
              "version_major": 2,
              "version_minor": 0,
              "model_id": "0953e7f6b3a140f0a0f4254b44f51fa3"
            }
          },
          "metadata": {}
        },
        {
          "output_type": "display_data",
          "data": {
            "text/plain": [
              "Map:   0%|          | 0/3793 [00:00<?, ? examples/s]"
            ],
            "application/vnd.jupyter.widget-view+json": {
              "version_major": 2,
              "version_minor": 0,
              "model_id": "05129fe34ef545e7baa31354ba892968"
            }
          },
          "metadata": {}
        }
      ]
    },
    {
      "cell_type": "markdown",
      "source": [
        "## Evaluation metrics"
      ],
      "metadata": {
        "id": "K2wLqAjS5Kv3"
      }
    },
    {
      "cell_type": "code",
      "source": [
        "accuracy_metric = load_metric(\"accuracy\")\n",
        "f1_metric = load_metric('f1')\n",
        "precision_metric = load_metric('precision')\n",
        "recall_metric = load_metric('recall')\n",
        "\n",
        "def compute_metrics(eval_pred):\n",
        "    logits, labels = eval_pred\n",
        "    predictions = np.argmax(logits, axis=1)\n",
        "    # metrics\n",
        "    acc = accuracy_metric.compute(predictions=predictions, references=labels)\n",
        "    f1 = f1_metric.compute(predictions=predictions, references=labels, average=\"weighted\")\n",
        "    precision = precision_metric.compute(predictions=predictions, references=labels, average=\"weighted\")\n",
        "    recall = recall_metric.compute(predictions=predictions, references=labels, average=\"weighted\")\n",
        "\n",
        "    return {\"accuracy\": acc[\"accuracy\"],\n",
        "            \"f1-score\": f1[\"f1\"],\n",
        "            \"precision\": precision[\"precision\"],\n",
        "            \"recall\": recall[\"recall\"]}"
      ],
      "metadata": {
        "id": "qRgWbCF35KwQ",
        "colab": {
          "base_uri": "https://localhost:8080/",
          "height": 313,
          "referenced_widgets": [
            "81759dfa749a4205a0942f0a2c9ff54a",
            "6acbcd187b1a430995ba4a7628d92ccb",
            "551a3f27471e4253987c14b1a9a37c56",
            "b5f626526f5c4983839c00e879a30246",
            "3e83d8cd98154adea0a05119973ec1f6",
            "175c554a97cf4681934b1b3c7716f989",
            "3937272461d1412da694a0386fd7067a",
            "553e5a3cc55741b39736d441ae5d37a7",
            "0222f244a8a34dd682093b8248403d44",
            "4019b334be7840acbf73b578f84164dd",
            "da511600839d44f18d9c70ce8c7f0bc6",
            "096651369c0a446a8d9fc6bae13dc20f",
            "862b1a42ec0947298f16f3683837b908",
            "b6cc8cc74eb640f78297c0348875a132",
            "3d5ebb9cb78e4e57b6d2280a45b991d2",
            "8b13ae4c9eb84ccb886bbbe92c28fe0d",
            "bfcd227c1b60438baaa8dfc111c362aa",
            "e6cb12dfb92a4fb28778633d12e92c89",
            "1e4818917add4f918c06d4a6b72c463c",
            "fabd0473a3d94eb9b90e21aeb038768d",
            "303de96e4a544cb08ac28de884e84184",
            "c98237c16c65484ebb9faf3e05cb0b5c",
            "614d2acd3a9c465291e986fd7c456ec6",
            "a5de97dec963474a947843c54b3cf5b8",
            "83d862bdf5444333897a2b43ea56cc5b",
            "673c9c970f144fefaade077aaf597967",
            "77dfd900fddd46099d2bbca13cba01d2",
            "7a53ec2b585e47d39739737ff587fdc4",
            "c9047403a2ff43e49daf9af88f2fad53",
            "fc4f4e860a2b4199b68a19dc4ca03c0a",
            "686e76e6e019471aad4435ed6c2fa177",
            "a4f4e208b79b4691a0d4ef10fe4e7a60",
            "3f9d3dcdde5f4758b2e9270f760877a7",
            "e33dbe2917c74b4fbfdbe00cdfabd1e9",
            "e6e9edb8b5aa4d2ebc51cff1000bdb51",
            "f86a71e23cae47e4830b5cefaa87214c",
            "b068805c976943339789435d619679a0",
            "9953b26226ea40848ec71e2448ea8172",
            "7af446d5f48b43f7893a99174cc5537b",
            "98058281335942b38553e17c910e51c0",
            "23c52bd1591e4833b0d93fd2b45f2d09",
            "f70c7101eeb6401386b6b88c816ba7d6",
            "25a0e330fae04c42b0251d91a2d34323",
            "a4c163acd6c14fc3a17bb67cb22150cc"
          ]
        },
        "outputId": "11e39c32-0049-4c4a-9831-8f3246164478"
      },
      "execution_count": 22,
      "outputs": [
        {
          "output_type": "stream",
          "name": "stderr",
          "text": [
            "<ipython-input-22-607060562a56>:1: FutureWarning: load_metric is deprecated and will be removed in the next major version of datasets. Use 'evaluate.load' instead, from the new library 🤗 Evaluate: https://huggingface.co/docs/evaluate\n",
            "  accuracy_metric = load_metric(\"accuracy\")\n"
          ]
        },
        {
          "output_type": "display_data",
          "data": {
            "text/plain": [
              "Downloading builder script:   0%|          | 0.00/1.65k [00:00<?, ?B/s]"
            ],
            "application/vnd.jupyter.widget-view+json": {
              "version_major": 2,
              "version_minor": 0,
              "model_id": "81759dfa749a4205a0942f0a2c9ff54a"
            }
          },
          "metadata": {}
        },
        {
          "output_type": "display_data",
          "data": {
            "text/plain": [
              "Downloading builder script:   0%|          | 0.00/2.32k [00:00<?, ?B/s]"
            ],
            "application/vnd.jupyter.widget-view+json": {
              "version_major": 2,
              "version_minor": 0,
              "model_id": "096651369c0a446a8d9fc6bae13dc20f"
            }
          },
          "metadata": {}
        },
        {
          "output_type": "display_data",
          "data": {
            "text/plain": [
              "Downloading builder script:   0%|          | 0.00/2.58k [00:00<?, ?B/s]"
            ],
            "application/vnd.jupyter.widget-view+json": {
              "version_major": 2,
              "version_minor": 0,
              "model_id": "614d2acd3a9c465291e986fd7c456ec6"
            }
          },
          "metadata": {}
        },
        {
          "output_type": "display_data",
          "data": {
            "text/plain": [
              "Downloading builder script:   0%|          | 0.00/2.52k [00:00<?, ?B/s]"
            ],
            "application/vnd.jupyter.widget-view+json": {
              "version_major": 2,
              "version_minor": 0,
              "model_id": "e33dbe2917c74b4fbfdbe00cdfabd1e9"
            }
          },
          "metadata": {}
        }
      ]
    },
    {
      "cell_type": "code",
      "source": [
        "def get_runtime(results):\n",
        "    runtime = results['eval_runtime']\n",
        "    mins, secs = int(runtime//60), int(runtime % 60)\n",
        "    runtime_str = \"{}m {}s\".format(mins, secs)\n",
        "    return runtime_str\n",
        "\n",
        "def get_metrics_train_val(train_results, val_results):\n",
        "    return [train_results['eval_accuracy'], val_results['eval_accuracy'],\n",
        "            train_results['eval_f1-score'], val_results['eval_f1-score']]\n",
        "\n",
        "def get_metrics_test(test_results):\n",
        "    return [test_results['eval_accuracy'], test_results['eval_f1-score']]\n",
        "\n",
        "\n"
      ],
      "metadata": {
        "id": "KBGFcb46xYIZ"
      },
      "execution_count": 23,
      "outputs": []
    },
    {
      "cell_type": "code",
      "source": [
        "def get_train_val_history(trainer):\n",
        "    # Access to train and validation history loss per epoch\n",
        "    log_history = trainer.state.log_history\n",
        "    train_history, valid_history = [], []\n",
        "\n",
        "    for cur_dict in log_history:\n",
        "        if 'epoch' in cur_dict and (int(cur_dict['epoch']) == cur_dict['epoch'] or cur_dict['step'] % 1000 == 0):\n",
        "            if 'loss' in cur_dict:\n",
        "                train_history.append(cur_dict['loss'])\n",
        "            elif 'eval_loss' in cur_dict:\n",
        "                valid_history.append(cur_dict['eval_loss'])\n",
        "\n",
        "            if len(valid_history) > len(train_history):\n",
        "                valid_history = valid_history[:-1]\n",
        "                break\n",
        "    return train_history, valid_history\n",
        "\n",
        "import matplotlib.pyplot as plt\n",
        "def plot_learning_curve(train_history, val_history, title=''):\n",
        "    fig, ax = plt.subplots(figsize=(5, 4))\n",
        "    ax.plot(train_history, label='Training loss')\n",
        "    ax.plot(val_history, label='Validation loss')\n",
        "    ax.set_xlabel('Epochs')\n",
        "    ax.set_ylabel('Loss')\n",
        "    if len(title) > 0:\n",
        "        ax.set_title(title + ' loss history')\n",
        "    ax.legend()\n",
        "    ax.grid()\n",
        "    plt.show()"
      ],
      "metadata": {
        "id": "0pSJW6wvxZ_N"
      },
      "execution_count": 24,
      "outputs": []
    },
    {
      "cell_type": "markdown",
      "source": [
        "## Training BiLSTM"
      ],
      "metadata": {
        "id": "TPRr71VnzTzO"
      }
    },
    {
      "cell_type": "markdown",
      "source": [
        "### Data collator"
      ],
      "metadata": {
        "id": "HURlRpskxL56"
      }
    },
    {
      "cell_type": "code",
      "source": [
        "def collate_fn(batch):\n",
        "    # Extract the input sequences and labels from the batch\n",
        "    input_ids = [sample['input_ids'] for sample in batch]\n",
        "    labels = [sample['labels'] for sample in batch]\n",
        "    # Calculate true lengths using the attention mask\n",
        "    lengths = [sum(sample['attention_mask']) for sample in batch]\n",
        "    #attention_masks = [sample['attention_mask'] for sample in batch]\n",
        "\n",
        "    # Convert lists to tensors\n",
        "    #input_ids = torch.stack(input_ids, dim=0)\n",
        "    input_ids = torch.tensor(input_ids)\n",
        "    labels = torch.tensor(labels)\n",
        "    lengths = torch.tensor(lengths)\n",
        "\n",
        "    # Sort the sequences by length in descending order\n",
        "    lengths_sorted, sorted_indices = torch.sort(lengths, descending=True)\n",
        "    inputs_sorted = input_ids[sorted_indices]\n",
        "    labels_sorted = labels[sorted_indices]\n",
        "\n",
        "    return { 'length': lengths_sorted, 'labels': labels_sorted, 'input_ids': inputs_sorted}"
      ],
      "metadata": {
        "id": "YrDV4ZPwxMDL"
      },
      "execution_count": null,
      "outputs": []
    },
    {
      "cell_type": "markdown",
      "source": [
        "### Model"
      ],
      "metadata": {
        "id": "hskfRMEzzaBJ"
      }
    },
    {
      "cell_type": "code",
      "source": [
        "class RNNModel(nn.Module):\n",
        "    def __init__(self, embed_size, vocab_size, num_classes, hidden_size,\n",
        "                       num_layers=1, net_type='rnn', bidirectional=False,\n",
        "                       dropout=0, use_pooling=False, device=\"cpu\"):\n",
        "        super().__init__()\n",
        "        self.net_type = net_type\n",
        "        self.use_pooling = use_pooling\n",
        "        self.num_classes = num_classes\n",
        "\n",
        "        # Embedding layer\n",
        "        self.word_embeddings = nn.Embedding(vocab_size, embed_size)\n",
        "\n",
        "        # RNN\n",
        "        if net_type == 'lstm':\n",
        "            self.cell = nn.LSTM(embed_size, hidden_size, batch_first=True, num_layers=num_layers, bidirectional=bidirectional)\n",
        "        elif net_type == 'gru':\n",
        "            self.cell = nn.GRU(embed_size, hidden_size, batch_first=True, num_layers=num_layers, bidirectional=bidirectional)\n",
        "        else:\n",
        "            raise ValueError(\"Invalir net_type. Valid options: lstm and gru\")\n",
        "        if bidirectional:\n",
        "            hidden_size *= 2\n",
        "\n",
        "        # classifier\n",
        "        #self.classifier = nn.Sequential(\n",
        "        #    nn.Linear(hidden_size, hidden_size//2),\n",
        "        #    nn.ReLU(),\n",
        "        #    nn.Dropout(dropout),\n",
        "        #    nn.Linear(hidden_size//2, num_classes)\n",
        "        #)\n",
        "        self.classifier = nn.Linear(hidden_size, num_classes)\n",
        "\n",
        "        # Regularizer\n",
        "        self.dropout = nn.Dropout(dropout)\n",
        "\n",
        "        # Required by huggingface\n",
        "        self.device = device\n",
        "\n",
        "\n",
        "    def forward(self, input_ids, length, labels=None):\n",
        "        #labels are required to compute loss in huggingface (used in evaluation phase)\n",
        "        X = self.word_embeddings(input_ids) #[batch_size, seq_len, embed_size]\n",
        "        X = self.dropout(X)\n",
        "\n",
        "        # Forward without considering padding\n",
        "        packed_inputs = rnn_utils.pack_padded_sequence(X, length.to('cpu'), batch_first=True)\n",
        "        output_packed, _ = self.cell(packed_inputs)\n",
        "        outputs, output_lengths = rnn_utils.pad_packed_sequence(output_packed, batch_first=True,padding_value=-10000) #outputs -> [batch_size, seq_len, 2*hidden_size])\n",
        "\n",
        "        if self.use_pooling:\n",
        "            # Max pooling of all the output vectors\n",
        "            out = outputs.max(1)[0]\n",
        "        else:\n",
        "            # First output vector (CLS vector)\n",
        "            out = outputs[:,0,:]\n",
        "\n",
        "        # Logits\n",
        "        logits = self.classifier(out)\n",
        "\n",
        "        # Based on huggingface source\n",
        "        loss = None\n",
        "        if labels is not None:\n",
        "            loss_fn = nn.CrossEntropyLoss()\n",
        "            loss = loss_fn(logits.view(-1, self.num_classes), labels.view(-1))\n",
        "\n",
        "        # Huggingface models require a specific output\n",
        "        return SequenceClassifierOutput(\n",
        "            loss=loss,\n",
        "            logits=logits,\n",
        "            hidden_states = None,\n",
        "            attentions=None\n",
        "        )"
      ],
      "metadata": {
        "id": "c5ORipeozbhh"
      },
      "execution_count": 25,
      "outputs": []
    },
    {
      "cell_type": "markdown",
      "source": [
        "### Training arguments"
      ],
      "metadata": {
        "id": "16437DG23HZs"
      }
    },
    {
      "cell_type": "code",
      "source": [
        "from transformers import TrainingArguments, Trainer\n",
        "import torch\n",
        "import torch.nn as nn\n",
        "import torch.nn.functional as F\n",
        "\n",
        "batch_size = 32\n",
        "num_epochs = 10\n",
        "lr = 5e-3\n",
        "embed_size = 128\n",
        "num_classes = 3\n",
        "vocab_size = config_bert.vocab_size\n",
        "hidden_size = 128 #hidden_size in rnn\n",
        "dropout = 0.5\n",
        "weight_decay = 1e-3\n",
        "net_type=\"lstm\" #\"gru\"\n",
        "rnn_model = RNNModel(embed_size, vocab_size, num_classes, hidden_size,\n",
        "                     num_layers=1, net_type=net_type, bidirectional=True,\n",
        "                     dropout=dropout,use_pooling=True, device=device)\n",
        "\n",
        "\n",
        "# name for the repository on the hub\n",
        "repo_name = \"distilled-bert-covid-tweets\"\n",
        "\n",
        "#!pip install --upgrade accelerate\n",
        "training_args = TrainingArguments(output_dir=repo_name,\n",
        "                                  num_train_epochs = num_epochs,\n",
        "                                  evaluation_strategy =\"epoch\",\n",
        "                                  save_strategy = \"epoch\",\n",
        "                                  per_device_train_batch_size = batch_size,\n",
        "                                  per_device_eval_batch_size = batch_size,\n",
        "                                  learning_rate = lr,\n",
        "                                  load_best_model_at_end=True,\n",
        "                                  metric_for_best_model=\"accuracy\",\n",
        "                                  fp16=True,\n",
        "                                  weight_decay=weight_decay,\n",
        "                                  #push_to_hub=True,\n",
        "                                  #hub_model_id=repo_name,\n",
        "                                  remove_unused_columns=False,\n",
        "                                  model_type=\"lstm\",\n",
        "                                  distil_loss='kl',\n",
        "                                  lr_scheduler_type ='constant'\n",
        "                                  )"
      ],
      "metadata": {
        "id": "Fttx6F5u3JBf"
      },
      "execution_count": null,
      "outputs": []
    },
    {
      "cell_type": "code",
      "source": [
        "trainer = Trainer(\n",
        "    rnn_model,\n",
        "    training_args,\n",
        "    train_dataset = train_ds,\n",
        "    eval_dataset = val_ds,\n",
        "    tokenizer=tokenizer,\n",
        "    compute_metrics=compute_metrics,\n",
        "    data_collator=collate_fn\n",
        ")"
      ],
      "metadata": {
        "id": "AOPFoHg-D-nV"
      },
      "execution_count": null,
      "outputs": []
    },
    {
      "cell_type": "code",
      "source": [
        "results = trainer.train()"
      ],
      "metadata": {
        "colab": {
          "base_uri": "https://localhost:8080/",
          "height": 445
        },
        "id": "kUSSAicTUiv9",
        "outputId": "6c3b2faa-4cf9-426a-94f5-106e75cfac8c"
      },
      "execution_count": null,
      "outputs": [
        {
          "output_type": "stream",
          "name": "stderr",
          "text": [
            "/usr/local/lib/python3.10/dist-packages/transformers/optimization.py:411: FutureWarning: This implementation of AdamW is deprecated and will be removed in a future version. Use the PyTorch implementation torch.optim.AdamW instead, or set `no_deprecation_warning=True` to disable this warning\n",
            "  warnings.warn(\n"
          ]
        },
        {
          "output_type": "display_data",
          "data": {
            "text/plain": [
              "<IPython.core.display.HTML object>"
            ],
            "text/html": [
              "\n",
              "    <div>\n",
              "      \n",
              "      <progress value='10250' max='10250' style='width:300px; height:20px; vertical-align: middle;'></progress>\n",
              "      [10250/10250 03:56, Epoch 10/10]\n",
              "    </div>\n",
              "    <table border=\"1\" class=\"dataframe\">\n",
              "  <thead>\n",
              " <tr style=\"text-align: left;\">\n",
              "      <th>Epoch</th>\n",
              "      <th>Training Loss</th>\n",
              "      <th>Validation Loss</th>\n",
              "      <th>Accuracy</th>\n",
              "      <th>F1-score</th>\n",
              "      <th>Precision</th>\n",
              "      <th>Recall</th>\n",
              "    </tr>\n",
              "  </thead>\n",
              "  <tbody>\n",
              "    <tr>\n",
              "      <td>1</td>\n",
              "      <td>0.720700</td>\n",
              "      <td>0.607629</td>\n",
              "      <td>0.773343</td>\n",
              "      <td>0.774703</td>\n",
              "      <td>0.780614</td>\n",
              "      <td>0.773343</td>\n",
              "    </tr>\n",
              "    <tr>\n",
              "      <td>2</td>\n",
              "      <td>0.539600</td>\n",
              "      <td>0.513701</td>\n",
              "      <td>0.826559</td>\n",
              "      <td>0.827142</td>\n",
              "      <td>0.830169</td>\n",
              "      <td>0.826559</td>\n",
              "    </tr>\n",
              "    <tr>\n",
              "      <td>3</td>\n",
              "      <td>0.460700</td>\n",
              "      <td>0.497079</td>\n",
              "      <td>0.839741</td>\n",
              "      <td>0.839258</td>\n",
              "      <td>0.845104</td>\n",
              "      <td>0.839741</td>\n",
              "    </tr>\n",
              "    <tr>\n",
              "      <td>4</td>\n",
              "      <td>0.396100</td>\n",
              "      <td>0.445721</td>\n",
              "      <td>0.860247</td>\n",
              "      <td>0.860354</td>\n",
              "      <td>0.860597</td>\n",
              "      <td>0.860247</td>\n",
              "    </tr>\n",
              "    <tr>\n",
              "      <td>5</td>\n",
              "      <td>0.355000</td>\n",
              "      <td>0.426156</td>\n",
              "      <td>0.867570</td>\n",
              "      <td>0.867388</td>\n",
              "      <td>0.867609</td>\n",
              "      <td>0.867570</td>\n",
              "    </tr>\n",
              "    <tr>\n",
              "      <td>6</td>\n",
              "      <td>0.316900</td>\n",
              "      <td>0.415221</td>\n",
              "      <td>0.872818</td>\n",
              "      <td>0.872531</td>\n",
              "      <td>0.872605</td>\n",
              "      <td>0.872818</td>\n",
              "    </tr>\n",
              "    <tr>\n",
              "      <td>7</td>\n",
              "      <td>0.293700</td>\n",
              "      <td>0.416485</td>\n",
              "      <td>0.874771</td>\n",
              "      <td>0.874481</td>\n",
              "      <td>0.874563</td>\n",
              "      <td>0.874771</td>\n",
              "    </tr>\n",
              "    <tr>\n",
              "      <td>8</td>\n",
              "      <td>0.274000</td>\n",
              "      <td>0.414023</td>\n",
              "      <td>0.875870</td>\n",
              "      <td>0.875559</td>\n",
              "      <td>0.875687</td>\n",
              "      <td>0.875870</td>\n",
              "    </tr>\n",
              "    <tr>\n",
              "      <td>9</td>\n",
              "      <td>0.261300</td>\n",
              "      <td>0.415425</td>\n",
              "      <td>0.877212</td>\n",
              "      <td>0.876720</td>\n",
              "      <td>0.877211</td>\n",
              "      <td>0.877212</td>\n",
              "    </tr>\n",
              "    <tr>\n",
              "      <td>10</td>\n",
              "      <td>0.240700</td>\n",
              "      <td>0.411057</td>\n",
              "      <td>0.878555</td>\n",
              "      <td>0.878147</td>\n",
              "      <td>0.878485</td>\n",
              "      <td>0.878555</td>\n",
              "    </tr>\n",
              "  </tbody>\n",
              "</table><p>"
            ]
          },
          "metadata": {}
        }
      ]
    },
    {
      "cell_type": "markdown",
      "source": [
        "#### Methods to show summary of results"
      ],
      "metadata": {
        "id": "CyNgPCv9d7IT"
      }
    },
    {
      "cell_type": "code",
      "source": [
        "def print_table(headers, values):\n",
        "    table = PrettyTable(headers)\n",
        "    for i in values:\n",
        "        table.add_row(i)\n",
        "    table.float_format = '.3'\n",
        "    print(table)\n",
        "\n",
        "def add_results(name, ckp_results):\n",
        "    return [name, ckp_results['train_loss'], ckp_results['val_loss'],\n",
        "                  ckp_results['train_acc'], ckp_results['val_acc'] ]\n",
        "\n",
        "def total_num_parameters(model, millions=True, model_name='lstm'):\n",
        "    if model_name == 'bert':\n",
        "        num_parameters = model.num_parameters()\n",
        "    else:\n",
        "        num_parameters = sum(p.numel() for p in model.parameters())\n",
        "\n",
        "    suffix = ''\n",
        "    if millions:\n",
        "        num_parameters /= 1e6\n",
        "        suffix = 'M'\n",
        "    output = \"{:.2f} \" + suffix\n",
        "    return output.format(num_parameters)"
      ],
      "metadata": {
        "id": "xhC540GNbR-m"
      },
      "execution_count": 26,
      "outputs": []
    },
    {
      "cell_type": "code",
      "source": [
        "print_table([\"Model\", \"Parameters\"], [ \\\n",
        "            ['BiLSTM', total_num_parameters(rnn_model)]\n",
        "           ])"
      ],
      "metadata": {
        "colab": {
          "base_uri": "https://localhost:8080/"
        },
        "id": "qD88WafWcbM4",
        "outputId": "71d11718-fe43-4899-b7b4-d398c35b7fb9"
      },
      "execution_count": null,
      "outputs": [
        {
          "output_type": "stream",
          "name": "stdout",
          "text": [
            "+--------+------------+\n",
            "| Model  | Parameters |\n",
            "+--------+------------+\n",
            "| BiLSTM |   4.17 M   |\n",
            "+--------+------------+\n"
          ]
        }
      ]
    },
    {
      "cell_type": "markdown",
      "source": [
        "## Distillation"
      ],
      "metadata": {
        "id": "XHz7UJt_1RH8"
      }
    },
    {
      "cell_type": "markdown",
      "source": [
        "### Data collator"
      ],
      "metadata": {
        "id": "i-jrK4sqeOrE"
      }
    },
    {
      "cell_type": "code",
      "source": [
        "def distill_lstm_collate_fn(batch):\n",
        "    # Extract the input sequences and labels from the batch\n",
        "    input_ids = [sample['input_ids'] for sample in batch]\n",
        "    labels = [sample['labels'] for sample in batch]\n",
        "    # Calculate true lengths using the attention mask\n",
        "    lengths = [sum(sample['attention_mask']) for sample in batch]\n",
        "    # Attention masks used by the teacher\n",
        "    attention_masks = [sample['attention_mask'] for sample in batch]\n",
        "\n",
        "    # Convert lists to tensors\n",
        "    input_ids = torch.tensor(input_ids)\n",
        "    labels = torch.tensor(labels)\n",
        "    lengths = torch.tensor(lengths)\n",
        "    attention_masks = torch.tensor(attention_masks)\n",
        "\n",
        "    # Sort the sequences by length in descending order\n",
        "    lengths_sorted, sorted_indices = torch.sort(lengths, descending=True)\n",
        "    inputs_sorted = input_ids[sorted_indices]\n",
        "    labels_sorted = labels[sorted_indices]\n",
        "\n",
        "    return { 'length': lengths_sorted, 'labels': labels_sorted, 'input_ids': inputs_sorted, 'attention_mask': attention_masks}"
      ],
      "metadata": {
        "id": "IVp01RF7eQ1o"
      },
      "execution_count": 27,
      "outputs": []
    },
    {
      "cell_type": "markdown",
      "source": [
        "### Custom trainer"
      ],
      "metadata": {
        "id": "j-fiYsSoZS8Z"
      }
    },
    {
      "cell_type": "code",
      "source": [
        "import torch.nn.functional as F\n",
        "\n",
        "class Losses():\n",
        "    def distillation_loss_mse(self, student_logits, teacher_logits):\n",
        "        loss = F.mse_loss(student_logits, teacher_logits)\n",
        "        return loss\n",
        "\n",
        "    def distillation_loss_kl(self, student_logits, teacher_logits, temperature=1):\n",
        "        student_log_probs = F.log_softmax(student_logits / temperature, dim=-1)\n",
        "        teacher_probs = F.softmax(teacher_logits / temperature, dim=-1)\n",
        "        loss = F.kl_div(student_log_probs, teacher_probs.detach(),\n",
        "                        reduction='batchmean') * (temperature**2)\n",
        "\n",
        "        #student_probs = F.softmax(student_logits / temperature, dim=-1)\n",
        "        #teacher_probs = F.softmax(teacher_logits / temperature, dim=-1)\n",
        "        #loss = F.kl_div(student_probs.log(), teacher_probs.detach(), reduction='batchmean')\n",
        "        return loss"
      ],
      "metadata": {
        "id": "m6cFhEE9m4Yv"
      },
      "execution_count": 28,
      "outputs": []
    },
    {
      "cell_type": "code",
      "source": [
        "from transformers import TrainingArguments, Trainer\n",
        "import torch\n",
        "import torch.nn as nn\n",
        "import torch.nn.functional as F\n",
        "\n",
        "class DistillationTrainingArguments(TrainingArguments):\n",
        "    def __init__(self, *args, alpha=0.5, temperature=2.0, model_type=None, distil_loss='mse',**kwargs):\n",
        "        super().__init__(*args, **kwargs)\n",
        "        self.alpha = alpha\n",
        "        self.temperature = temperature\n",
        "        self.model_type=model_type\n",
        "        self.distil_loss = distil_loss\n",
        "\n",
        "class DistillationTrainer(Trainer):\n",
        "    def __init__(self, *args, teacher_model=None, **kwargs):\n",
        "        super().__init__(*args, **kwargs)\n",
        "        self.teacher = teacher_model\n",
        "        # place teacher on same device as student\n",
        "        self._move_model_to_device(self.teacher, self.model.device)\n",
        "        self.teacher.eval()\n",
        "        self.losses = Losses()\n",
        "\n",
        "    def compute_loss(self, model, inputs, return_outputs=False):\n",
        "        # Student forward\n",
        "        if self.args.model_type == \"lstm\":\n",
        "          outputs_student = model(inputs['input_ids'], inputs['length'], inputs['labels'])\n",
        "        elif self.args.model_type == \"smallbert\":\n",
        "          student_inputs = {'input_ids': inputs['input_ids'], 'attention_mask':inputs['attention_mask'], 'labels':inputs['labels']}\n",
        "          outputs_student = model(**student_inputs)\n",
        "        else:\n",
        "          outputs_student = model(inputs['input_ids'], inputs['labels'])\n",
        "        student_loss = outputs_student.loss\n",
        "        student_logits = outputs_student.get(\"logits\")\n",
        "\n",
        "        #if self.args.alpha == 1.0:\n",
        "          # Weighted loss\n",
        "          #loss = self.args.alpha * student_loss + (1. - self.args.alpha) * kl_loss\n",
        "\n",
        "          #return (loss, outputs_student) if return_outputs else loss\n",
        "        #else:\n",
        "        # Teacher forward\n",
        "        with torch.no_grad():\n",
        "          teacher_inputs = {'input_ids': inputs['input_ids'], 'attention_mask':inputs['attention_mask'], 'labels':inputs['labels'] }\n",
        "          outputs_teacher = self.teacher(**teacher_inputs)\n",
        "        teacher_logits = outputs_teacher.get(\"logits\")\n",
        "\n",
        "        # Assert size\n",
        "        assert student_logits.size() == teacher_logits.size()\n",
        "\n",
        "        # Distillation Loss\n",
        "        if self.args.distil_loss == 'mse':\n",
        "          kl_loss = self.losses.distillation_loss_mse(student_logits,teacher_logits)\n",
        "        elif self.args.distil_loss == 'kl':\n",
        "          kl_loss = self.losses.distillation_loss_kl(student_logits, teacher_logits, self.args.temperature)\n",
        "        else:\n",
        "          raise RuntimeError(\"Unknown distillation loss: {}, only supported: mse and kl\".format(self.args.distil_loss))\n",
        "\n",
        "        # Weighted loss\n",
        "        loss = self.args.alpha * student_loss + (1. - self.args.alpha) * kl_loss\n",
        "\n",
        "        return (loss, outputs_student) if return_outputs else loss"
      ],
      "metadata": {
        "id": "gQ57UUfhZbze"
      },
      "execution_count": 29,
      "outputs": []
    },
    {
      "cell_type": "markdown",
      "source": [
        "## Cross-Validation"
      ],
      "metadata": {
        "id": "Ob0Pn1p0nAbK"
      }
    },
    {
      "cell_type": "code",
      "source": [
        "from sklearn.model_selection import KFold\n",
        "from sklearn.model_selection import StratifiedKFold\n",
        "import copy\n",
        "\n",
        "def cross_validate(input_model, teacher_model, train_total_ds,\n",
        "                   num_splits, training_args, tokenizer, collate_fn=None):\n",
        "    kf= StratifiedKFold(n_splits=5)\n",
        "    #kf = KFold(n_splits=num_splits, shuffle=True)\n",
        "    #cv_scores = {\"train_loss\":[], \"val_loss\":[],\n",
        "    #             \"train_acc\":[], \"val_acc\":[],\n",
        "    #             \"train_f1\":[], \"val_f1\":[]}\n",
        "    cv_scores = {'train': {}, 'val':{}}\n",
        "    splits = kf.split(np.zeros(train_total_ds.num_rows), train_total_ds['labels'])\n",
        "    for i, (train_indices, val_indices) in enumerate(splits):\n",
        "        train_ds = train_total_ds.select(train_indices)\n",
        "        val_ds = train_total_ds.select(val_indices)\n",
        "\n",
        "        student_model = copy.deepcopy(input_model)\n",
        "        trainer_distillation = DistillationTrainer(\n",
        "            student_model,\n",
        "            training_args,\n",
        "            teacher_model=teacher_model,\n",
        "            train_dataset = train_ds,\n",
        "            eval_dataset = val_ds,\n",
        "            tokenizer=tokenizer,\n",
        "            compute_metrics=compute_metrics,\n",
        "            data_collator=collate_fn\n",
        "        )\n",
        "        print(f\"Fold: ({i+1}/{num_splits})\")\n",
        "        results = trainer_distillation.train()\n",
        "        print()\n",
        "\n",
        "        results_train = trainer_distillation.evaluate(train_ds)\n",
        "        results_val = trainer_distillation.evaluate(val_ds)\n",
        "\n",
        "        for key, value in results_train.items():\n",
        "            if key in cv_scores['train']:\n",
        "                cv_scores['train'][key].append(value)\n",
        "            else:\n",
        "                cv_scores['train'][key] = [value]\n",
        "\n",
        "        for key, value in results_val.items():\n",
        "            if key in cv_scores['val']:\n",
        "                cv_scores['val'][key].append(value)\n",
        "            else:\n",
        "                cv_scores['val'][key] = [value]\n",
        "    return cv_scores"
      ],
      "metadata": {
        "id": "b9dc3EQHnERd"
      },
      "execution_count": null,
      "outputs": []
    },
    {
      "cell_type": "markdown",
      "source": [
        "### Training arguments BiLSTM\n"
      ],
      "metadata": {
        "id": "VXYwOnkr2t-O"
      }
    },
    {
      "cell_type": "code",
      "source": [
        "batch_size = 32\n",
        "num_epochs = 7\n",
        "lr = 5e-3\n",
        "embed_size = 128\n",
        "num_classes = 3\n",
        "vocab_size = config_bert.vocab_size\n",
        "hidden_size = 128 #hidden_size in rnn\n",
        "dropout = 0.2\n",
        "weight_decay = 1e-3\n",
        "net_type=\"lstm\" #\"gru\"\n",
        "\n",
        "temperature=4.0\n",
        "alpha=0.5\n",
        "\n",
        "student_rnn_model = RNNModel(embed_size, vocab_size, num_classes, hidden_size,\n",
        "                         num_layers=1, net_type=net_type, bidirectional=True,\n",
        "                         dropout=dropout,use_pooling=True, device=device)\n",
        "teacher_model = AutoModelForSequenceClassification.from_pretrained(teacher_id)\n",
        "\n",
        "\n",
        "# name for the repository on the hub\n",
        "repo_name = \"distilled-bert-covid-tweets\"\n",
        "\n",
        "#!pip install --upgrade accelerate\n",
        "training_args = DistillationTrainingArguments(output_dir=repo_name,\n",
        "                                              num_train_epochs = num_epochs,\n",
        "                                              evaluation_strategy =\"epoch\",\n",
        "                                              save_strategy = \"epoch\",\n",
        "                                              per_device_train_batch_size = batch_size,\n",
        "                                              per_device_eval_batch_size = batch_size,\n",
        "                                              learning_rate = lr,\n",
        "                                              load_best_model_at_end=True,\n",
        "                                              metric_for_best_model=\"accuracy\",\n",
        "                                              fp16=True,\n",
        "                                              weight_decay=weight_decay,\n",
        "                                              #push_to_hub=True,\n",
        "                                              #hub_model_id=repo_name,\n",
        "                                              temperature=temperature,\n",
        "                                              alpha=alpha,\n",
        "                                              remove_unused_columns=False,\n",
        "                                              model_type=\"lstm\",\n",
        "                                              distil_loss='kl',\n",
        "                                              lr_scheduler_type ='constant'\n",
        "                                              )"
      ],
      "metadata": {
        "id": "gMzVrk81fQi0",
        "colab": {
          "base_uri": "https://localhost:8080/",
          "height": 77,
          "referenced_widgets": [
            "0b4822ee7e0f4aeda4be1b7746a6bf74",
            "677e9575b4234469b45481a05a930339",
            "1b9672d3b88c472d97ea4eb061c666b1",
            "6808fe305e264208a61d4e7339023130",
            "897c2323cb57473a991b1c6c882b6c65",
            "1b74df79023e469cb7e3f7ef3799acff",
            "63fb7a9d1fe74aeeb78b6472c353bde2",
            "c106acc26f974e1cb976050820284973",
            "3a4b2ea617304ca39acdf5bb4abe18bb",
            "3aac351c7d1c4d05bcca827ffe1d6c46",
            "a723072bca3544ef88b04edae98b2d81"
          ]
        },
        "outputId": "af17182a-e779-409a-e536-cfd71f258205"
      },
      "execution_count": 30,
      "outputs": [
        {
          "output_type": "display_data",
          "data": {
            "text/plain": [
              "Downloading pytorch_model.bin:   0%|          | 0.00/438M [00:00<?, ?B/s]"
            ],
            "application/vnd.jupyter.widget-view+json": {
              "version_major": 2,
              "version_minor": 0,
              "model_id": "0b4822ee7e0f4aeda4be1b7746a6bf74"
            }
          },
          "metadata": {}
        }
      ]
    },
    {
      "cell_type": "code",
      "source": [
        "trainer_distillation = DistillationTrainer(\n",
        "    student_rnn_model,\n",
        "    training_args,\n",
        "    teacher_model=teacher_model,\n",
        "    train_dataset = train_ds,\n",
        "    eval_dataset = val_ds,\n",
        "    tokenizer=tokenizer,\n",
        "    compute_metrics=compute_metrics,\n",
        "    data_collator=distill_lstm_collate_fn\n",
        ")"
      ],
      "metadata": {
        "id": "TN28e-dEfiN9"
      },
      "execution_count": 31,
      "outputs": []
    },
    {
      "cell_type": "markdown",
      "source": [
        "##For alpha = 0.5 and T = 4.0"
      ],
      "metadata": {
        "id": "QZkvfBx8z2Q2"
      }
    },
    {
      "cell_type": "code",
      "source": [
        "results_distillation_lstm = trainer_distillation.train()"
      ],
      "metadata": {
        "colab": {
          "base_uri": "https://localhost:8080/",
          "height": 569
        },
        "id": "0uMZd-vffzOf",
        "outputId": "6ee5084d-ce25-4a83-89d5-f7227c03474b"
      },
      "execution_count": 32,
      "outputs": [
        {
          "metadata": {
            "tags": null
          },
          "name": "stderr",
          "output_type": "stream",
          "text": [
            "/usr/local/lib/python3.10/dist-packages/transformers/optimization.py:411: FutureWarning: This implementation of AdamW is deprecated and will be removed in a future version. Use the PyTorch implementation torch.optim.AdamW instead, or set `no_deprecation_warning=True` to disable this warning\n",
            "  warnings.warn(\n"
          ]
        },
        {
          "data": {
            "text/html": [
              "\n",
              "    <div>\n",
              "      \n",
              "      <progress value='4275' max='7175' style='width:300px; height:20px; vertical-align: middle;'></progress>\n",
              "      [4275/7175 15:42 < 10:39, 4.54 it/s, Epoch 4.17/7]\n",
              "    </div>\n",
              "    <table border=\"1\" class=\"dataframe\">\n",
              "  <thead>\n",
              " <tr style=\"text-align: left;\">\n",
              "      <th>Epoch</th>\n",
              "      <th>Training Loss</th>\n",
              "      <th>Validation Loss</th>\n",
              "      <th>Accuracy</th>\n",
              "      <th>F1-score</th>\n",
              "      <th>Precision</th>\n",
              "      <th>Recall</th>\n",
              "    </tr>\n",
              "  </thead>\n",
              "  <tbody>\n",
              "    <tr>\n",
              "      <td>1</td>\n",
              "      <td>1.517400</td>\n",
              "      <td>1.300430</td>\n",
              "      <td>0.814964</td>\n",
              "      <td>0.815564</td>\n",
              "      <td>0.818606</td>\n",
              "      <td>0.814964</td>\n",
              "    </tr>\n",
              "    <tr>\n",
              "      <td>2</td>\n",
              "      <td>1.046000</td>\n",
              "      <td>1.055243</td>\n",
              "      <td>0.851703</td>\n",
              "      <td>0.851969</td>\n",
              "      <td>0.854515</td>\n",
              "      <td>0.851703</td>\n",
              "    </tr>\n",
              "    <tr>\n",
              "      <td>3</td>\n",
              "      <td>0.883300</td>\n",
              "      <td>0.946826</td>\n",
              "      <td>0.857561</td>\n",
              "      <td>0.857190</td>\n",
              "      <td>0.859751</td>\n",
              "      <td>0.857561</td>\n",
              "    </tr>\n",
              "    <tr>\n",
              "      <td>4</td>\n",
              "      <td>0.807800</td>\n",
              "      <td>0.926623</td>\n",
              "      <td>0.869035</td>\n",
              "      <td>0.868655</td>\n",
              "      <td>0.870357</td>\n",
              "      <td>0.869035</td>\n",
              "    </tr>\n",
              "  </tbody>\n",
              "</table><p>"
            ],
            "text/plain": [
              "<IPython.core.display.HTML object>"
            ]
          },
          "metadata": {},
          "output_type": "display_data"
        },
        {
          "output_type": "display_data",
          "data": {
            "text/plain": [
              "<IPython.core.display.HTML object>"
            ],
            "text/html": [
              "\n",
              "    <div>\n",
              "      \n",
              "      <progress value='7175' max='7175' style='width:300px; height:20px; vertical-align: middle;'></progress>\n",
              "      [7175/7175 26:36, Epoch 7/7]\n",
              "    </div>\n",
              "    <table border=\"1\" class=\"dataframe\">\n",
              "  <thead>\n",
              " <tr style=\"text-align: left;\">\n",
              "      <th>Epoch</th>\n",
              "      <th>Training Loss</th>\n",
              "      <th>Validation Loss</th>\n",
              "      <th>Accuracy</th>\n",
              "      <th>F1-score</th>\n",
              "      <th>Precision</th>\n",
              "      <th>Recall</th>\n",
              "    </tr>\n",
              "  </thead>\n",
              "  <tbody>\n",
              "    <tr>\n",
              "      <td>1</td>\n",
              "      <td>1.517400</td>\n",
              "      <td>1.300430</td>\n",
              "      <td>0.814964</td>\n",
              "      <td>0.815564</td>\n",
              "      <td>0.818606</td>\n",
              "      <td>0.814964</td>\n",
              "    </tr>\n",
              "    <tr>\n",
              "      <td>2</td>\n",
              "      <td>1.046000</td>\n",
              "      <td>1.055243</td>\n",
              "      <td>0.851703</td>\n",
              "      <td>0.851969</td>\n",
              "      <td>0.854515</td>\n",
              "      <td>0.851703</td>\n",
              "    </tr>\n",
              "    <tr>\n",
              "      <td>3</td>\n",
              "      <td>0.883300</td>\n",
              "      <td>0.946826</td>\n",
              "      <td>0.857561</td>\n",
              "      <td>0.857190</td>\n",
              "      <td>0.859751</td>\n",
              "      <td>0.857561</td>\n",
              "    </tr>\n",
              "    <tr>\n",
              "      <td>4</td>\n",
              "      <td>0.807800</td>\n",
              "      <td>0.926623</td>\n",
              "      <td>0.869035</td>\n",
              "      <td>0.868655</td>\n",
              "      <td>0.870357</td>\n",
              "      <td>0.869035</td>\n",
              "    </tr>\n",
              "    <tr>\n",
              "      <td>5</td>\n",
              "      <td>0.750800</td>\n",
              "      <td>0.879030</td>\n",
              "      <td>0.883193</td>\n",
              "      <td>0.882906</td>\n",
              "      <td>0.883111</td>\n",
              "      <td>0.883193</td>\n",
              "    </tr>\n",
              "    <tr>\n",
              "      <td>6</td>\n",
              "      <td>0.714100</td>\n",
              "      <td>0.918887</td>\n",
              "      <td>0.880996</td>\n",
              "      <td>0.880467</td>\n",
              "      <td>0.881170</td>\n",
              "      <td>0.880996</td>\n",
              "    </tr>\n",
              "    <tr>\n",
              "      <td>7</td>\n",
              "      <td>0.703000</td>\n",
              "      <td>0.876137</td>\n",
              "      <td>0.880874</td>\n",
              "      <td>0.880695</td>\n",
              "      <td>0.880756</td>\n",
              "      <td>0.880874</td>\n",
              "    </tr>\n",
              "  </tbody>\n",
              "</table><p>"
            ]
          },
          "metadata": {}
        }
      ]
    },
    {
      "cell_type": "code",
      "source": [
        "# Results after training\n",
        "train_results = trainer_distillation.evaluate(train_ds)\n",
        "val_results = trainer_distillation.evaluate(val_ds)\n",
        "\n",
        "# Summary of CNN results\n",
        "rnn_num_params = total_num_parameters(student_rnn_model)\n",
        "print_table([\"Model\", \"Train ACC\", \"Val ACC\", \"Train F1\", \"Val F1\", \"Parameters\", \"Val Runtime\"], [ \\\n",
        "            ['Small RNN', *get_metrics_train_val(train_results, val_results), rnn_num_params, get_runtime(val_results)]\n",
        "           ])"
      ],
      "metadata": {
        "colab": {
          "base_uri": "https://localhost:8080/",
          "height": 146
        },
        "id": "CqOY5etz1UC4",
        "outputId": "d2da83bb-f98f-46d1-9679-4398419e022a"
      },
      "execution_count": null,
      "outputs": [
        {
          "output_type": "display_data",
          "data": {
            "text/plain": [
              "<IPython.core.display.HTML object>"
            ],
            "text/html": [
              "\n",
              "    <div>\n",
              "      \n",
              "      <progress value='2797' max='119' style='width:300px; height:20px; vertical-align: middle;'></progress>\n",
              "      [119/119 15:41]\n",
              "    </div>\n",
              "    "
            ]
          },
          "metadata": {}
        },
        {
          "output_type": "stream",
          "name": "stdout",
          "text": [
            "+-----------+-----------+---------+----------+--------+------------+-------------+\n",
            "|   Model   | Train ACC | Val ACC | Train F1 | Val F1 | Parameters | Val Runtime |\n",
            "+-----------+-----------+---------+----------+--------+------------+-------------+\n",
            "| Small RNN |   0.954   |  0.875  |  0.954   | 0.875  |   4.17 M   |    0m 46s   |\n",
            "+-----------+-----------+---------+----------+--------+------------+-------------+\n"
          ]
        }
      ]
    },
    {
      "cell_type": "code",
      "source": [
        "# Test data\n",
        "test_results = trainer_distillation.evaluate(test_ds)\n",
        "\n",
        "# Summary of LSTM results for Test data\n",
        "rnn_num_params = total_num_parameters(student_rnn_model)\n",
        "print_table([\"Model\", \"Test ACC\", \"Test F1\", \"Parameters\", \"Test Runtime\"], [ \\\n",
        "            ['Small RNN', *get_metrics_test(test_results), rnn_num_params, get_runtime(test_results)]\n",
        "           ])"
      ],
      "metadata": {
        "colab": {
          "base_uri": "https://localhost:8080/",
          "height": 126
        },
        "id": "YZj9OTzqx3D0",
        "outputId": "3b32911e-46b1-4070-9861-fa125923ceec"
      },
      "execution_count": 33,
      "outputs": [
        {
          "output_type": "display_data",
          "data": {
            "text/plain": [
              "<IPython.core.display.HTML object>"
            ],
            "text/html": [
              "\n",
              "    <div>\n",
              "      \n",
              "      <progress value='119' max='119' style='width:300px; height:20px; vertical-align: middle;'></progress>\n",
              "      [119/119 00:21]\n",
              "    </div>\n",
              "    "
            ]
          },
          "metadata": {}
        },
        {
          "output_type": "stream",
          "name": "stdout",
          "text": [
            "+-----------+----------+---------+------------+--------------+\n",
            "|   Model   | Test ACC | Test F1 | Parameters | Test Runtime |\n",
            "+-----------+----------+---------+------------+--------------+\n",
            "| Small RNN |  0.875   |  0.875  |   4.17 M   |    0m 22s    |\n",
            "+-----------+----------+---------+------------+--------------+\n"
          ]
        }
      ]
    },
    {
      "cell_type": "code",
      "source": [
        "train_history, val_history = get_train_val_history(trainer_distillation)\n",
        "plot_learning_curve(train_history, val_history, 'RNN distillation')"
      ],
      "metadata": {
        "colab": {
          "base_uri": "https://localhost:8080/",
          "height": 410
        },
        "id": "N83HvayXy5m6",
        "outputId": "9ff6f4ce-51c8-45a6-f0ec-130ef41634f7"
      },
      "execution_count": 34,
      "outputs": [
        {
          "output_type": "display_data",
          "data": {
            "text/plain": [
              "<Figure size 500x400 with 1 Axes>"
            ],
            "image/png": "[encoded data removed]"
          },
          "metadata": {}
        }
      ]
    },
    {
      "cell_type": "code",
      "source": [
        "print_table([\"Model\", \"Parameters\"], [ \\\n",
        "            ['BERT base', total_num_parameters(teacher_model, model_name='bert')],\n",
        "            ['BiLSTM', total_num_parameters(student_rnn_model)]\n",
        "           ])"
      ],
      "metadata": {
        "colab": {
          "base_uri": "https://localhost:8080/"
        },
        "id": "cazZ2uqWf63I",
        "outputId": "241f730f-efef-4825-d064-d0ab21c2f8ab"
      },
      "execution_count": null,
      "outputs": [
        {
          "output_type": "stream",
          "name": "stdout",
          "text": [
            "+-----------+------------+\n",
            "|   Model   | Parameters |\n",
            "+-----------+------------+\n",
            "| BERT base |  109.48 M  |\n",
            "|   BiLSTM  |   4.17 M   |\n",
            "+-----------+------------+\n"
          ]
        }
      ]
    },
    {
      "cell_type": "markdown",
      "source": [
        "##For alpha = 0 and T = 4.0"
      ],
      "metadata": {
        "id": "X7CF-iZ31mYw"
      }
    },
    {
      "cell_type": "code",
      "source": [
        "results_distillation_lstm1 = trainer_distillation.train()"
      ],
      "metadata": {
        "colab": {
          "base_uri": "https://localhost:8080/",
          "height": 351
        },
        "id": "JPCPAYou1skY",
        "outputId": "528a5b58-2ceb-4ca5-ca4e-5d211f0c1219"
      },
      "execution_count": null,
      "outputs": [
        {
          "output_type": "stream",
          "name": "stderr",
          "text": [
            "/usr/local/lib/python3.10/dist-packages/transformers/optimization.py:411: FutureWarning: This implementation of AdamW is deprecated and will be removed in a future version. Use the PyTorch implementation torch.optim.AdamW instead, or set `no_deprecation_warning=True` to disable this warning\n",
            "  warnings.warn(\n"
          ]
        },
        {
          "output_type": "display_data",
          "data": {
            "text/plain": [
              "<IPython.core.display.HTML object>"
            ],
            "text/html": [
              "\n",
              "    <div>\n",
              "      \n",
              "      <progress value='7175' max='7175' style='width:300px; height:20px; vertical-align: middle;'></progress>\n",
              "      [7175/7175 29:03, Epoch 7/7]\n",
              "    </div>\n",
              "    <table border=\"1\" class=\"dataframe\">\n",
              "  <thead>\n",
              " <tr style=\"text-align: left;\">\n",
              "      <th>Epoch</th>\n",
              "      <th>Training Loss</th>\n",
              "      <th>Validation Loss</th>\n",
              "      <th>Accuracy</th>\n",
              "      <th>F1-score</th>\n",
              "      <th>Precision</th>\n",
              "      <th>Recall</th>\n",
              "    </tr>\n",
              "  </thead>\n",
              "  <tbody>\n",
              "    <tr>\n",
              "      <td>1</td>\n",
              "      <td>2.391300</td>\n",
              "      <td>2.025536</td>\n",
              "      <td>0.798242</td>\n",
              "      <td>0.798578</td>\n",
              "      <td>0.800044</td>\n",
              "      <td>0.798242</td>\n",
              "    </tr>\n",
              "    <tr>\n",
              "      <td>2</td>\n",
              "      <td>1.674200</td>\n",
              "      <td>1.620056</td>\n",
              "      <td>0.839863</td>\n",
              "      <td>0.840348</td>\n",
              "      <td>0.844032</td>\n",
              "      <td>0.839863</td>\n",
              "    </tr>\n",
              "    <tr>\n",
              "      <td>3</td>\n",
              "      <td>1.466500</td>\n",
              "      <td>1.493854</td>\n",
              "      <td>0.844868</td>\n",
              "      <td>0.844982</td>\n",
              "      <td>0.845219</td>\n",
              "      <td>0.844868</td>\n",
              "    </tr>\n",
              "    <tr>\n",
              "      <td>4</td>\n",
              "      <td>1.361000</td>\n",
              "      <td>1.545432</td>\n",
              "      <td>0.848529</td>\n",
              "      <td>0.848065</td>\n",
              "      <td>0.850947</td>\n",
              "      <td>0.848529</td>\n",
              "    </tr>\n",
              "    <tr>\n",
              "      <td>5</td>\n",
              "      <td>1.281800</td>\n",
              "      <td>1.422119</td>\n",
              "      <td>0.854144</td>\n",
              "      <td>0.853999</td>\n",
              "      <td>0.854584</td>\n",
              "      <td>0.854144</td>\n",
              "    </tr>\n",
              "    <tr>\n",
              "      <td>6</td>\n",
              "      <td>1.244100</td>\n",
              "      <td>1.416365</td>\n",
              "      <td>0.857805</td>\n",
              "      <td>0.857668</td>\n",
              "      <td>0.857665</td>\n",
              "      <td>0.857805</td>\n",
              "    </tr>\n",
              "    <tr>\n",
              "      <td>7</td>\n",
              "      <td>1.210000</td>\n",
              "      <td>1.385518</td>\n",
              "      <td>0.858416</td>\n",
              "      <td>0.858254</td>\n",
              "      <td>0.858829</td>\n",
              "      <td>0.858416</td>\n",
              "    </tr>\n",
              "  </tbody>\n",
              "</table><p>"
            ]
          },
          "metadata": {}
        }
      ]
    },
    {
      "cell_type": "code",
      "source": [
        "# Results after training\n",
        "train_results = trainer_distillation.evaluate(train_ds)\n",
        "val_results = trainer_distillation.evaluate(val_ds)\n",
        "\n",
        "# Summary of LSTM results\n",
        "rnn_num_params = total_num_parameters(student_rnn_model)\n",
        "print_table([\"Model\", \"Train ACC\", \"Val ACC\", \"Train F1\", \"Val F1\", \"Parameters\", \"Val Runtime\"], [ \\\n",
        "            ['Small RNN', *get_metrics_train_val(train_results, val_results), rnn_num_params, get_runtime(val_results)]\n",
        "           ])"
      ],
      "metadata": {
        "id": "E7qPvZUs2DkJ"
      },
      "execution_count": null,
      "outputs": []
    },
    {
      "cell_type": "code",
      "source": [
        "# Test data\n",
        "test_results1 = trainer_distillation.evaluate(test_ds)\n",
        "\n",
        "# Summary of LSTM results for Test data\n",
        "rnn_num_params1 = total_num_parameters(student_rnn_model)\n",
        "print_table([\"Model\", \"Test ACC\", \"Test F1\", \"Parameters\", \"Test Runtime\"], [ \\\n",
        "            ['Small RNN', *get_metrics_test(test_results1), rnn_num_params1, get_runtime(test_results1)]\n",
        "           ])"
      ],
      "metadata": {
        "colab": {
          "base_uri": "https://localhost:8080/",
          "height": 126
        },
        "id": "X6jKLsaX2SOa",
        "outputId": "3a8ecf5a-dc36-4d92-a515-78f395ace1b7"
      },
      "execution_count": null,
      "outputs": [
        {
          "output_type": "display_data",
          "data": {
            "text/plain": [
              "<IPython.core.display.HTML object>"
            ],
            "text/html": [
              "\n",
              "    <div>\n",
              "      \n",
              "      <progress value='119' max='119' style='width:300px; height:20px; vertical-align: middle;'></progress>\n",
              "      [119/119 00:22]\n",
              "    </div>\n",
              "    "
            ]
          },
          "metadata": {}
        },
        {
          "output_type": "stream",
          "name": "stdout",
          "text": [
            "+-----------+----------+---------+------------+--------------+\n",
            "|   Model   | Test ACC | Test F1 | Parameters | Test Runtime |\n",
            "+-----------+----------+---------+------------+--------------+\n",
            "| Small RNN |  0.856   |  0.856  |   4.17 M   |    0m 22s    |\n",
            "+-----------+----------+---------+------------+--------------+\n"
          ]
        }
      ]
    },
    {
      "cell_type": "code",
      "source": [
        "train_history, val_history = get_train_val_history(trainer_distillation)\n",
        "plot_learning_curve(train_history, val_history, 'RNN distillation')"
      ],
      "metadata": {
        "colab": {
          "base_uri": "https://localhost:8080/",
          "height": 410
        },
        "id": "gXfIk9-s2pWM",
        "outputId": "bcc02db1-8ea7-4d3b-f16e-2fab284921ab"
      },
      "execution_count": null,
      "outputs": [
        {
          "output_type": "display_data",
          "data": {
            "text/plain": [
              "<Figure size 500x400 with 1 Axes>"
            ],
            "image/png": "[encoded data removed]"
          },
          "metadata": {}
        }
      ]
    },
    {
      "cell_type": "markdown",
      "source": [
        "##For alpha = 1.0 and T = 1"
      ],
      "metadata": {
        "id": "udtvic3V3y7g"
      }
    },
    {
      "cell_type": "code",
      "source": [
        "results_distillation_lstm2 = trainer_distillation.train()"
      ],
      "metadata": {
        "colab": {
          "base_uri": "https://localhost:8080/",
          "height": 351
        },
        "id": "JKcXEkiU34WH",
        "outputId": "82df4d58-1df6-4ae0-cc65-27c2e2b9f138"
      },
      "execution_count": null,
      "outputs": [
        {
          "output_type": "stream",
          "name": "stderr",
          "text": [
            "/usr/local/lib/python3.10/dist-packages/transformers/optimization.py:411: FutureWarning: This implementation of AdamW is deprecated and will be removed in a future version. Use the PyTorch implementation torch.optim.AdamW instead, or set `no_deprecation_warning=True` to disable this warning\n",
            "  warnings.warn(\n"
          ]
        },
        {
          "output_type": "display_data",
          "data": {
            "text/plain": [
              "<IPython.core.display.HTML object>"
            ],
            "text/html": [
              "\n",
              "    <div>\n",
              "      \n",
              "      <progress value='7175' max='7175' style='width:300px; height:20px; vertical-align: middle;'></progress>\n",
              "      [7175/7175 28:06, Epoch 7/7]\n",
              "    </div>\n",
              "    <table border=\"1\" class=\"dataframe\">\n",
              "  <thead>\n",
              " <tr style=\"text-align: left;\">\n",
              "      <th>Epoch</th>\n",
              "      <th>Training Loss</th>\n",
              "      <th>Validation Loss</th>\n",
              "      <th>Accuracy</th>\n",
              "      <th>F1-score</th>\n",
              "      <th>Precision</th>\n",
              "      <th>Recall</th>\n",
              "    </tr>\n",
              "  </thead>\n",
              "  <tbody>\n",
              "    <tr>\n",
              "      <td>1</td>\n",
              "      <td>0.582200</td>\n",
              "      <td>0.561471</td>\n",
              "      <td>0.798487</td>\n",
              "      <td>0.797155</td>\n",
              "      <td>0.811972</td>\n",
              "      <td>0.798487</td>\n",
              "    </tr>\n",
              "    <tr>\n",
              "      <td>2</td>\n",
              "      <td>0.404900</td>\n",
              "      <td>0.455167</td>\n",
              "      <td>0.849262</td>\n",
              "      <td>0.849190</td>\n",
              "      <td>0.855588</td>\n",
              "      <td>0.849262</td>\n",
              "    </tr>\n",
              "    <tr>\n",
              "      <td>3</td>\n",
              "      <td>0.306800</td>\n",
              "      <td>0.406514</td>\n",
              "      <td>0.869523</td>\n",
              "      <td>0.869282</td>\n",
              "      <td>0.869522</td>\n",
              "      <td>0.869523</td>\n",
              "    </tr>\n",
              "    <tr>\n",
              "      <td>4</td>\n",
              "      <td>0.240300</td>\n",
              "      <td>0.415437</td>\n",
              "      <td>0.874405</td>\n",
              "      <td>0.874022</td>\n",
              "      <td>0.874269</td>\n",
              "      <td>0.874405</td>\n",
              "    </tr>\n",
              "    <tr>\n",
              "      <td>5</td>\n",
              "      <td>0.191800</td>\n",
              "      <td>0.456171</td>\n",
              "      <td>0.867326</td>\n",
              "      <td>0.866942</td>\n",
              "      <td>0.867546</td>\n",
              "      <td>0.867326</td>\n",
              "    </tr>\n",
              "    <tr>\n",
              "      <td>6</td>\n",
              "      <td>0.168700</td>\n",
              "      <td>0.504258</td>\n",
              "      <td>0.870743</td>\n",
              "      <td>0.870308</td>\n",
              "      <td>0.872478</td>\n",
              "      <td>0.870743</td>\n",
              "    </tr>\n",
              "    <tr>\n",
              "      <td>7</td>\n",
              "      <td>0.142500</td>\n",
              "      <td>0.511762</td>\n",
              "      <td>0.868546</td>\n",
              "      <td>0.868330</td>\n",
              "      <td>0.868503</td>\n",
              "      <td>0.868546</td>\n",
              "    </tr>\n",
              "  </tbody>\n",
              "</table><p>"
            ]
          },
          "metadata": {}
        }
      ]
    },
    {
      "cell_type": "code",
      "source": [
        "# Results after training\n",
        "train_results = trainer_distillation.evaluate(train_ds)\n",
        "val_results = trainer_distillation.evaluate(val_ds)\n",
        "\n",
        "# Summary of LSTM results\n",
        "rnn_num_params = total_num_parameters(student_rnn_model)\n",
        "print_table([\"Model\", \"Train ACC\", \"Val ACC\", \"Train F1\", \"Val F1\", \"Parameters\", \"Val Runtime\"], [ \\\n",
        "            ['Small RNN', *get_metrics_train_val(train_results, val_results), rnn_num_params, get_runtime(val_results)]\n",
        "           ])"
      ],
      "metadata": {
        "id": "0rxmnpiN4DAa"
      },
      "execution_count": null,
      "outputs": []
    },
    {
      "cell_type": "code",
      "source": [
        "# Test data\n",
        "test_results3 = trainer_distillation.evaluate(test_ds)\n",
        "\n",
        "# Summary of LSTM results for Test data\n",
        "rnn_num_params3 = total_num_parameters(student_rnn_model)\n",
        "print_table([\"Model\", \"Test ACC\", \"Test F1\", \"Parameters\", \"Test Runtime\"], [ \\\n",
        "            ['Small RNN', *get_metrics_test(test_results3), rnn_num_params3, get_runtime(test_results3)]\n",
        "           ])"
      ],
      "metadata": {
        "colab": {
          "base_uri": "https://localhost:8080/",
          "height": 126
        },
        "id": "z7iOnhTU4HkM",
        "outputId": "9ff4e260-9704-42c0-b5d1-13e0f896cc49"
      },
      "execution_count": null,
      "outputs": [
        {
          "output_type": "display_data",
          "data": {
            "text/plain": [
              "<IPython.core.display.HTML object>"
            ],
            "text/html": [
              "\n",
              "    <div>\n",
              "      \n",
              "      <progress value='119' max='119' style='width:300px; height:20px; vertical-align: middle;'></progress>\n",
              "      [119/119 00:22]\n",
              "    </div>\n",
              "    "
            ]
          },
          "metadata": {}
        },
        {
          "output_type": "stream",
          "name": "stdout",
          "text": [
            "+-----------+----------+---------+------------+--------------+\n",
            "|   Model   | Test ACC | Test F1 | Parameters | Test Runtime |\n",
            "+-----------+----------+---------+------------+--------------+\n",
            "| Small RNN |  0.859   |  0.859  |   4.17 M   |    0m 22s    |\n",
            "+-----------+----------+---------+------------+--------------+\n"
          ]
        }
      ]
    },
    {
      "cell_type": "code",
      "source": [
        "train_history, val_history = get_train_val_history(trainer_distillation)\n",
        "plot_learning_curve(train_history, val_history, 'RNN distillation')"
      ],
      "metadata": {
        "colab": {
          "base_uri": "https://localhost:8080/",
          "height": 410
        },
        "id": "RXlDlDlK4I0S",
        "outputId": "d70d2fd2-b52f-4ce7-eae5-c77aebd36615"
      },
      "execution_count": null,
      "outputs": [
        {
          "output_type": "display_data",
          "data": {
            "text/plain": [
              "<Figure size 500x400 with 1 Axes>"
            ],
            "image/png": "[encoded data removed]"
          },
          "metadata": {}
        }
      ]
    },
    {
      "cell_type": "markdown",
      "source": [
        "## Distillation to BERT"
      ],
      "metadata": {
        "id": "QcnCebjgkOU4"
      }
    },
    {
      "cell_type": "markdown",
      "source": [
        "### Student model (Smaller version of BERT)"
      ],
      "metadata": {
        "id": "J2xpPtoNuxkE"
      }
    },
    {
      "cell_type": "code",
      "source": [
        "# Configuration file of the teacher model\n",
        "config_small_bert = BertConfig.from_pretrained(teacher_id)\n",
        "config_small_bert"
      ],
      "metadata": {
        "id": "yfHLUwWAuzzi",
        "colab": {
          "base_uri": "https://localhost:8080/"
        },
        "outputId": "620f85d3-ef7d-4f08-e8d5-85c0f15eeecd"
      },
      "execution_count": null,
      "outputs": [
        {
          "output_type": "execute_result",
          "data": {
            "text/plain": [
              "BertConfig {\n",
              "  \"_name_or_path\": \"bert-base-uncased\",\n",
              "  \"architectures\": [\n",
              "    \"BertForSequenceClassification\"\n",
              "  ],\n",
              "  \"attention_probs_dropout_prob\": 0.1,\n",
              "  \"classifier_dropout\": null,\n",
              "  \"gradient_checkpointing\": false,\n",
              "  \"hidden_act\": \"gelu\",\n",
              "  \"hidden_dropout_prob\": 0.1,\n",
              "  \"hidden_size\": 768,\n",
              "  \"id2label\": {\n",
              "    \"0\": \"LABEL_0\",\n",
              "    \"1\": \"LABEL_1\",\n",
              "    \"2\": \"LABEL_2\"\n",
              "  },\n",
              "  \"initializer_range\": 0.02,\n",
              "  \"intermediate_size\": 3072,\n",
              "  \"label2id\": {\n",
              "    \"LABEL_0\": 0,\n",
              "    \"LABEL_1\": 1,\n",
              "    \"LABEL_2\": 2\n",
              "  },\n",
              "  \"layer_norm_eps\": 1e-12,\n",
              "  \"max_position_embeddings\": 512,\n",
              "  \"model_type\": \"bert\",\n",
              "  \"num_attention_heads\": 12,\n",
              "  \"num_hidden_layers\": 12,\n",
              "  \"pad_token_id\": 0,\n",
              "  \"position_embedding_type\": \"absolute\",\n",
              "  \"problem_type\": \"single_label_classification\",\n",
              "  \"torch_dtype\": \"float32\",\n",
              "  \"transformers_version\": \"4.30.2\",\n",
              "  \"type_vocab_size\": 2,\n",
              "  \"use_cache\": true,\n",
              "  \"vocab_size\": 30522\n",
              "}"
            ]
          },
          "metadata": {},
          "execution_count": 30
        }
      ]
    },
    {
      "cell_type": "markdown",
      "source": [
        "#### BERT with three encoder layers\n",
        "\n",
        "We modify the configuration to obtain a smaller version of BERT"
      ],
      "metadata": {
        "id": "zyVLxmhkvzuJ"
      }
    },
    {
      "cell_type": "code",
      "source": [
        "# Student with 3 hidden layers\n",
        "config_small_bert.num_hidden_layers = 3\n",
        "config_small_bert.hidden_size = 128\n",
        "config_small_bert.num_attention_heads = 2\n",
        "config_small_bert.intermediate_size = 512"
      ],
      "metadata": {
        "id": "mvrkePJAvwj4"
      },
      "execution_count": null,
      "outputs": []
    },
    {
      "cell_type": "code",
      "source": [
        "config_small_bert"
      ],
      "metadata": {
        "id": "h5CSH09Qv7xV",
        "colab": {
          "base_uri": "https://localhost:8080/"
        },
        "outputId": "ce0da9c6-ba29-44e5-85e3-5f7282494caa"
      },
      "execution_count": null,
      "outputs": [
        {
          "output_type": "execute_result",
          "data": {
            "text/plain": [
              "BertConfig {\n",
              "  \"_name_or_path\": \"bert-base-uncased\",\n",
              "  \"architectures\": [\n",
              "    \"BertForSequenceClassification\"\n",
              "  ],\n",
              "  \"attention_probs_dropout_prob\": 0.1,\n",
              "  \"classifier_dropout\": null,\n",
              "  \"gradient_checkpointing\": false,\n",
              "  \"hidden_act\": \"gelu\",\n",
              "  \"hidden_dropout_prob\": 0.1,\n",
              "  \"hidden_size\": 128,\n",
              "  \"id2label\": {\n",
              "    \"0\": \"LABEL_0\",\n",
              "    \"1\": \"LABEL_1\",\n",
              "    \"2\": \"LABEL_2\"\n",
              "  },\n",
              "  \"initializer_range\": 0.02,\n",
              "  \"intermediate_size\": 512,\n",
              "  \"label2id\": {\n",
              "    \"LABEL_0\": 0,\n",
              "    \"LABEL_1\": 1,\n",
              "    \"LABEL_2\": 2\n",
              "  },\n",
              "  \"layer_norm_eps\": 1e-12,\n",
              "  \"max_position_embeddings\": 512,\n",
              "  \"model_type\": \"bert\",\n",
              "  \"num_attention_heads\": 2,\n",
              "  \"num_hidden_layers\": 3,\n",
              "  \"pad_token_id\": 0,\n",
              "  \"position_embedding_type\": \"absolute\",\n",
              "  \"problem_type\": \"single_label_classification\",\n",
              "  \"torch_dtype\": \"float32\",\n",
              "  \"transformers_version\": \"4.30.2\",\n",
              "  \"type_vocab_size\": 2,\n",
              "  \"use_cache\": true,\n",
              "  \"vocab_size\": 30522\n",
              "}"
            ]
          },
          "metadata": {},
          "execution_count": 32
        }
      ]
    },
    {
      "cell_type": "code",
      "source": [
        "#student_model = BertForSequenceClassification(config=config_bert)"
      ],
      "metadata": {
        "id": "b_L9HTZQvOBT"
      },
      "execution_count": null,
      "outputs": []
    },
    {
      "cell_type": "markdown",
      "source": [
        "### Training arguments"
      ],
      "metadata": {
        "id": "XsTn-vz_n43r"
      }
    },
    {
      "cell_type": "code",
      "source": [
        "batch_size = 32\n",
        "num_epochs = 3\n",
        "lr = 1e-3\n",
        "num_classes = 3\n",
        "weight_decay = 0.5\n",
        "\n",
        "# Student\n",
        "config_bert.num_hidden_layers = 3\n",
        "config_bert.hidden_size = 128\n",
        "config_bert.num_attention_heads = 2\n",
        "config_bert.intermediate_size = 512\n",
        "\n",
        "temperature=1.0\n",
        "alpha=1.0\n",
        "\n",
        "student_model_bert = BertForSequenceClassification(config=config_bert)\n",
        "teacher_model = AutoModelForSequenceClassification.from_pretrained(teacher_id)\n",
        "\n",
        "# name for the repository on the hub\n",
        "repo_name = \"distilled-bert-covid-tweets\"\n",
        "\n",
        "training_args = DistillationTrainingArguments(output_dir=repo_name,\n",
        "                                              num_train_epochs = num_epochs,\n",
        "                                              evaluation_strategy =\"epoch\",\n",
        "                                              save_strategy = \"epoch\",\n",
        "                                              per_device_train_batch_size = batch_size,\n",
        "                                              per_device_eval_batch_size = batch_size,\n",
        "                                              learning_rate = lr,\n",
        "                                              load_best_model_at_end=True,\n",
        "                                              metric_for_best_model=\"accuracy\",\n",
        "                                              fp16=True,\n",
        "                                              weight_decay=weight_decay,\n",
        "                                              #push_to_hub=True,\n",
        "                                              #hub_model_id=repo_name,\n",
        "                                              temperature=temperature,\n",
        "                                              alpha=alpha,\n",
        "                                              remove_unused_columns=False,\n",
        "                                              model_type=\"smallbert\",\n",
        "                                              distil_loss='kl',\n",
        "                                              #lr_scheduler_type ='constant'\n",
        "                                              )"
      ],
      "metadata": {
        "id": "LproOfTIn43s"
      },
      "execution_count": null,
      "outputs": []
    },
    {
      "cell_type": "code",
      "source": [
        "trainer_distillation_bert = DistillationTrainer(\n",
        "    student_model_bert,\n",
        "    training_args,\n",
        "    teacher_model=teacher_model,\n",
        "    train_dataset = train_ds,\n",
        "    eval_dataset = val_ds,\n",
        "    tokenizer=tokenizer,\n",
        "    compute_metrics=compute_metrics\n",
        ")"
      ],
      "metadata": {
        "id": "UEOCwvFin43s"
      },
      "execution_count": null,
      "outputs": []
    },
    {
      "cell_type": "code",
      "source": [
        "print_table([\"Model\", \"Parameters\"], [ \\\n",
        "            ['BERT base', total_num_parameters(teacher_model, model_name='bert')],\n",
        "            ['BiLSTM', total_num_parameters(student_rnn_model)],\n",
        "            ['Small BERT', total_num_parameters(student_model_bert, model_name='bert')]\n",
        "           ])"
      ],
      "metadata": {
        "colab": {
          "base_uri": "https://localhost:8080/"
        },
        "outputId": "d54ad6d4-c69f-407f-e522-d0cc65f6bfad",
        "id": "DFvUyKPln43u"
      },
      "execution_count": null,
      "outputs": [
        {
          "output_type": "stream",
          "name": "stdout",
          "text": [
            "+------------+------------+\n",
            "|   Model    | Parameters |\n",
            "+------------+------------+\n",
            "| BERT base  |  109.48 M  |\n",
            "|   BiLSTM   |   9.00 M   |\n",
            "| Small BERT |   4.58 M   |\n",
            "+------------+------------+\n"
          ]
        }
      ]
    },
    {
      "cell_type": "markdown",
      "source": [
        "##For alpha = 0.5 and T = 4"
      ],
      "metadata": {
        "id": "M8EKZKr--guP"
      }
    },
    {
      "cell_type": "code",
      "source": [
        "results_distillation_bert = trainer_distillation_bert.train()"
      ],
      "metadata": {
        "colab": {
          "base_uri": "https://localhost:8080/",
          "height": 243
        },
        "outputId": "0bc81fcd-9077-4514-ff4c-82a6ce730d49",
        "id": "W_kXyiwrn43t"
      },
      "execution_count": null,
      "outputs": [
        {
          "output_type": "stream",
          "name": "stderr",
          "text": [
            "/usr/local/lib/python3.10/dist-packages/transformers/optimization.py:411: FutureWarning: This implementation of AdamW is deprecated and will be removed in a future version. Use the PyTorch implementation torch.optim.AdamW instead, or set `no_deprecation_warning=True` to disable this warning\n",
            "  warnings.warn(\n",
            "You're using a BertTokenizerFast tokenizer. Please note that with a fast tokenizer, using the `__call__` method is faster than using a method to encode the text followed by a call to the `pad` method to get a padded encoding.\n"
          ]
        },
        {
          "output_type": "display_data",
          "data": {
            "text/plain": [
              "<IPython.core.display.HTML object>"
            ],
            "text/html": [
              "\n",
              "    <div>\n",
              "      \n",
              "      <progress value='3075' max='3075' style='width:300px; height:20px; vertical-align: middle;'></progress>\n",
              "      [3075/3075 12:01, Epoch 3/3]\n",
              "    </div>\n",
              "    <table border=\"1\" class=\"dataframe\">\n",
              "  <thead>\n",
              " <tr style=\"text-align: left;\">\n",
              "      <th>Epoch</th>\n",
              "      <th>Training Loss</th>\n",
              "      <th>Validation Loss</th>\n",
              "      <th>Accuracy</th>\n",
              "      <th>F1-score</th>\n",
              "      <th>Precision</th>\n",
              "      <th>Recall</th>\n",
              "    </tr>\n",
              "  </thead>\n",
              "  <tbody>\n",
              "    <tr>\n",
              "      <td>1</td>\n",
              "      <td>1.942700</td>\n",
              "      <td>1.374471</td>\n",
              "      <td>0.780788</td>\n",
              "      <td>0.780769</td>\n",
              "      <td>0.783943</td>\n",
              "      <td>0.780788</td>\n",
              "    </tr>\n",
              "    <tr>\n",
              "      <td>2</td>\n",
              "      <td>0.993800</td>\n",
              "      <td>0.899592</td>\n",
              "      <td>0.848407</td>\n",
              "      <td>0.847963</td>\n",
              "      <td>0.848844</td>\n",
              "      <td>0.848407</td>\n",
              "    </tr>\n",
              "    <tr>\n",
              "      <td>3</td>\n",
              "      <td>0.584600</td>\n",
              "      <td>0.861634</td>\n",
              "      <td>0.849262</td>\n",
              "      <td>0.848376</td>\n",
              "      <td>0.849450</td>\n",
              "      <td>0.849262</td>\n",
              "    </tr>\n",
              "  </tbody>\n",
              "</table><p>"
            ]
          },
          "metadata": {}
        }
      ]
    },
    {
      "cell_type": "code",
      "source": [
        "# Test data\n",
        "test_results_bert1 = trainer_distillation_bert.evaluate(test_ds)\n",
        "\n",
        "# Summary of LSTM results for Test data\n",
        "bert_num_params1 = total_num_parameters(student_model_bert)\n",
        "print_table([\"Model\", \"Test ACC\", \"Test F1\", \"Parameters\", \"Test Runtime\"], [ \\\n",
        "            ['Small RNN', *get_metrics_test(test_results_bert1), bert_num_params1, get_runtime(test_results_bert1)]\n",
        "           ])"
      ],
      "metadata": {
        "colab": {
          "base_uri": "https://localhost:8080/",
          "height": 126
        },
        "id": "NqeWkeLI_IFu",
        "outputId": "cc38d58d-9a14-4c47-ce2d-6687e47fd840"
      },
      "execution_count": null,
      "outputs": [
        {
          "output_type": "display_data",
          "data": {
            "text/plain": [
              "<IPython.core.display.HTML object>"
            ],
            "text/html": [
              "\n",
              "    <div>\n",
              "      \n",
              "      <progress value='238' max='119' style='width:300px; height:20px; vertical-align: middle;'></progress>\n",
              "      [119/119 01:12]\n",
              "    </div>\n",
              "    "
            ]
          },
          "metadata": {}
        },
        {
          "output_type": "stream",
          "name": "stdout",
          "text": [
            "+-----------+----------+---------+------------+--------------+\n",
            "|   Model   | Test ACC | Test F1 | Parameters | Test Runtime |\n",
            "+-----------+----------+---------+------------+--------------+\n",
            "| Small RNN |  0.830   |  0.830  |   4.58 M   |    0m 22s    |\n",
            "+-----------+----------+---------+------------+--------------+\n"
          ]
        }
      ]
    },
    {
      "cell_type": "code",
      "source": [
        "train_history, val_history = get_train_val_history(trainer_distillation_bert)\n",
        "plot_learning_curve(train_history, val_history, 'BERT distillation')"
      ],
      "metadata": {
        "colab": {
          "base_uri": "https://localhost:8080/",
          "height": 410
        },
        "id": "z_DU61HdBCMQ",
        "outputId": "8fff4297-8b5e-4a6c-ebcb-0a7a9abc4719"
      },
      "execution_count": null,
      "outputs": [
        {
          "output_type": "display_data",
          "data": {
            "text/plain": [
              "<Figure size 500x400 with 1 Axes>"
            ],
            "image/png": "[encoded data removed]"
          },
          "metadata": {}
        }
      ]
    },
    {
      "cell_type": "markdown",
      "source": [
        "##For alpha = 0.0 and T = 4"
      ],
      "metadata": {
        "id": "RikCPQKg-tIG"
      }
    },
    {
      "cell_type": "code",
      "source": [
        "results_distillation_bert2 = trainer_distillation_bert.train()"
      ],
      "metadata": {
        "colab": {
          "base_uri": "https://localhost:8080/",
          "height": 225
        },
        "id": "sb9OTjIJ_Afj",
        "outputId": "e1789e74-fc2f-408f-ba88-ec7aa0bf3bc1"
      },
      "execution_count": null,
      "outputs": [
        {
          "output_type": "stream",
          "name": "stderr",
          "text": [
            "/usr/local/lib/python3.10/dist-packages/transformers/optimization.py:411: FutureWarning: This implementation of AdamW is deprecated and will be removed in a future version. Use the PyTorch implementation torch.optim.AdamW instead, or set `no_deprecation_warning=True` to disable this warning\n",
            "  warnings.warn(\n"
          ]
        },
        {
          "output_type": "display_data",
          "data": {
            "text/plain": [
              "<IPython.core.display.HTML object>"
            ],
            "text/html": [
              "\n",
              "    <div>\n",
              "      \n",
              "      <progress value='3075' max='3075' style='width:300px; height:20px; vertical-align: middle;'></progress>\n",
              "      [3075/3075 12:18, Epoch 3/3]\n",
              "    </div>\n",
              "    <table border=\"1\" class=\"dataframe\">\n",
              "  <thead>\n",
              " <tr style=\"text-align: left;\">\n",
              "      <th>Epoch</th>\n",
              "      <th>Training Loss</th>\n",
              "      <th>Validation Loss</th>\n",
              "      <th>Accuracy</th>\n",
              "      <th>F1-score</th>\n",
              "      <th>Precision</th>\n",
              "      <th>Recall</th>\n",
              "    </tr>\n",
              "  </thead>\n",
              "  <tbody>\n",
              "    <tr>\n",
              "      <td>1</td>\n",
              "      <td>3.478600</td>\n",
              "      <td>2.370097</td>\n",
              "      <td>0.738679</td>\n",
              "      <td>0.736605</td>\n",
              "      <td>0.743957</td>\n",
              "      <td>0.738679</td>\n",
              "    </tr>\n",
              "    <tr>\n",
              "      <td>2</td>\n",
              "      <td>1.476900</td>\n",
              "      <td>1.205957</td>\n",
              "      <td>0.847919</td>\n",
              "      <td>0.847570</td>\n",
              "      <td>0.847484</td>\n",
              "      <td>0.847919</td>\n",
              "    </tr>\n",
              "    <tr>\n",
              "      <td>3</td>\n",
              "      <td>0.847400</td>\n",
              "      <td>1.112556</td>\n",
              "      <td>0.854266</td>\n",
              "      <td>0.853435</td>\n",
              "      <td>0.854258</td>\n",
              "      <td>0.854266</td>\n",
              "    </tr>\n",
              "  </tbody>\n",
              "</table><p>"
            ]
          },
          "metadata": {}
        }
      ]
    },
    {
      "cell_type": "code",
      "source": [
        "# Test data\n",
        "test_results_bert2 = trainer_distillation_bert.evaluate(test_ds)\n",
        "\n",
        "# Summary of LSTM results for Test data\n",
        "bert_num_params2 = total_num_parameters(student_model_bert)\n",
        "print_table([\"Model\", \"Test ACC\", \"Test F1\", \"Parameters\", \"Test Runtime\"], [ \\\n",
        "            ['Small RNN', *get_metrics_test(test_results_bert2), bert_num_params2, get_runtime(test_results_bert2)]\n",
        "           ])"
      ],
      "metadata": {
        "colab": {
          "base_uri": "https://localhost:8080/",
          "height": 126
        },
        "id": "7HEdTj0eAwdh",
        "outputId": "bfff075e-068c-4dc1-b087-705fd4ec7698"
      },
      "execution_count": null,
      "outputs": [
        {
          "output_type": "display_data",
          "data": {
            "text/plain": [
              "<IPython.core.display.HTML object>"
            ],
            "text/html": [
              "\n",
              "    <div>\n",
              "      \n",
              "      <progress value='119' max='119' style='width:300px; height:20px; vertical-align: middle;'></progress>\n",
              "      [119/119 00:21]\n",
              "    </div>\n",
              "    "
            ]
          },
          "metadata": {}
        },
        {
          "output_type": "stream",
          "name": "stdout",
          "text": [
            "+-----------+----------+---------+------------+--------------+\n",
            "|   Model   | Test ACC | Test F1 | Parameters | Test Runtime |\n",
            "+-----------+----------+---------+------------+--------------+\n",
            "| Small RNN |  0.840   |  0.839  |   4.58 M   |    0m 21s    |\n",
            "+-----------+----------+---------+------------+--------------+\n"
          ]
        }
      ]
    },
    {
      "cell_type": "code",
      "source": [
        "train_history, val_history = get_train_val_history(trainer_distillation_bert)\n",
        "plot_learning_curve(train_history, val_history, 'BERT distillation')"
      ],
      "metadata": {
        "colab": {
          "base_uri": "https://localhost:8080/",
          "height": 410
        },
        "id": "F7dVv30WBGZ-",
        "outputId": "41abf9db-4bfd-4bc9-d72a-519ee464ac37"
      },
      "execution_count": null,
      "outputs": [
        {
          "output_type": "display_data",
          "data": {
            "text/plain": [
              "<Figure size 500x400 with 1 Axes>"
            ],
            "image/png": "[encoded data removed]"
          },
          "metadata": {}
        }
      ]
    },
    {
      "cell_type": "markdown",
      "source": [
        "##For alpha = 1.0 and T = 1.0"
      ],
      "metadata": {
        "id": "F5ZCKMiR-xMa"
      }
    },
    {
      "cell_type": "code",
      "source": [
        "results_distillation_bert3 = trainer_distillation_bert.train()"
      ],
      "metadata": {
        "colab": {
          "base_uri": "https://localhost:8080/",
          "height": 225
        },
        "id": "D-Ut-Nmf_ClF",
        "outputId": "e5dd8826-72e5-4ac5-84de-5c49bd5a4ee3"
      },
      "execution_count": null,
      "outputs": [
        {
          "output_type": "stream",
          "name": "stderr",
          "text": [
            "/usr/local/lib/python3.10/dist-packages/transformers/optimization.py:411: FutureWarning: This implementation of AdamW is deprecated and will be removed in a future version. Use the PyTorch implementation torch.optim.AdamW instead, or set `no_deprecation_warning=True` to disable this warning\n",
            "  warnings.warn(\n"
          ]
        },
        {
          "output_type": "display_data",
          "data": {
            "text/plain": [
              "<IPython.core.display.HTML object>"
            ],
            "text/html": [
              "\n",
              "    <div>\n",
              "      \n",
              "      <progress value='3075' max='3075' style='width:300px; height:20px; vertical-align: middle;'></progress>\n",
              "      [3075/3075 12:19, Epoch 3/3]\n",
              "    </div>\n",
              "    <table border=\"1\" class=\"dataframe\">\n",
              "  <thead>\n",
              " <tr style=\"text-align: left;\">\n",
              "      <th>Epoch</th>\n",
              "      <th>Training Loss</th>\n",
              "      <th>Validation Loss</th>\n",
              "      <th>Accuracy</th>\n",
              "      <th>F1-score</th>\n",
              "      <th>Precision</th>\n",
              "      <th>Recall</th>\n",
              "    </tr>\n",
              "  </thead>\n",
              "  <tbody>\n",
              "    <tr>\n",
              "      <td>1</td>\n",
              "      <td>0.610400</td>\n",
              "      <td>0.547537</td>\n",
              "      <td>0.800806</td>\n",
              "      <td>0.800231</td>\n",
              "      <td>0.809103</td>\n",
              "      <td>0.800806</td>\n",
              "    </tr>\n",
              "    <tr>\n",
              "      <td>2</td>\n",
              "      <td>0.396000</td>\n",
              "      <td>0.440541</td>\n",
              "      <td>0.847431</td>\n",
              "      <td>0.846446</td>\n",
              "      <td>0.847828</td>\n",
              "      <td>0.847431</td>\n",
              "    </tr>\n",
              "    <tr>\n",
              "      <td>3</td>\n",
              "      <td>0.239900</td>\n",
              "      <td>0.472848</td>\n",
              "      <td>0.852069</td>\n",
              "      <td>0.851189</td>\n",
              "      <td>0.852407</td>\n",
              "      <td>0.852069</td>\n",
              "    </tr>\n",
              "  </tbody>\n",
              "</table><p>"
            ]
          },
          "metadata": {}
        }
      ]
    },
    {
      "cell_type": "code",
      "source": [
        "# Test data\n",
        "test_results_bert3 = trainer_distillation_bert.evaluate(test_ds)\n",
        "\n",
        "# Summary of LSTM results for Test data\n",
        "bert_num_params3 = total_num_parameters(student_model_bert)\n",
        "print_table([\"Model\", \"Test ACC\", \"Test F1\", \"Parameters\", \"Test Runtime\"], [ \\\n",
        "            ['Small RNN', *get_metrics_test(test_results_bert3), bert_num_params3, get_runtime(test_results_bert3)]\n",
        "           ])"
      ],
      "metadata": {
        "colab": {
          "base_uri": "https://localhost:8080/",
          "height": 126
        },
        "id": "wy_XVwheA3l6",
        "outputId": "e8b521ce-e6b4-46cd-8916-04710627b2e7"
      },
      "execution_count": null,
      "outputs": [
        {
          "output_type": "display_data",
          "data": {
            "text/plain": [
              "<IPython.core.display.HTML object>"
            ],
            "text/html": [
              "\n",
              "    <div>\n",
              "      \n",
              "      <progress value='119' max='119' style='width:300px; height:20px; vertical-align: middle;'></progress>\n",
              "      [119/119 00:21]\n",
              "    </div>\n",
              "    "
            ]
          },
          "metadata": {}
        },
        {
          "output_type": "stream",
          "name": "stdout",
          "text": [
            "+-----------+----------+---------+------------+--------------+\n",
            "|   Model   | Test ACC | Test F1 | Parameters | Test Runtime |\n",
            "+-----------+----------+---------+------------+--------------+\n",
            "| Small RNN |  0.835   |  0.835  |   4.58 M   |    0m 21s    |\n",
            "+-----------+----------+---------+------------+--------------+\n"
          ]
        }
      ]
    },
    {
      "cell_type": "code",
      "source": [
        "train_history, val_history = get_train_val_history(trainer_distillation_bert)\n",
        "plot_learning_curve(train_history, val_history, 'BERT distillation')"
      ],
      "metadata": {
        "colab": {
          "base_uri": "https://localhost:8080/",
          "height": 410
        },
        "id": "mrJ4sWdOBJV7",
        "outputId": "299f4186-0525-445d-8f13-ea09b74d08fa"
      },
      "execution_count": null,
      "outputs": [
        {
          "output_type": "display_data",
          "data": {
            "text/plain": [
              "<Figure size 500x400 with 1 Axes>"
            ],
            "image/png": "[encoded data removed]"
          },
          "metadata": {}
        }
      ]
    },
    {
      "cell_type": "markdown",
      "source": [
        "## Training 1D CNN"
      ],
      "metadata": {
        "id": "BNDNGXfLeXE3"
      }
    },
    {
      "cell_type": "markdown",
      "source": [
        "### Data collator"
      ],
      "metadata": {
        "id": "9ai-u2MUecQu"
      }
    },
    {
      "cell_type": "code",
      "source": [
        "def collate_fn_cnn(batch):\n",
        "    # Extract the input sequences and labels from the batch\n",
        "    input_ids = [sample['input_ids'] for sample in batch]\n",
        "    labels = [sample['labels'] for sample in batch]\n",
        "    input_ids = torch.tensor(input_ids)\n",
        "    labels = torch.tensor(labels)\n",
        "    return { 'input_ids': input_ids, 'labels': labels}"
      ],
      "metadata": {
        "id": "d2F29dWgeYGU"
      },
      "execution_count": null,
      "outputs": []
    },
    {
      "cell_type": "markdown",
      "source": [
        "### Model"
      ],
      "metadata": {
        "id": "4fbbhgncejLD"
      }
    },
    {
      "cell_type": "code",
      "source": [
        "class CNNModel(nn.Module):\n",
        "    def __init__(self, embed_size, vocab_size, num_classes, dropout=0, device=\"cpu\"):\n",
        "        super().__init__()\n",
        "        self.num_classes = num_classes\n",
        "        # Required by huggingface\n",
        "        self.device = device\n",
        "\n",
        "        self.embeddings = nn.Embedding(vocab_size, embed_size)\n",
        "\n",
        "        self.feat = nn.Sequential(\n",
        "            nn.Conv1d(embed_size, out_channels=32, kernel_size=3),\n",
        "            nn.ReLU(),\n",
        "            nn.MaxPool1d(2),\n",
        "            nn.Conv1d(32, 64, kernel_size=3),\n",
        "            nn.ReLU(),\n",
        "            nn.AdaptiveMaxPool1d(1),\n",
        "        )\n",
        "\n",
        "        self.classifier = nn.Sequential(\n",
        "            nn.Flatten(),\n",
        "            nn.Linear(64, num_classes)\n",
        "        )\n",
        "\n",
        "        self.dropout = nn.Dropout(dropout)\n",
        "\n",
        "    def forward(self, input_ids, labels=None):\n",
        "        X = self.embeddings(input_ids)\n",
        "        X = self.dropout(X)\n",
        "\n",
        "        out = self.feat(X.permute(0, 2, 1))\n",
        "        out = self.dropout(out)\n",
        "\n",
        "        logits = self.classifier(out)\n",
        "\n",
        "        # Based on huggingface source\n",
        "        loss = None\n",
        "        if labels is not None:\n",
        "            loss_fn = nn.CrossEntropyLoss()\n",
        "            loss = loss_fn(logits.view(-1, self.num_classes), labels.view(-1))\n",
        "\n",
        "        # Huggingface models require a specific output\n",
        "        return SequenceClassifierOutput(\n",
        "            loss=loss,\n",
        "            logits=logits,\n",
        "            hidden_states = None,\n",
        "            attentions=None\n",
        "        )"
      ],
      "metadata": {
        "id": "Dl49KsyUelCg"
      },
      "execution_count": null,
      "outputs": []
    },
    {
      "cell_type": "markdown",
      "source": [
        "### Training arguments"
      ],
      "metadata": {
        "id": "2xWlcd_tfGry"
      }
    },
    {
      "cell_type": "code",
      "source": [
        "from transformers import TrainingArguments, Trainer\n",
        "import torch\n",
        "import torch.nn as nn\n",
        "import torch.nn.functional as F\n",
        "\n",
        "\n",
        "vocab_size = config_bert.vocab_size\n",
        "embed_size = 128#64\n",
        "num_classes = 3\n",
        "dropout = 0.2\n",
        "batch_size = 32\n",
        "num_epochs = 10\n",
        "lr = 1e-3\n",
        "weight_decay = 1e-3\n",
        "\n",
        "cnn_model = CNNModel(embed_size, vocab_size, num_classes, dropout, device)\n",
        "\n",
        "# name for the repository on the hub\n",
        "repo_name = \"cnn_sentiment_analysis\"\n",
        "\n",
        "#!pip install --upgrade accelerate\n",
        "training_args = TrainingArguments(output_dir=repo_name,\n",
        "                                  num_train_epochs = num_epochs,\n",
        "                                  evaluation_strategy =\"epoch\",\n",
        "                                  save_strategy = \"epoch\",\n",
        "                                  per_device_train_batch_size = batch_size,\n",
        "                                  per_device_eval_batch_size = batch_size,\n",
        "                                  learning_rate = lr,\n",
        "                                  load_best_model_at_end=True,\n",
        "                                  metric_for_best_model=\"accuracy\",\n",
        "                                  fp16=True,\n",
        "                                  weight_decay=weight_decay,\n",
        "                                  #push_to_hub=True,\n",
        "                                  #hub_model_id=repo_name,\n",
        "                                  remove_unused_columns=False,\n",
        "                                  report_to=\"wandb\"\n",
        "                                  )"
      ],
      "metadata": {
        "id": "TwEr5D2ffHg3"
      },
      "execution_count": null,
      "outputs": []
    },
    {
      "cell_type": "code",
      "source": [
        "cnn_trainer = Trainer(\n",
        "    cnn_model,\n",
        "    training_args,\n",
        "    train_dataset = train_ds,\n",
        "    eval_dataset = val_ds,\n",
        "    tokenizer=tokenizer,\n",
        "    compute_metrics=compute_metrics,\n",
        "    data_collator=collate_fn_cnn\n",
        ")"
      ],
      "metadata": {
        "id": "bNCBujMzfQyw"
      },
      "execution_count": null,
      "outputs": []
    },
    {
      "cell_type": "code",
      "source": [
        "cnn_results = cnn_trainer.train()"
      ],
      "metadata": {
        "colab": {
          "base_uri": "https://localhost:8080/",
          "height": 445
        },
        "id": "N8-Uu82cfUvC",
        "outputId": "c6b9b769-9b5d-4db7-d5d5-26df891c607d"
      },
      "execution_count": null,
      "outputs": [
        {
          "output_type": "stream",
          "name": "stderr",
          "text": [
            "/usr/local/lib/python3.10/dist-packages/transformers/optimization.py:411: FutureWarning: This implementation of AdamW is deprecated and will be removed in a future version. Use the PyTorch implementation torch.optim.AdamW instead, or set `no_deprecation_warning=True` to disable this warning\n",
            "  warnings.warn(\n"
          ]
        },
        {
          "output_type": "display_data",
          "data": {
            "text/plain": [
              "<IPython.core.display.HTML object>"
            ],
            "text/html": [
              "\n",
              "    <div>\n",
              "      \n",
              "      <progress value='10250' max='10250' style='width:300px; height:20px; vertical-align: middle;'></progress>\n",
              "      [10250/10250 02:29, Epoch 10/10]\n",
              "    </div>\n",
              "    <table border=\"1\" class=\"dataframe\">\n",
              "  <thead>\n",
              " <tr style=\"text-align: left;\">\n",
              "      <th>Epoch</th>\n",
              "      <th>Training Loss</th>\n",
              "      <th>Validation Loss</th>\n",
              "      <th>Accuracy</th>\n",
              "      <th>F1-score</th>\n",
              "      <th>Precision</th>\n",
              "      <th>Recall</th>\n",
              "    </tr>\n",
              "  </thead>\n",
              "  <tbody>\n",
              "    <tr>\n",
              "      <td>1</td>\n",
              "      <td>0.871100</td>\n",
              "      <td>0.813533</td>\n",
              "      <td>0.629318</td>\n",
              "      <td>0.616014</td>\n",
              "      <td>0.629372</td>\n",
              "      <td>0.629318</td>\n",
              "    </tr>\n",
              "    <tr>\n",
              "      <td>2</td>\n",
              "      <td>0.740100</td>\n",
              "      <td>0.705096</td>\n",
              "      <td>0.707311</td>\n",
              "      <td>0.706462</td>\n",
              "      <td>0.706594</td>\n",
              "      <td>0.707311</td>\n",
              "    </tr>\n",
              "    <tr>\n",
              "      <td>3</td>\n",
              "      <td>0.641400</td>\n",
              "      <td>0.639836</td>\n",
              "      <td>0.747223</td>\n",
              "      <td>0.747490</td>\n",
              "      <td>0.750196</td>\n",
              "      <td>0.747223</td>\n",
              "    </tr>\n",
              "    <tr>\n",
              "      <td>4</td>\n",
              "      <td>0.576900</td>\n",
              "      <td>0.591361</td>\n",
              "      <td>0.772489</td>\n",
              "      <td>0.773264</td>\n",
              "      <td>0.774755</td>\n",
              "      <td>0.772489</td>\n",
              "    </tr>\n",
              "    <tr>\n",
              "      <td>5</td>\n",
              "      <td>0.523000</td>\n",
              "      <td>0.569940</td>\n",
              "      <td>0.786159</td>\n",
              "      <td>0.786652</td>\n",
              "      <td>0.788079</td>\n",
              "      <td>0.786159</td>\n",
              "    </tr>\n",
              "    <tr>\n",
              "      <td>6</td>\n",
              "      <td>0.482100</td>\n",
              "      <td>0.550665</td>\n",
              "      <td>0.799463</td>\n",
              "      <td>0.799562</td>\n",
              "      <td>0.799682</td>\n",
              "      <td>0.799463</td>\n",
              "    </tr>\n",
              "    <tr>\n",
              "      <td>7</td>\n",
              "      <td>0.458400</td>\n",
              "      <td>0.547063</td>\n",
              "      <td>0.804833</td>\n",
              "      <td>0.804784</td>\n",
              "      <td>0.804776</td>\n",
              "      <td>0.804833</td>\n",
              "    </tr>\n",
              "    <tr>\n",
              "      <td>8</td>\n",
              "      <td>0.430300</td>\n",
              "      <td>0.543066</td>\n",
              "      <td>0.808251</td>\n",
              "      <td>0.808680</td>\n",
              "      <td>0.809367</td>\n",
              "      <td>0.808251</td>\n",
              "    </tr>\n",
              "    <tr>\n",
              "      <td>9</td>\n",
              "      <td>0.413500</td>\n",
              "      <td>0.540371</td>\n",
              "      <td>0.810448</td>\n",
              "      <td>0.810291</td>\n",
              "      <td>0.810192</td>\n",
              "      <td>0.810448</td>\n",
              "    </tr>\n",
              "    <tr>\n",
              "      <td>10</td>\n",
              "      <td>0.385000</td>\n",
              "      <td>0.538596</td>\n",
              "      <td>0.814110</td>\n",
              "      <td>0.814439</td>\n",
              "      <td>0.814912</td>\n",
              "      <td>0.814110</td>\n",
              "    </tr>\n",
              "  </tbody>\n",
              "</table><p>"
            ]
          },
          "metadata": {}
        }
      ]
    },
    {
      "cell_type": "code",
      "source": [
        "cnn_trainer.evaluate(train_ds)"
      ],
      "metadata": {
        "id": "ZM4-UArFfZ95"
      },
      "execution_count": null,
      "outputs": []
    },
    {
      "cell_type": "code",
      "source": [
        "cnn_trainer.evaluate(val_ds)"
      ],
      "metadata": {
        "id": "hzMvTLmJfbLq"
      },
      "execution_count": null,
      "outputs": []
    },
    {
      "cell_type": "markdown",
      "source": [
        "#### Summary of results"
      ],
      "metadata": {
        "id": "OsN_1U-cfiKj"
      }
    },
    {
      "cell_type": "code",
      "source": [
        "print_table([\"Model\", \"Parameters\"], [ \\\n",
        "            ['CNN 1D', total_num_parameters(cnn_model)]\n",
        "           ])"
      ],
      "metadata": {
        "colab": {
          "base_uri": "https://localhost:8080/"
        },
        "id": "CFAimBX-fhFM",
        "outputId": "3cf6c497-c2e7-4f29-bf61-fca54ac3c9e9"
      },
      "execution_count": null,
      "outputs": [
        {
          "output_type": "stream",
          "name": "stdout",
          "text": [
            "+--------+------------+\n",
            "| Model  | Parameters |\n",
            "+--------+------------+\n",
            "| CNN 1D |   3.93 M   |\n",
            "+--------+------------+\n"
          ]
        }
      ]
    },
    {
      "cell_type": "markdown",
      "source": [
        "## Distillation to CNN"
      ],
      "metadata": {
        "id": "42OyeUlPfsJJ"
      }
    },
    {
      "cell_type": "markdown",
      "source": [
        "### Data collator"
      ],
      "metadata": {
        "id": "4ovDQ-5hfvtx"
      }
    },
    {
      "cell_type": "code",
      "source": [
        "def distill_cnn_collate_fn(batch):\n",
        "    # Extract the input sequences and labels from the batch\n",
        "    input_ids = [sample['input_ids'] for sample in batch]\n",
        "    labels = [sample['labels'] for sample in batch]\n",
        "    # Attention masks used by the teacher\n",
        "    attention_masks = [sample['attention_mask'] for sample in batch]\n",
        "\n",
        "    # Convert lists to tensors\n",
        "    input_ids = torch.tensor(input_ids)\n",
        "    labels = torch.tensor(labels)\n",
        "    attention_masks = torch.tensor(attention_masks)\n",
        "\n",
        "    return { 'labels': labels, 'input_ids': input_ids, 'attention_mask': attention_masks}"
      ],
      "metadata": {
        "id": "zHsJNEDWfs-A"
      },
      "execution_count": null,
      "outputs": []
    },
    {
      "cell_type": "markdown",
      "source": [
        "### Training arguments"
      ],
      "metadata": {
        "id": "YyHjHOaPgJtq"
      }
    },
    {
      "cell_type": "code",
      "source": [
        "vocab_size = config_bert.vocab_size\n",
        "#embed_size = 64\n",
        "embed_size = 128\n",
        "num_classes = 3\n",
        "dropout = 0.2\n",
        "batch_size = 32\n",
        "num_epochs = 7\n",
        "lr = 5e-3\n",
        "weight_decay = 1e-3\n",
        "\n",
        "temperature=1.0\n",
        "alpha=1.0\n",
        "\n",
        "cnn_student_model = CNNModel(embed_size, vocab_size, num_classes, dropout, device)\n",
        "\n",
        "teacher_model = AutoModelForSequenceClassification.from_pretrained(teacher_id)\n",
        "\n",
        "\n",
        "# name for the repository on the hub\n",
        "repo_name = \"distilled-bert-covid-tweets\"\n",
        "\n",
        "#!pip install --upgrade accelerate\n",
        "training_args = DistillationTrainingArguments(output_dir=repo_name,\n",
        "                                              num_train_epochs = num_epochs,\n",
        "                                              evaluation_strategy =\"epoch\",\n",
        "                                              save_strategy = \"epoch\",\n",
        "                                              per_device_train_batch_size = batch_size,\n",
        "                                              per_device_eval_batch_size = batch_size,\n",
        "                                              learning_rate = lr,\n",
        "                                              load_best_model_at_end=True,\n",
        "                                              metric_for_best_model=\"accuracy\",\n",
        "                                              fp16=True,\n",
        "                                              weight_decay=weight_decay,\n",
        "                                              #push_to_hub=True,\n",
        "                                              #hub_model_id=repo_name,\n",
        "                                              temperature=temperature,\n",
        "                                              alpha=alpha,\n",
        "                                              model_type=\"cnn\",\n",
        "                                              remove_unused_columns=False,\n",
        "                                              distil_loss='kl',\n",
        "                                              lr_scheduler_type ='constant'\n",
        "                                              )"
      ],
      "metadata": {
        "id": "AL0Ndo9egOh4"
      },
      "execution_count": null,
      "outputs": []
    },
    {
      "cell_type": "code",
      "source": [
        "trainer_distillation = DistillationTrainer(\n",
        "    cnn_student_model,\n",
        "    training_args,\n",
        "    teacher_model=teacher_model,\n",
        "    train_dataset = train_ds,\n",
        "    eval_dataset = val_ds,\n",
        "    tokenizer=tokenizer,\n",
        "    compute_metrics=compute_metrics,\n",
        "    data_collator=distill_cnn_collate_fn\n",
        ")"
      ],
      "metadata": {
        "id": "x4PWcx1ZgWdX"
      },
      "execution_count": null,
      "outputs": []
    },
    {
      "cell_type": "markdown",
      "source": [
        "##For alpha = 0.5 and T = 4.0"
      ],
      "metadata": {
        "id": "_oqKDDw4_wV7"
      }
    },
    {
      "cell_type": "code",
      "source": [
        "results_distillation_cnn1 = trainer_distillation.train()"
      ],
      "metadata": {
        "colab": {
          "base_uri": "https://localhost:8080/",
          "height": 295
        },
        "id": "1LPzPhcaO6qR",
        "outputId": "505c6f15-4bd8-4986-c935-6bf647893d8b"
      },
      "execution_count": null,
      "outputs": [
        {
          "output_type": "display_data",
          "data": {
            "text/plain": [
              "<IPython.core.display.HTML object>"
            ],
            "text/html": [
              "\n",
              "    <div>\n",
              "      \n",
              "      <progress value='7175' max='7175' style='width:300px; height:20px; vertical-align: middle;'></progress>\n",
              "      [7175/7175 27:06, Epoch 7/7]\n",
              "    </div>\n",
              "    <table border=\"1\" class=\"dataframe\">\n",
              "  <thead>\n",
              " <tr style=\"text-align: left;\">\n",
              "      <th>Epoch</th>\n",
              "      <th>Training Loss</th>\n",
              "      <th>Validation Loss</th>\n",
              "      <th>Accuracy</th>\n",
              "      <th>F1-score</th>\n",
              "      <th>Precision</th>\n",
              "      <th>Recall</th>\n",
              "    </tr>\n",
              "  </thead>\n",
              "  <tbody>\n",
              "    <tr>\n",
              "      <td>1</td>\n",
              "      <td>1.844700</td>\n",
              "      <td>1.583392</td>\n",
              "      <td>0.763701</td>\n",
              "      <td>0.761342</td>\n",
              "      <td>0.777573</td>\n",
              "      <td>0.763701</td>\n",
              "    </tr>\n",
              "    <tr>\n",
              "      <td>2</td>\n",
              "      <td>1.335400</td>\n",
              "      <td>1.133475</td>\n",
              "      <td>0.840596</td>\n",
              "      <td>0.840743</td>\n",
              "      <td>0.842147</td>\n",
              "      <td>0.840596</td>\n",
              "    </tr>\n",
              "    <tr>\n",
              "      <td>3</td>\n",
              "      <td>1.121700</td>\n",
              "      <td>1.003116</td>\n",
              "      <td>0.839009</td>\n",
              "      <td>0.837987</td>\n",
              "      <td>0.847333</td>\n",
              "      <td>0.839009</td>\n",
              "    </tr>\n",
              "    <tr>\n",
              "      <td>4</td>\n",
              "      <td>0.998400</td>\n",
              "      <td>0.932954</td>\n",
              "      <td>0.849384</td>\n",
              "      <td>0.848715</td>\n",
              "      <td>0.852065</td>\n",
              "      <td>0.849384</td>\n",
              "    </tr>\n",
              "    <tr>\n",
              "      <td>5</td>\n",
              "      <td>0.889000</td>\n",
              "      <td>0.866598</td>\n",
              "      <td>0.863420</td>\n",
              "      <td>0.862952</td>\n",
              "      <td>0.864972</td>\n",
              "      <td>0.863420</td>\n",
              "    </tr>\n",
              "    <tr>\n",
              "      <td>6</td>\n",
              "      <td>0.813500</td>\n",
              "      <td>0.871782</td>\n",
              "      <td>0.865129</td>\n",
              "      <td>0.865140</td>\n",
              "      <td>0.865153</td>\n",
              "      <td>0.865129</td>\n",
              "    </tr>\n",
              "    <tr>\n",
              "      <td>7</td>\n",
              "      <td>0.760200</td>\n",
              "      <td>0.866686</td>\n",
              "      <td>0.856707</td>\n",
              "      <td>0.855950</td>\n",
              "      <td>0.860314</td>\n",
              "      <td>0.856707</td>\n",
              "    </tr>\n",
              "  </tbody>\n",
              "</table><p>"
            ]
          },
          "metadata": {}
        }
      ]
    },
    {
      "cell_type": "code",
      "source": [
        "# Test data\n",
        "test_results_cnn1 = trainer_distillation.evaluate(test_ds)\n",
        "\n",
        "# Summary of LSTM results for Test data\n",
        "cnn_num_params1 = total_num_parameters(cnn_student_model)\n",
        "print_table([\"Model\", \"Test ACC\", \"Test F1\", \"Parameters\", \"Test Runtime\"], [ \\\n",
        "            ['Small RNN', *get_metrics_test(test_results_cnn1), cnn_num_params1, get_runtime(test_results_cnn1)]\n",
        "           ])"
      ],
      "metadata": {
        "colab": {
          "base_uri": "https://localhost:8080/",
          "height": 126
        },
        "id": "vQYOTk5V_3Mq",
        "outputId": "59890c16-3c35-4e15-b85d-1ba35be7af62"
      },
      "execution_count": null,
      "outputs": [
        {
          "output_type": "display_data",
          "data": {
            "text/plain": [
              "<IPython.core.display.HTML object>"
            ],
            "text/html": [
              "\n",
              "    <div>\n",
              "      \n",
              "      <progress value='119' max='119' style='width:300px; height:20px; vertical-align: middle;'></progress>\n",
              "      [119/119 00:21]\n",
              "    </div>\n",
              "    "
            ]
          },
          "metadata": {}
        },
        {
          "output_type": "stream",
          "name": "stdout",
          "text": [
            "+-----------+----------+---------+------------+--------------+\n",
            "|   Model   | Test ACC | Test F1 | Parameters | Test Runtime |\n",
            "+-----------+----------+---------+------------+--------------+\n",
            "| Small RNN |  0.860   |  0.860  |   3.93 M   |    0m 21s    |\n",
            "+-----------+----------+---------+------------+--------------+\n"
          ]
        }
      ]
    },
    {
      "cell_type": "code",
      "source": [
        "train_history, val_history = get_train_val_history(trainer_distillation)\n",
        "plot_learning_curve(train_history, val_history, 'CNN distillation')"
      ],
      "metadata": {
        "colab": {
          "base_uri": "https://localhost:8080/",
          "height": 410
        },
        "id": "BTJgBZV_PeuU",
        "outputId": "18fa5db9-34c8-4add-b732-f22c7c91bec5"
      },
      "execution_count": null,
      "outputs": [
        {
          "output_type": "display_data",
          "data": {
            "text/plain": [
              "<Figure size 500x400 with 1 Axes>"
            ],
            "image/png": "[encoded data removed]"
          },
          "metadata": {}
        }
      ]
    },
    {
      "cell_type": "markdown",
      "source": [
        "##For alppha = 0.0 and T = 4"
      ],
      "metadata": {
        "id": "96KtWaIuO9ww"
      }
    },
    {
      "cell_type": "code",
      "source": [
        "results_distillation_cnn2 = trainer_distillation.train()"
      ],
      "metadata": {
        "colab": {
          "base_uri": "https://localhost:8080/",
          "height": 295
        },
        "id": "BktpU8ZdPBTZ",
        "outputId": "e79cb1ed-71ea-4e52-f866-c992150f0756"
      },
      "execution_count": null,
      "outputs": [
        {
          "output_type": "display_data",
          "data": {
            "text/plain": [
              "<IPython.core.display.HTML object>"
            ],
            "text/html": [
              "\n",
              "    <div>\n",
              "      \n",
              "      <progress value='7175' max='7175' style='width:300px; height:20px; vertical-align: middle;'></progress>\n",
              "      [7175/7175 27:16, Epoch 7/7]\n",
              "    </div>\n",
              "    <table border=\"1\" class=\"dataframe\">\n",
              "  <thead>\n",
              " <tr style=\"text-align: left;\">\n",
              "      <th>Epoch</th>\n",
              "      <th>Training Loss</th>\n",
              "      <th>Validation Loss</th>\n",
              "      <th>Accuracy</th>\n",
              "      <th>F1-score</th>\n",
              "      <th>Precision</th>\n",
              "      <th>Recall</th>\n",
              "    </tr>\n",
              "  </thead>\n",
              "  <tbody>\n",
              "    <tr>\n",
              "      <td>1</td>\n",
              "      <td>2.675700</td>\n",
              "      <td>1.963975</td>\n",
              "      <td>0.797876</td>\n",
              "      <td>0.797309</td>\n",
              "      <td>0.803683</td>\n",
              "      <td>0.797876</td>\n",
              "    </tr>\n",
              "    <tr>\n",
              "      <td>2</td>\n",
              "      <td>1.932300</td>\n",
              "      <td>1.549364</td>\n",
              "      <td>0.837422</td>\n",
              "      <td>0.836752</td>\n",
              "      <td>0.842083</td>\n",
              "      <td>0.837422</td>\n",
              "    </tr>\n",
              "    <tr>\n",
              "      <td>3</td>\n",
              "      <td>1.650100</td>\n",
              "      <td>1.428652</td>\n",
              "      <td>0.856951</td>\n",
              "      <td>0.857264</td>\n",
              "      <td>0.859429</td>\n",
              "      <td>0.856951</td>\n",
              "    </tr>\n",
              "    <tr>\n",
              "      <td>4</td>\n",
              "      <td>1.448300</td>\n",
              "      <td>1.281255</td>\n",
              "      <td>0.866349</td>\n",
              "      <td>0.866214</td>\n",
              "      <td>0.866312</td>\n",
              "      <td>0.866349</td>\n",
              "    </tr>\n",
              "    <tr>\n",
              "      <td>5</td>\n",
              "      <td>1.288500</td>\n",
              "      <td>1.458039</td>\n",
              "      <td>0.838521</td>\n",
              "      <td>0.836756</td>\n",
              "      <td>0.852035</td>\n",
              "      <td>0.838521</td>\n",
              "    </tr>\n",
              "    <tr>\n",
              "      <td>6</td>\n",
              "      <td>1.201900</td>\n",
              "      <td>1.125101</td>\n",
              "      <td>0.866227</td>\n",
              "      <td>0.865945</td>\n",
              "      <td>0.866477</td>\n",
              "      <td>0.866227</td>\n",
              "    </tr>\n",
              "    <tr>\n",
              "      <td>7</td>\n",
              "      <td>1.103600</td>\n",
              "      <td>1.145046</td>\n",
              "      <td>0.862566</td>\n",
              "      <td>0.862495</td>\n",
              "      <td>0.862474</td>\n",
              "      <td>0.862566</td>\n",
              "    </tr>\n",
              "  </tbody>\n",
              "</table><p>"
            ]
          },
          "metadata": {}
        }
      ]
    },
    {
      "cell_type": "code",
      "source": [
        "# Test data\n",
        "test_results_cnn2 = trainer_distillation.evaluate(test_ds)\n",
        "\n",
        "# Summary of LSTM results for Test data\n",
        "cnn_num_params2 = total_num_parameters(cnn_student_model)\n",
        "print_table([\"Model\", \"Test ACC\", \"Test F1\", \"Parameters\", \"Test Runtime\"], [ \\\n",
        "            ['Small RNN', *get_metrics_test(test_results_cnn2), cnn_num_params2, get_runtime(test_results_cnn2)]\n",
        "           ])"
      ],
      "metadata": {
        "colab": {
          "base_uri": "https://localhost:8080/",
          "height": 126
        },
        "id": "m7JOZ-jYPD4T",
        "outputId": "2238ac69-64a1-4c11-9e0e-644870feff04"
      },
      "execution_count": null,
      "outputs": [
        {
          "output_type": "display_data",
          "data": {
            "text/plain": [
              "<IPython.core.display.HTML object>"
            ],
            "text/html": [
              "\n",
              "    <div>\n",
              "      \n",
              "      <progress value='119' max='119' style='width:300px; height:20px; vertical-align: middle;'></progress>\n",
              "      [119/119 00:21]\n",
              "    </div>\n",
              "    "
            ]
          },
          "metadata": {}
        },
        {
          "output_type": "stream",
          "name": "stdout",
          "text": [
            "+-----------+----------+---------+------------+--------------+\n",
            "|   Model   | Test ACC | Test F1 | Parameters | Test Runtime |\n",
            "+-----------+----------+---------+------------+--------------+\n",
            "| Small RNN |  0.860   |  0.860  |   3.93 M   |    0m 22s    |\n",
            "+-----------+----------+---------+------------+--------------+\n"
          ]
        }
      ]
    },
    {
      "cell_type": "code",
      "source": [
        "train_history, val_history = get_train_val_history(trainer_distillation)\n",
        "plot_learning_curve(train_history, val_history, 'CNN distillation')"
      ],
      "metadata": {
        "colab": {
          "base_uri": "https://localhost:8080/",
          "height": 410
        },
        "id": "mvzTHUhSPgH4",
        "outputId": "57ae781c-403b-4290-dca2-2617d9202060"
      },
      "execution_count": null,
      "outputs": [
        {
          "output_type": "display_data",
          "data": {
            "text/plain": [
              "<Figure size 500x400 with 1 Axes>"
            ],
            "image/png": "[encoded data removed]"
          },
          "metadata": {}
        }
      ]
    },
    {
      "cell_type": "markdown",
      "source": [
        "##For alppha = 1.0 and T = 1"
      ],
      "metadata": {
        "id": "M_vOatrUPLLM"
      }
    },
    {
      "cell_type": "code",
      "source": [
        "results_distillation_cnn3 = trainer_distillation.train()"
      ],
      "metadata": {
        "colab": {
          "base_uri": "https://localhost:8080/",
          "height": 351
        },
        "id": "MO_HMVP3PCdM",
        "outputId": "1ab9eb83-0ec8-49d9-aeb1-cddc9f8ff58d"
      },
      "execution_count": null,
      "outputs": [
        {
          "output_type": "stream",
          "name": "stderr",
          "text": [
            "/usr/local/lib/python3.10/dist-packages/transformers/optimization.py:411: FutureWarning: This implementation of AdamW is deprecated and will be removed in a future version. Use the PyTorch implementation torch.optim.AdamW instead, or set `no_deprecation_warning=True` to disable this warning\n",
            "  warnings.warn(\n"
          ]
        },
        {
          "output_type": "display_data",
          "data": {
            "text/plain": [
              "<IPython.core.display.HTML object>"
            ],
            "text/html": [
              "\n",
              "    <div>\n",
              "      \n",
              "      <progress value='7175' max='7175' style='width:300px; height:20px; vertical-align: middle;'></progress>\n",
              "      [7175/7175 27:18, Epoch 7/7]\n",
              "    </div>\n",
              "    <table border=\"1\" class=\"dataframe\">\n",
              "  <thead>\n",
              " <tr style=\"text-align: left;\">\n",
              "      <th>Epoch</th>\n",
              "      <th>Training Loss</th>\n",
              "      <th>Validation Loss</th>\n",
              "      <th>Accuracy</th>\n",
              "      <th>F1-score</th>\n",
              "      <th>Precision</th>\n",
              "      <th>Recall</th>\n",
              "    </tr>\n",
              "  </thead>\n",
              "  <tbody>\n",
              "    <tr>\n",
              "      <td>1</td>\n",
              "      <td>0.771400</td>\n",
              "      <td>0.716435</td>\n",
              "      <td>0.729769</td>\n",
              "      <td>0.728239</td>\n",
              "      <td>0.752235</td>\n",
              "      <td>0.729769</td>\n",
              "    </tr>\n",
              "    <tr>\n",
              "      <td>2</td>\n",
              "      <td>0.586700</td>\n",
              "      <td>0.528191</td>\n",
              "      <td>0.815208</td>\n",
              "      <td>0.816176</td>\n",
              "      <td>0.820153</td>\n",
              "      <td>0.815208</td>\n",
              "    </tr>\n",
              "    <tr>\n",
              "      <td>3</td>\n",
              "      <td>0.508800</td>\n",
              "      <td>0.540021</td>\n",
              "      <td>0.811913</td>\n",
              "      <td>0.810861</td>\n",
              "      <td>0.825599</td>\n",
              "      <td>0.811913</td>\n",
              "    </tr>\n",
              "    <tr>\n",
              "      <td>4</td>\n",
              "      <td>0.451000</td>\n",
              "      <td>0.524018</td>\n",
              "      <td>0.834737</td>\n",
              "      <td>0.834873</td>\n",
              "      <td>0.835762</td>\n",
              "      <td>0.834737</td>\n",
              "    </tr>\n",
              "    <tr>\n",
              "      <td>5</td>\n",
              "      <td>0.407800</td>\n",
              "      <td>0.503764</td>\n",
              "      <td>0.829977</td>\n",
              "      <td>0.830161</td>\n",
              "      <td>0.833717</td>\n",
              "      <td>0.829977</td>\n",
              "    </tr>\n",
              "    <tr>\n",
              "      <td>6</td>\n",
              "      <td>0.367700</td>\n",
              "      <td>0.578146</td>\n",
              "      <td>0.833761</td>\n",
              "      <td>0.833874</td>\n",
              "      <td>0.837604</td>\n",
              "      <td>0.833761</td>\n",
              "    </tr>\n",
              "    <tr>\n",
              "      <td>7</td>\n",
              "      <td>0.348300</td>\n",
              "      <td>0.600984</td>\n",
              "      <td>0.827658</td>\n",
              "      <td>0.826535</td>\n",
              "      <td>0.832726</td>\n",
              "      <td>0.827658</td>\n",
              "    </tr>\n",
              "  </tbody>\n",
              "</table><p>"
            ]
          },
          "metadata": {}
        }
      ]
    },
    {
      "cell_type": "code",
      "source": [
        "# Test data\n",
        "test_results_cnn3 = trainer_distillation.evaluate(test_ds)\n",
        "\n",
        "# Summary of LSTM results for Test data\n",
        "cnn_num_params3 = total_num_parameters(cnn_student_model)\n",
        "print_table([\"Model\", \"Test ACC\", \"Test F1\", \"Parameters\", \"Test Runtime\"], [ \\\n",
        "            ['Small RNN', *get_metrics_test(test_results_cnn3), cnn_num_params3, get_runtime(test_results_cnn3)]\n",
        "           ])"
      ],
      "metadata": {
        "colab": {
          "base_uri": "https://localhost:8080/",
          "height": 126
        },
        "id": "DJTHl3mQPG6v",
        "outputId": "4df06f22-102f-4456-d023-834ca7515dfd"
      },
      "execution_count": null,
      "outputs": [
        {
          "output_type": "display_data",
          "data": {
            "text/plain": [
              "<IPython.core.display.HTML object>"
            ],
            "text/html": [
              "\n",
              "    <div>\n",
              "      \n",
              "      <progress value='119' max='119' style='width:300px; height:20px; vertical-align: middle;'></progress>\n",
              "      [119/119 00:20]\n",
              "    </div>\n",
              "    "
            ]
          },
          "metadata": {}
        },
        {
          "output_type": "stream",
          "name": "stdout",
          "text": [
            "+-----------+----------+---------+------------+--------------+\n",
            "|   Model   | Test ACC | Test F1 | Parameters | Test Runtime |\n",
            "+-----------+----------+---------+------------+--------------+\n",
            "| Small RNN |  0.827   |  0.826  |   3.93 M   |    0m 20s    |\n",
            "+-----------+----------+---------+------------+--------------+\n"
          ]
        }
      ]
    },
    {
      "cell_type": "code",
      "source": [
        "train_history, val_history = get_train_val_history(trainer_distillation)\n",
        "plot_learning_curve(train_history, val_history, 'CNN distillation')"
      ],
      "metadata": {
        "colab": {
          "base_uri": "https://localhost:8080/",
          "height": 410
        },
        "id": "uPlwDJ3PPhmf",
        "outputId": "4f2f269f-43df-4115-f1f1-1ac8d2a7cfe2"
      },
      "execution_count": null,
      "outputs": [
        {
          "output_type": "display_data",
          "data": {
            "text/plain": [
              "<Figure size 500x400 with 1 Axes>"
            ],
            "image/png": "[encoded data removed]"
          },
          "metadata": {}
        }
      ]
    },
    {
      "cell_type": "code",
      "source": [
        "print_table([\"Model\", \"Parameters\"], [\n",
        "            ['CNN student', total_num_parameters(cnn_student_model)]\n",
        "           ])"
      ],
      "metadata": {
        "colab": {
          "base_uri": "https://localhost:8080/"
        },
        "id": "lHKRUBMWgkph",
        "outputId": "eb8f59ad-5ae6-402e-9b44-f977c2f883c2"
      },
      "execution_count": null,
      "outputs": [
        {
          "output_type": "stream",
          "name": "stdout",
          "text": [
            "+-------------+------------+\n",
            "|    Model    | Parameters |\n",
            "+-------------+------------+\n",
            "| CNN student |   3.93 M   |\n",
            "+-------------+------------+\n"
          ]
        }
      ]
    },
    {
      "cell_type": "markdown",
      "source": [
        "**Considering hard and soft targets**\n",
        "\n",
        "- Hard target -> cross entropy between student predictions and true targets\n",
        "- Soft target -> distillation loss between student and teacher. This experiment considers the MSE between logits"
      ],
      "metadata": {
        "id": "8waqc6iZgoaT"
      }
    },
    {
      "cell_type": "code",
      "source": [
        "vocab_size = config_bert.vocab_size\n",
        "#embed_size = 64\n",
        "embed_size = 128\n",
        "num_classes = 3\n",
        "dropout = 0.2\n",
        "batch_size = 32\n",
        "num_epochs = 10\n",
        "lr = 5e-3\n",
        "weight_decay = 1e-3\n",
        "\n",
        "temperature=0.5\n",
        "alpha=0.5\n",
        "\n",
        "cnn_student_model = CNNModel(embed_size, vocab_size, num_classes, dropout, device)\n",
        "\n",
        "teacher_model = AutoModelForSequenceClassification.from_pretrained(teacher_id)\n",
        "\n",
        "\n",
        "# name for the repository on the hub\n",
        "repo_name = \"distilled-bert-covid-tweets\"\n",
        "\n",
        "#!pip install --upgrade accelerate\n",
        "training_args = DistillationTrainingArguments(output_dir=repo_name,\n",
        "                                              num_train_epochs = num_epochs,\n",
        "                                              evaluation_strategy =\"epoch\",\n",
        "                                              save_strategy = \"epoch\",\n",
        "                                              per_device_train_batch_size = batch_size,\n",
        "                                              per_device_eval_batch_size = batch_size,\n",
        "                                              learning_rate = lr,\n",
        "                                              load_best_model_at_end=True,\n",
        "                                              metric_for_best_model=\"accuracy\",\n",
        "                                              fp16=True,\n",
        "                                              weight_decay=weight_decay,\n",
        "                                              #push_to_hub=True,\n",
        "                                              #hub_model_id=repo_name,\n",
        "                                              temperature=temperature,\n",
        "                                              alpha=alpha,\n",
        "                                              remove_unused_columns=False,\n",
        "                                              #report_to=\"wandb\"\n",
        "                                              )\n"
      ],
      "metadata": {
        "id": "OcKAvCJlguVk"
      },
      "execution_count": null,
      "outputs": []
    },
    {
      "cell_type": "code",
      "source": [
        "\n",
        "trainer_distillation = DistillationCNNTrainer(\n",
        "    cnn_student_model,\n",
        "    training_args,\n",
        "    teacher_model=teacher_model,\n",
        "    train_dataset = train_ds,\n",
        "    eval_dataset = val_ds,\n",
        "    tokenizer=tokenizer,\n",
        "    compute_metrics=compute_metrics,\n",
        "    data_collator=distill_cnn_collate_fn\n",
        ")\n"
      ],
      "metadata": {
        "id": "dkfGLH0XPvbc"
      },
      "execution_count": null,
      "outputs": []
    },
    {
      "cell_type": "code",
      "source": [
        "results_cnn__distillation = trainer_distillation.train()\n"
      ],
      "metadata": {
        "id": "oshs4dchPyqh",
        "colab": {
          "base_uri": "https://localhost:8080/",
          "height": 1000
        },
        "outputId": "95204ae6-a53a-47fd-acf4-e06917b4f5f4"
      },
      "execution_count": null,
      "outputs": [
        {
          "output_type": "stream",
          "name": "stderr",
          "text": [
            "/usr/local/lib/python3.10/dist-packages/transformers/optimization.py:411: FutureWarning: This implementation of AdamW is deprecated and will be removed in a future version. Use the PyTorch implementation torch.optim.AdamW instead, or set `no_deprecation_warning=True` to disable this warning\n",
            "  warnings.warn(\n"
          ]
        },
        {
          "output_type": "display_data",
          "data": {
            "text/plain": [
              "<IPython.core.display.HTML object>"
            ],
            "text/html": [
              "\n",
              "    <div>\n",
              "      \n",
              "      <progress value='8226' max='10250' style='width:300px; height:20px; vertical-align: middle;'></progress>\n",
              "      [ 8226/10250 30:19 < 07:27, 4.52 it/s, Epoch 8.02/10]\n",
              "    </div>\n",
              "    <table border=\"1\" class=\"dataframe\">\n",
              "  <thead>\n",
              " <tr style=\"text-align: left;\">\n",
              "      <th>Epoch</th>\n",
              "      <th>Training Loss</th>\n",
              "      <th>Validation Loss</th>\n",
              "      <th>Accuracy</th>\n",
              "      <th>F1-score</th>\n",
              "      <th>Precision</th>\n",
              "      <th>Recall</th>\n",
              "    </tr>\n",
              "  </thead>\n",
              "  <tbody>\n",
              "    <tr>\n",
              "      <td>1</td>\n",
              "      <td>3.392800</td>\n",
              "      <td>2.860611</td>\n",
              "      <td>0.765898</td>\n",
              "      <td>0.764245</td>\n",
              "      <td>0.770451</td>\n",
              "      <td>0.765898</td>\n",
              "    </tr>\n",
              "    <tr>\n",
              "      <td>2</td>\n",
              "      <td>2.484900</td>\n",
              "      <td>2.094110</td>\n",
              "      <td>0.840962</td>\n",
              "      <td>0.840781</td>\n",
              "      <td>0.840742</td>\n",
              "      <td>0.840962</td>\n",
              "    </tr>\n",
              "    <tr>\n",
              "      <td>3</td>\n",
              "      <td>2.121900</td>\n",
              "      <td>1.800692</td>\n",
              "      <td>0.847797</td>\n",
              "      <td>0.847018</td>\n",
              "      <td>0.852621</td>\n",
              "      <td>0.847797</td>\n",
              "    </tr>\n",
              "    <tr>\n",
              "      <td>4</td>\n",
              "      <td>1.860300</td>\n",
              "      <td>1.665231</td>\n",
              "      <td>0.861345</td>\n",
              "      <td>0.861192</td>\n",
              "      <td>0.861682</td>\n",
              "      <td>0.861345</td>\n",
              "    </tr>\n",
              "    <tr>\n",
              "      <td>5</td>\n",
              "      <td>1.698800</td>\n",
              "      <td>1.655614</td>\n",
              "      <td>0.865983</td>\n",
              "      <td>0.866020</td>\n",
              "      <td>0.866454</td>\n",
              "      <td>0.865983</td>\n",
              "    </tr>\n",
              "    <tr>\n",
              "      <td>6</td>\n",
              "      <td>1.539900</td>\n",
              "      <td>1.612063</td>\n",
              "      <td>0.862199</td>\n",
              "      <td>0.861817</td>\n",
              "      <td>0.863200</td>\n",
              "      <td>0.862199</td>\n",
              "    </tr>\n",
              "    <tr>\n",
              "      <td>7</td>\n",
              "      <td>1.423100</td>\n",
              "      <td>1.583989</td>\n",
              "      <td>0.865983</td>\n",
              "      <td>0.865732</td>\n",
              "      <td>0.866009</td>\n",
              "      <td>0.865983</td>\n",
              "    </tr>\n",
              "    <tr>\n",
              "      <td>8</td>\n",
              "      <td>1.308000</td>\n",
              "      <td>1.622732</td>\n",
              "      <td>0.866105</td>\n",
              "      <td>0.865874</td>\n",
              "      <td>0.866235</td>\n",
              "      <td>0.866105</td>\n",
              "    </tr>\n",
              "  </tbody>\n",
              "</table><p>"
            ]
          },
          "metadata": {}
        },
        {
          "output_type": "display_data",
          "data": {
            "text/plain": [
              "\u001b[31m╭─\u001b[0m\u001b[31m──────────────────────────────\u001b[0m\u001b[31m \u001b[0m\u001b[1;31mTraceback \u001b[0m\u001b[1;2;31m(most recent call last)\u001b[0m\u001b[31m \u001b[0m\u001b[31m───────────────────────────────\u001b[0m\u001b[31m─╮\u001b[0m\n",
              "\u001b[31m│\u001b[0m in \u001b[92m<cell line: 1>\u001b[0m:\u001b[94m1\u001b[0m                                                                              \u001b[31m│\u001b[0m\n",
              "\u001b[31m│\u001b[0m                                                                                                  \u001b[31m│\u001b[0m\n",
              "\u001b[31m│\u001b[0m \u001b[2;33m/usr/local/lib/python3.10/dist-packages/transformers/\u001b[0m\u001b[1;33mtrainer.py\u001b[0m:\u001b[94m1645\u001b[0m in \u001b[92mtrain\u001b[0m                    \u001b[31m│\u001b[0m\n",
              "\u001b[31m│\u001b[0m                                                                                                  \u001b[31m│\u001b[0m\n",
              "\u001b[31m│\u001b[0m   \u001b[2m1642 \u001b[0m\u001b[2m│   │   \u001b[0minner_training_loop = find_executable_batch_size(                                 \u001b[31m│\u001b[0m\n",
              "\u001b[31m│\u001b[0m   \u001b[2m1643 \u001b[0m\u001b[2m│   │   │   \u001b[0m\u001b[96mself\u001b[0m._inner_training_loop, \u001b[96mself\u001b[0m._train_batch_size, args.auto_find_batch_size  \u001b[31m│\u001b[0m\n",
              "\u001b[31m│\u001b[0m   \u001b[2m1644 \u001b[0m\u001b[2m│   │   \u001b[0m)                                                                                 \u001b[31m│\u001b[0m\n",
              "\u001b[31m│\u001b[0m \u001b[31m❱ \u001b[0m1645 \u001b[2m│   │   \u001b[0m\u001b[94mreturn\u001b[0m inner_training_loop(                                                       \u001b[31m│\u001b[0m\n",
              "\u001b[31m│\u001b[0m   \u001b[2m1646 \u001b[0m\u001b[2m│   │   │   \u001b[0margs=args,                                                                    \u001b[31m│\u001b[0m\n",
              "\u001b[31m│\u001b[0m   \u001b[2m1647 \u001b[0m\u001b[2m│   │   │   \u001b[0mresume_from_checkpoint=resume_from_checkpoint,                                \u001b[31m│\u001b[0m\n",
              "\u001b[31m│\u001b[0m   \u001b[2m1648 \u001b[0m\u001b[2m│   │   │   \u001b[0mtrial=trial,                                                                  \u001b[31m│\u001b[0m\n",
              "\u001b[31m│\u001b[0m                                                                                                  \u001b[31m│\u001b[0m\n",
              "\u001b[31m│\u001b[0m \u001b[2;33m/usr/local/lib/python3.10/dist-packages/transformers/\u001b[0m\u001b[1;33mtrainer.py\u001b[0m:\u001b[94m1938\u001b[0m in \u001b[92m_inner_training_loop\u001b[0m     \u001b[31m│\u001b[0m\n",
              "\u001b[31m│\u001b[0m                                                                                                  \u001b[31m│\u001b[0m\n",
              "\u001b[31m│\u001b[0m   \u001b[2m1935 \u001b[0m\u001b[2m│   │   │   │   │   \u001b[0m\u001b[96mself\u001b[0m.control = \u001b[96mself\u001b[0m.callback_handler.on_step_begin(args, \u001b[96mself\u001b[0m.state,  \u001b[31m│\u001b[0m\n",
              "\u001b[31m│\u001b[0m   \u001b[2m1936 \u001b[0m\u001b[2m│   │   │   │   \u001b[0m                                                                          \u001b[31m│\u001b[0m\n",
              "\u001b[31m│\u001b[0m   \u001b[2m1937 \u001b[0m\u001b[2m│   │   │   │   \u001b[0m\u001b[94mwith\u001b[0m \u001b[96mself\u001b[0m.accelerator.accumulate(model):                                  \u001b[31m│\u001b[0m\n",
              "\u001b[31m│\u001b[0m \u001b[31m❱ \u001b[0m1938 \u001b[2m│   │   │   │   │   \u001b[0mtr_loss_step = \u001b[96mself\u001b[0m.training_step(model, inputs)                      \u001b[31m│\u001b[0m\n",
              "\u001b[31m│\u001b[0m   \u001b[2m1939 \u001b[0m\u001b[2m│   │   │   │   \u001b[0m                                                                          \u001b[31m│\u001b[0m\n",
              "\u001b[31m│\u001b[0m   \u001b[2m1940 \u001b[0m\u001b[2m│   │   │   │   \u001b[0m\u001b[94mif\u001b[0m (                                                                      \u001b[31m│\u001b[0m\n",
              "\u001b[31m│\u001b[0m   \u001b[2m1941 \u001b[0m\u001b[2m│   │   │   │   │   \u001b[0margs.logging_nan_inf_filter                                           \u001b[31m│\u001b[0m\n",
              "\u001b[31m│\u001b[0m                                                                                                  \u001b[31m│\u001b[0m\n",
              "\u001b[31m│\u001b[0m \u001b[2;33m/usr/local/lib/python3.10/dist-packages/transformers/\u001b[0m\u001b[1;33mtrainer.py\u001b[0m:\u001b[94m2770\u001b[0m in \u001b[92mtraining_step\u001b[0m            \u001b[31m│\u001b[0m\n",
              "\u001b[31m│\u001b[0m                                                                                                  \u001b[31m│\u001b[0m\n",
              "\u001b[31m│\u001b[0m   \u001b[2m2767 \u001b[0m\u001b[2m│   │   │   \u001b[0m\u001b[94mwith\u001b[0m amp.scale_loss(loss, \u001b[96mself\u001b[0m.optimizer) \u001b[94mas\u001b[0m scaled_loss:                     \u001b[31m│\u001b[0m\n",
              "\u001b[31m│\u001b[0m   \u001b[2m2768 \u001b[0m\u001b[2m│   │   │   │   \u001b[0mscaled_loss.backward()                                                    \u001b[31m│\u001b[0m\n",
              "\u001b[31m│\u001b[0m   \u001b[2m2769 \u001b[0m\u001b[2m│   │   \u001b[0m\u001b[94melse\u001b[0m:                                                                             \u001b[31m│\u001b[0m\n",
              "\u001b[31m│\u001b[0m \u001b[31m❱ \u001b[0m2770 \u001b[2m│   │   │   \u001b[0m\u001b[96mself\u001b[0m.accelerator.backward(loss)                                               \u001b[31m│\u001b[0m\n",
              "\u001b[31m│\u001b[0m   \u001b[2m2771 \u001b[0m\u001b[2m│   │   \u001b[0m                                                                                  \u001b[31m│\u001b[0m\n",
              "\u001b[31m│\u001b[0m   \u001b[2m2772 \u001b[0m\u001b[2m│   │   \u001b[0m\u001b[94mreturn\u001b[0m loss.detach() / \u001b[96mself\u001b[0m.args.gradient_accumulation_steps                      \u001b[31m│\u001b[0m\n",
              "\u001b[31m│\u001b[0m   \u001b[2m2773 \u001b[0m                                                                                          \u001b[31m│\u001b[0m\n",
              "\u001b[31m│\u001b[0m                                                                                                  \u001b[31m│\u001b[0m\n",
              "\u001b[31m│\u001b[0m \u001b[2;33m/usr/local/lib/python3.10/dist-packages/accelerate/\u001b[0m\u001b[1;33maccelerator.py\u001b[0m:\u001b[94m1819\u001b[0m in \u001b[92mbackward\u001b[0m               \u001b[31m│\u001b[0m\n",
              "\u001b[31m│\u001b[0m                                                                                                  \u001b[31m│\u001b[0m\n",
              "\u001b[31m│\u001b[0m   \u001b[2m1816 \u001b[0m\u001b[2m│   │   \u001b[0m\u001b[94melif\u001b[0m \u001b[96mself\u001b[0m.distributed_type == DistributedType.MEGATRON_LM:                        \u001b[31m│\u001b[0m\n",
              "\u001b[31m│\u001b[0m   \u001b[2m1817 \u001b[0m\u001b[2m│   │   │   \u001b[0m\u001b[94mreturn\u001b[0m                                                                        \u001b[31m│\u001b[0m\n",
              "\u001b[31m│\u001b[0m   \u001b[2m1818 \u001b[0m\u001b[2m│   │   \u001b[0m\u001b[94melif\u001b[0m \u001b[96mself\u001b[0m.scaler \u001b[95mis\u001b[0m \u001b[95mnot\u001b[0m \u001b[94mNone\u001b[0m:                                                     \u001b[31m│\u001b[0m\n",
              "\u001b[31m│\u001b[0m \u001b[31m❱ \u001b[0m1819 \u001b[2m│   │   │   \u001b[0m\u001b[96mself\u001b[0m.scaler.scale(loss).backward(**kwargs)                                    \u001b[31m│\u001b[0m\n",
              "\u001b[31m│\u001b[0m   \u001b[2m1820 \u001b[0m\u001b[2m│   │   \u001b[0m\u001b[94melse\u001b[0m:                                                                             \u001b[31m│\u001b[0m\n",
              "\u001b[31m│\u001b[0m   \u001b[2m1821 \u001b[0m\u001b[2m│   │   │   \u001b[0mloss.backward(**kwargs)                                                       \u001b[31m│\u001b[0m\n",
              "\u001b[31m│\u001b[0m   \u001b[2m1822 \u001b[0m                                                                                          \u001b[31m│\u001b[0m\n",
              "\u001b[31m│\u001b[0m                                                                                                  \u001b[31m│\u001b[0m\n",
              "\u001b[31m│\u001b[0m \u001b[2;33m/usr/local/lib/python3.10/dist-packages/torch/\u001b[0m\u001b[1;33m_tensor.py\u001b[0m:\u001b[94m487\u001b[0m in \u001b[92mbackward\u001b[0m                         \u001b[31m│\u001b[0m\n",
              "\u001b[31m│\u001b[0m                                                                                                  \u001b[31m│\u001b[0m\n",
              "\u001b[31m│\u001b[0m   \u001b[2m 484 \u001b[0m\u001b[2m│   │   │   │   \u001b[0mcreate_graph=create_graph,                                                \u001b[31m│\u001b[0m\n",
              "\u001b[31m│\u001b[0m   \u001b[2m 485 \u001b[0m\u001b[2m│   │   │   │   \u001b[0minputs=inputs,                                                            \u001b[31m│\u001b[0m\n",
              "\u001b[31m│\u001b[0m   \u001b[2m 486 \u001b[0m\u001b[2m│   │   │   \u001b[0m)                                                                             \u001b[31m│\u001b[0m\n",
              "\u001b[31m│\u001b[0m \u001b[31m❱ \u001b[0m 487 \u001b[2m│   │   \u001b[0mtorch.autograd.backward(                                                          \u001b[31m│\u001b[0m\n",
              "\u001b[31m│\u001b[0m   \u001b[2m 488 \u001b[0m\u001b[2m│   │   │   \u001b[0m\u001b[96mself\u001b[0m, gradient, retain_graph, create_graph, inputs=inputs                     \u001b[31m│\u001b[0m\n",
              "\u001b[31m│\u001b[0m   \u001b[2m 489 \u001b[0m\u001b[2m│   │   \u001b[0m)                                                                                 \u001b[31m│\u001b[0m\n",
              "\u001b[31m│\u001b[0m   \u001b[2m 490 \u001b[0m                                                                                          \u001b[31m│\u001b[0m\n",
              "\u001b[31m│\u001b[0m                                                                                                  \u001b[31m│\u001b[0m\n",
              "\u001b[31m│\u001b[0m \u001b[2;33m/usr/local/lib/python3.10/dist-packages/torch/autograd/\u001b[0m\u001b[1;33m__init__.py\u001b[0m:\u001b[94m200\u001b[0m in \u001b[92mbackward\u001b[0m               \u001b[31m│\u001b[0m\n",
              "\u001b[31m│\u001b[0m                                                                                                  \u001b[31m│\u001b[0m\n",
              "\u001b[31m│\u001b[0m   \u001b[2m197 \u001b[0m\u001b[2m│   \u001b[0m\u001b[2m# The reason we repeat same the comment below is that\u001b[0m                                  \u001b[31m│\u001b[0m\n",
              "\u001b[31m│\u001b[0m   \u001b[2m198 \u001b[0m\u001b[2m│   \u001b[0m\u001b[2m# some Python versions print out the first line of a multi-line function\u001b[0m               \u001b[31m│\u001b[0m\n",
              "\u001b[31m│\u001b[0m   \u001b[2m199 \u001b[0m\u001b[2m│   \u001b[0m\u001b[2m# calls in the traceback and some print out the last line\u001b[0m                              \u001b[31m│\u001b[0m\n",
              "\u001b[31m│\u001b[0m \u001b[31m❱ \u001b[0m200 \u001b[2m│   \u001b[0mVariable._execution_engine.run_backward(  \u001b[2m# Calls into the C++ engine to run the bac\u001b[0m   \u001b[31m│\u001b[0m\n",
              "\u001b[31m│\u001b[0m   \u001b[2m201 \u001b[0m\u001b[2m│   │   \u001b[0mtensors, grad_tensors_, retain_graph, create_graph, inputs,                        \u001b[31m│\u001b[0m\n",
              "\u001b[31m│\u001b[0m   \u001b[2m202 \u001b[0m\u001b[2m│   │   \u001b[0mallow_unreachable=\u001b[94mTrue\u001b[0m, accumulate_grad=\u001b[94mTrue\u001b[0m)  \u001b[2m# Calls into the C++ engine to ru\u001b[0m   \u001b[31m│\u001b[0m\n",
              "\u001b[31m│\u001b[0m   \u001b[2m203 \u001b[0m                                                                                           \u001b[31m│\u001b[0m\n",
              "\u001b[31m╰──────────────────────────────────────────────────────────────────────────────────────────────────╯\u001b[0m\n",
              "\u001b[1;91mKeyboardInterrupt\u001b[0m\n"
            ],
            "text/html": [
              "<pre style=\"white-space:pre;overflow-x:auto;line-height:normal;font-family:Menlo,'DejaVu Sans Mono',consolas,'Courier New',monospace\"><span style=\"color: #800000; text-decoration-color: #800000\">╭─────────────────────────────── </span><span style=\"color: #800000; text-decoration-color: #800000; font-weight: bold\">Traceback </span><span style=\"color: #bf7f7f; text-decoration-color: #bf7f7f; font-weight: bold\">(most recent call last)</span><span style=\"color: #800000; text-decoration-color: #800000\"> ────────────────────────────────╮</span>\n",
              "<span style=\"color: #800000; text-decoration-color: #800000\">│</span> in <span style=\"color: #00ff00; text-decoration-color: #00ff00\">&lt;cell line: 1&gt;</span>:<span style=\"color: #0000ff; text-decoration-color: #0000ff\">1</span>                                                                              <span style=\"color: #800000; text-decoration-color: #800000\">│</span>\n",
              "<span style=\"color: #800000; text-decoration-color: #800000\">│</span>                                                                                                  <span style=\"color: #800000; text-decoration-color: #800000\">│</span>\n",
              "<span style=\"color: #800000; text-decoration-color: #800000\">│</span> <span style=\"color: #bfbf7f; text-decoration-color: #bfbf7f\">/usr/local/lib/python3.10/dist-packages/transformers/</span><span style=\"color: #808000; text-decoration-color: #808000; font-weight: bold\">trainer.py</span>:<span style=\"color: #0000ff; text-decoration-color: #0000ff\">1645</span> in <span style=\"color: #00ff00; text-decoration-color: #00ff00\">train</span>                    <span style=\"color: #800000; text-decoration-color: #800000\">│</span>\n",
              "<span style=\"color: #800000; text-decoration-color: #800000\">│</span>                                                                                                  <span style=\"color: #800000; text-decoration-color: #800000\">│</span>\n",
              "<span style=\"color: #800000; text-decoration-color: #800000\">│</span>   <span style=\"color: #7f7f7f; text-decoration-color: #7f7f7f\">1642 │   │   </span>inner_training_loop = find_executable_batch_size(                                 <span style=\"color: #800000; text-decoration-color: #800000\">│</span>\n",
              "<span style=\"color: #800000; text-decoration-color: #800000\">│</span>   <span style=\"color: #7f7f7f; text-decoration-color: #7f7f7f\">1643 │   │   │   </span><span style=\"color: #00ffff; text-decoration-color: #00ffff\">self</span>._inner_training_loop, <span style=\"color: #00ffff; text-decoration-color: #00ffff\">self</span>._train_batch_size, args.auto_find_batch_size  <span style=\"color: #800000; text-decoration-color: #800000\">│</span>\n",
              "<span style=\"color: #800000; text-decoration-color: #800000\">│</span>   <span style=\"color: #7f7f7f; text-decoration-color: #7f7f7f\">1644 │   │   </span>)                                                                                 <span style=\"color: #800000; text-decoration-color: #800000\">│</span>\n",
              "<span style=\"color: #800000; text-decoration-color: #800000\">│</span> <span style=\"color: #800000; text-decoration-color: #800000\">❱ </span>1645 <span style=\"color: #7f7f7f; text-decoration-color: #7f7f7f\">│   │   </span><span style=\"color: #0000ff; text-decoration-color: #0000ff\">return</span> inner_training_loop(                                                       <span style=\"color: #800000; text-decoration-color: #800000\">│</span>\n",
              "<span style=\"color: #800000; text-decoration-color: #800000\">│</span>   <span style=\"color: #7f7f7f; text-decoration-color: #7f7f7f\">1646 │   │   │   </span>args=args,                                                                    <span style=\"color: #800000; text-decoration-color: #800000\">│</span>\n",
              "<span style=\"color: #800000; text-decoration-color: #800000\">│</span>   <span style=\"color: #7f7f7f; text-decoration-color: #7f7f7f\">1647 │   │   │   </span>resume_from_checkpoint=resume_from_checkpoint,                                <span style=\"color: #800000; text-decoration-color: #800000\">│</span>\n",
              "<span style=\"color: #800000; text-decoration-color: #800000\">│</span>   <span style=\"color: #7f7f7f; text-decoration-color: #7f7f7f\">1648 │   │   │   </span>trial=trial,                                                                  <span style=\"color: #800000; text-decoration-color: #800000\">│</span>\n",
              "<span style=\"color: #800000; text-decoration-color: #800000\">│</span>                                                                                                  <span style=\"color: #800000; text-decoration-color: #800000\">│</span>\n",
              "<span style=\"color: #800000; text-decoration-color: #800000\">│</span> <span style=\"color: #bfbf7f; text-decoration-color: #bfbf7f\">/usr/local/lib/python3.10/dist-packages/transformers/</span><span style=\"color: #808000; text-decoration-color: #808000; font-weight: bold\">trainer.py</span>:<span style=\"color: #0000ff; text-decoration-color: #0000ff\">1938</span> in <span style=\"color: #00ff00; text-decoration-color: #00ff00\">_inner_training_loop</span>     <span style=\"color: #800000; text-decoration-color: #800000\">│</span>\n",
              "<span style=\"color: #800000; text-decoration-color: #800000\">│</span>                                                                                                  <span style=\"color: #800000; text-decoration-color: #800000\">│</span>\n",
              "<span style=\"color: #800000; text-decoration-color: #800000\">│</span>   <span style=\"color: #7f7f7f; text-decoration-color: #7f7f7f\">1935 │   │   │   │   │   </span><span style=\"color: #00ffff; text-decoration-color: #00ffff\">self</span>.control = <span style=\"color: #00ffff; text-decoration-color: #00ffff\">self</span>.callback_handler.on_step_begin(args, <span style=\"color: #00ffff; text-decoration-color: #00ffff\">self</span>.state,  <span style=\"color: #800000; text-decoration-color: #800000\">│</span>\n",
              "<span style=\"color: #800000; text-decoration-color: #800000\">│</span>   <span style=\"color: #7f7f7f; text-decoration-color: #7f7f7f\">1936 │   │   │   │   </span>                                                                          <span style=\"color: #800000; text-decoration-color: #800000\">│</span>\n",
              "<span style=\"color: #800000; text-decoration-color: #800000\">│</span>   <span style=\"color: #7f7f7f; text-decoration-color: #7f7f7f\">1937 │   │   │   │   </span><span style=\"color: #0000ff; text-decoration-color: #0000ff\">with</span> <span style=\"color: #00ffff; text-decoration-color: #00ffff\">self</span>.accelerator.accumulate(model):                                  <span style=\"color: #800000; text-decoration-color: #800000\">│</span>\n",
              "<span style=\"color: #800000; text-decoration-color: #800000\">│</span> <span style=\"color: #800000; text-decoration-color: #800000\">❱ </span>1938 <span style=\"color: #7f7f7f; text-decoration-color: #7f7f7f\">│   │   │   │   │   </span>tr_loss_step = <span style=\"color: #00ffff; text-decoration-color: #00ffff\">self</span>.training_step(model, inputs)                      <span style=\"color: #800000; text-decoration-color: #800000\">│</span>\n",
              "<span style=\"color: #800000; text-decoration-color: #800000\">│</span>   <span style=\"color: #7f7f7f; text-decoration-color: #7f7f7f\">1939 │   │   │   │   </span>                                                                          <span style=\"color: #800000; text-decoration-color: #800000\">│</span>\n",
              "<span style=\"color: #800000; text-decoration-color: #800000\">│</span>   <span style=\"color: #7f7f7f; text-decoration-color: #7f7f7f\">1940 │   │   │   │   </span><span style=\"color: #0000ff; text-decoration-color: #0000ff\">if</span> (                                                                      <span style=\"color: #800000; text-decoration-color: #800000\">│</span>\n",
              "<span style=\"color: #800000; text-decoration-color: #800000\">│</span>   <span style=\"color: #7f7f7f; text-decoration-color: #7f7f7f\">1941 │   │   │   │   │   </span>args.logging_nan_inf_filter                                           <span style=\"color: #800000; text-decoration-color: #800000\">│</span>\n",
              "<span style=\"color: #800000; text-decoration-color: #800000\">│</span>                                                                                                  <span style=\"color: #800000; text-decoration-color: #800000\">│</span>\n",
              "<span style=\"color: #800000; text-decoration-color: #800000\">│</span> <span style=\"color: #bfbf7f; text-decoration-color: #bfbf7f\">/usr/local/lib/python3.10/dist-packages/transformers/</span><span style=\"color: #808000; text-decoration-color: #808000; font-weight: bold\">trainer.py</span>:<span style=\"color: #0000ff; text-decoration-color: #0000ff\">2770</span> in <span style=\"color: #00ff00; text-decoration-color: #00ff00\">training_step</span>            <span style=\"color: #800000; text-decoration-color: #800000\">│</span>\n",
              "<span style=\"color: #800000; text-decoration-color: #800000\">│</span>                                                                                                  <span style=\"color: #800000; text-decoration-color: #800000\">│</span>\n",
              "<span style=\"color: #800000; text-decoration-color: #800000\">│</span>   <span style=\"color: #7f7f7f; text-decoration-color: #7f7f7f\">2767 │   │   │   </span><span style=\"color: #0000ff; text-decoration-color: #0000ff\">with</span> amp.scale_loss(loss, <span style=\"color: #00ffff; text-decoration-color: #00ffff\">self</span>.optimizer) <span style=\"color: #0000ff; text-decoration-color: #0000ff\">as</span> scaled_loss:                     <span style=\"color: #800000; text-decoration-color: #800000\">│</span>\n",
              "<span style=\"color: #800000; text-decoration-color: #800000\">│</span>   <span style=\"color: #7f7f7f; text-decoration-color: #7f7f7f\">2768 │   │   │   │   </span>scaled_loss.backward()                                                    <span style=\"color: #800000; text-decoration-color: #800000\">│</span>\n",
              "<span style=\"color: #800000; text-decoration-color: #800000\">│</span>   <span style=\"color: #7f7f7f; text-decoration-color: #7f7f7f\">2769 │   │   </span><span style=\"color: #0000ff; text-decoration-color: #0000ff\">else</span>:                                                                             <span style=\"color: #800000; text-decoration-color: #800000\">│</span>\n",
              "<span style=\"color: #800000; text-decoration-color: #800000\">│</span> <span style=\"color: #800000; text-decoration-color: #800000\">❱ </span>2770 <span style=\"color: #7f7f7f; text-decoration-color: #7f7f7f\">│   │   │   </span><span style=\"color: #00ffff; text-decoration-color: #00ffff\">self</span>.accelerator.backward(loss)                                               <span style=\"color: #800000; text-decoration-color: #800000\">│</span>\n",
              "<span style=\"color: #800000; text-decoration-color: #800000\">│</span>   <span style=\"color: #7f7f7f; text-decoration-color: #7f7f7f\">2771 │   │   </span>                                                                                  <span style=\"color: #800000; text-decoration-color: #800000\">│</span>\n",
              "<span style=\"color: #800000; text-decoration-color: #800000\">│</span>   <span style=\"color: #7f7f7f; text-decoration-color: #7f7f7f\">2772 │   │   </span><span style=\"color: #0000ff; text-decoration-color: #0000ff\">return</span> loss.detach() / <span style=\"color: #00ffff; text-decoration-color: #00ffff\">self</span>.args.gradient_accumulation_steps                      <span style=\"color: #800000; text-decoration-color: #800000\">│</span>\n",
              "<span style=\"color: #800000; text-decoration-color: #800000\">│</span>   <span style=\"color: #7f7f7f; text-decoration-color: #7f7f7f\">2773 </span>                                                                                          <span style=\"color: #800000; text-decoration-color: #800000\">│</span>\n",
              "<span style=\"color: #800000; text-decoration-color: #800000\">│</span>                                                                                                  <span style=\"color: #800000; text-decoration-color: #800000\">│</span>\n",
              "<span style=\"color: #800000; text-decoration-color: #800000\">│</span> <span style=\"color: #bfbf7f; text-decoration-color: #bfbf7f\">/usr/local/lib/python3.10/dist-packages/accelerate/</span><span style=\"color: #808000; text-decoration-color: #808000; font-weight: bold\">accelerator.py</span>:<span style=\"color: #0000ff; text-decoration-color: #0000ff\">1819</span> in <span style=\"color: #00ff00; text-decoration-color: #00ff00\">backward</span>               <span style=\"color: #800000; text-decoration-color: #800000\">│</span>\n",
              "<span style=\"color: #800000; text-decoration-color: #800000\">│</span>                                                                                                  <span style=\"color: #800000; text-decoration-color: #800000\">│</span>\n",
              "<span style=\"color: #800000; text-decoration-color: #800000\">│</span>   <span style=\"color: #7f7f7f; text-decoration-color: #7f7f7f\">1816 │   │   </span><span style=\"color: #0000ff; text-decoration-color: #0000ff\">elif</span> <span style=\"color: #00ffff; text-decoration-color: #00ffff\">self</span>.distributed_type == DistributedType.MEGATRON_LM:                        <span style=\"color: #800000; text-decoration-color: #800000\">│</span>\n",
              "<span style=\"color: #800000; text-decoration-color: #800000\">│</span>   <span style=\"color: #7f7f7f; text-decoration-color: #7f7f7f\">1817 │   │   │   </span><span style=\"color: #0000ff; text-decoration-color: #0000ff\">return</span>                                                                        <span style=\"color: #800000; text-decoration-color: #800000\">│</span>\n",
              "<span style=\"color: #800000; text-decoration-color: #800000\">│</span>   <span style=\"color: #7f7f7f; text-decoration-color: #7f7f7f\">1818 │   │   </span><span style=\"color: #0000ff; text-decoration-color: #0000ff\">elif</span> <span style=\"color: #00ffff; text-decoration-color: #00ffff\">self</span>.scaler <span style=\"color: #ff00ff; text-decoration-color: #ff00ff\">is</span> <span style=\"color: #ff00ff; text-decoration-color: #ff00ff\">not</span> <span style=\"color: #0000ff; text-decoration-color: #0000ff\">None</span>:                                                     <span style=\"color: #800000; text-decoration-color: #800000\">│</span>\n",
              "<span style=\"color: #800000; text-decoration-color: #800000\">│</span> <span style=\"color: #800000; text-decoration-color: #800000\">❱ </span>1819 <span style=\"color: #7f7f7f; text-decoration-color: #7f7f7f\">│   │   │   </span><span style=\"color: #00ffff; text-decoration-color: #00ffff\">self</span>.scaler.scale(loss).backward(**kwargs)                                    <span style=\"color: #800000; text-decoration-color: #800000\">│</span>\n",
              "<span style=\"color: #800000; text-decoration-color: #800000\">│</span>   <span style=\"color: #7f7f7f; text-decoration-color: #7f7f7f\">1820 │   │   </span><span style=\"color: #0000ff; text-decoration-color: #0000ff\">else</span>:                                                                             <span style=\"color: #800000; text-decoration-color: #800000\">│</span>\n",
              "<span style=\"color: #800000; text-decoration-color: #800000\">│</span>   <span style=\"color: #7f7f7f; text-decoration-color: #7f7f7f\">1821 │   │   │   </span>loss.backward(**kwargs)                                                       <span style=\"color: #800000; text-decoration-color: #800000\">│</span>\n",
              "<span style=\"color: #800000; text-decoration-color: #800000\">│</span>   <span style=\"color: #7f7f7f; text-decoration-color: #7f7f7f\">1822 </span>                                                                                          <span style=\"color: #800000; text-decoration-color: #800000\">│</span>\n",
              "<span style=\"color: #800000; text-decoration-color: #800000\">│</span>                                                                                                  <span style=\"color: #800000; text-decoration-color: #800000\">│</span>\n",
              "<span style=\"color: #800000; text-decoration-color: #800000\">│</span> <span style=\"color: #bfbf7f; text-decoration-color: #bfbf7f\">/usr/local/lib/python3.10/dist-packages/torch/</span><span style=\"color: #808000; text-decoration-color: #808000; font-weight: bold\">_tensor.py</span>:<span style=\"color: #0000ff; text-decoration-color: #0000ff\">487</span> in <span style=\"color: #00ff00; text-decoration-color: #00ff00\">backward</span>                         <span style=\"color: #800000; text-decoration-color: #800000\">│</span>\n",
              "<span style=\"color: #800000; text-decoration-color: #800000\">│</span>                                                                                                  <span style=\"color: #800000; text-decoration-color: #800000\">│</span>\n",
              "<span style=\"color: #800000; text-decoration-color: #800000\">│</span>   <span style=\"color: #7f7f7f; text-decoration-color: #7f7f7f\"> 484 │   │   │   │   </span>create_graph=create_graph,                                                <span style=\"color: #800000; text-decoration-color: #800000\">│</span>\n",
              "<span style=\"color: #800000; text-decoration-color: #800000\">│</span>   <span style=\"color: #7f7f7f; text-decoration-color: #7f7f7f\"> 485 │   │   │   │   </span>inputs=inputs,                                                            <span style=\"color: #800000; text-decoration-color: #800000\">│</span>\n",
              "<span style=\"color: #800000; text-decoration-color: #800000\">│</span>   <span style=\"color: #7f7f7f; text-decoration-color: #7f7f7f\"> 486 │   │   │   </span>)                                                                             <span style=\"color: #800000; text-decoration-color: #800000\">│</span>\n",
              "<span style=\"color: #800000; text-decoration-color: #800000\">│</span> <span style=\"color: #800000; text-decoration-color: #800000\">❱ </span> 487 <span style=\"color: #7f7f7f; text-decoration-color: #7f7f7f\">│   │   </span>torch.autograd.backward(                                                          <span style=\"color: #800000; text-decoration-color: #800000\">│</span>\n",
              "<span style=\"color: #800000; text-decoration-color: #800000\">│</span>   <span style=\"color: #7f7f7f; text-decoration-color: #7f7f7f\"> 488 │   │   │   </span><span style=\"color: #00ffff; text-decoration-color: #00ffff\">self</span>, gradient, retain_graph, create_graph, inputs=inputs                     <span style=\"color: #800000; text-decoration-color: #800000\">│</span>\n",
              "<span style=\"color: #800000; text-decoration-color: #800000\">│</span>   <span style=\"color: #7f7f7f; text-decoration-color: #7f7f7f\"> 489 │   │   </span>)                                                                                 <span style=\"color: #800000; text-decoration-color: #800000\">│</span>\n",
              "<span style=\"color: #800000; text-decoration-color: #800000\">│</span>   <span style=\"color: #7f7f7f; text-decoration-color: #7f7f7f\"> 490 </span>                                                                                          <span style=\"color: #800000; text-decoration-color: #800000\">│</span>\n",
              "<span style=\"color: #800000; text-decoration-color: #800000\">│</span>                                                                                                  <span style=\"color: #800000; text-decoration-color: #800000\">│</span>\n",
              "<span style=\"color: #800000; text-decoration-color: #800000\">│</span> <span style=\"color: #bfbf7f; text-decoration-color: #bfbf7f\">/usr/local/lib/python3.10/dist-packages/torch/autograd/</span><span style=\"color: #808000; text-decoration-color: #808000; font-weight: bold\">__init__.py</span>:<span style=\"color: #0000ff; text-decoration-color: #0000ff\">200</span> in <span style=\"color: #00ff00; text-decoration-color: #00ff00\">backward</span>               <span style=\"color: #800000; text-decoration-color: #800000\">│</span>\n",
              "<span style=\"color: #800000; text-decoration-color: #800000\">│</span>                                                                                                  <span style=\"color: #800000; text-decoration-color: #800000\">│</span>\n",
              "<span style=\"color: #800000; text-decoration-color: #800000\">│</span>   <span style=\"color: #7f7f7f; text-decoration-color: #7f7f7f\">197 │   # The reason we repeat same the comment below is that</span>                                  <span style=\"color: #800000; text-decoration-color: #800000\">│</span>\n",
              "<span style=\"color: #800000; text-decoration-color: #800000\">│</span>   <span style=\"color: #7f7f7f; text-decoration-color: #7f7f7f\">198 │   # some Python versions print out the first line of a multi-line function</span>               <span style=\"color: #800000; text-decoration-color: #800000\">│</span>\n",
              "<span style=\"color: #800000; text-decoration-color: #800000\">│</span>   <span style=\"color: #7f7f7f; text-decoration-color: #7f7f7f\">199 │   # calls in the traceback and some print out the last line</span>                              <span style=\"color: #800000; text-decoration-color: #800000\">│</span>\n",
              "<span style=\"color: #800000; text-decoration-color: #800000\">│</span> <span style=\"color: #800000; text-decoration-color: #800000\">❱ </span>200 <span style=\"color: #7f7f7f; text-decoration-color: #7f7f7f\">│   </span>Variable._execution_engine.run_backward(  <span style=\"color: #7f7f7f; text-decoration-color: #7f7f7f\"># Calls into the C++ engine to run the bac</span>   <span style=\"color: #800000; text-decoration-color: #800000\">│</span>\n",
              "<span style=\"color: #800000; text-decoration-color: #800000\">│</span>   <span style=\"color: #7f7f7f; text-decoration-color: #7f7f7f\">201 │   │   </span>tensors, grad_tensors_, retain_graph, create_graph, inputs,                        <span style=\"color: #800000; text-decoration-color: #800000\">│</span>\n",
              "<span style=\"color: #800000; text-decoration-color: #800000\">│</span>   <span style=\"color: #7f7f7f; text-decoration-color: #7f7f7f\">202 │   │   </span>allow_unreachable=<span style=\"color: #0000ff; text-decoration-color: #0000ff\">True</span>, accumulate_grad=<span style=\"color: #0000ff; text-decoration-color: #0000ff\">True</span>)  <span style=\"color: #7f7f7f; text-decoration-color: #7f7f7f\"># Calls into the C++ engine to ru</span>   <span style=\"color: #800000; text-decoration-color: #800000\">│</span>\n",
              "<span style=\"color: #800000; text-decoration-color: #800000\">│</span>   <span style=\"color: #7f7f7f; text-decoration-color: #7f7f7f\">203 </span>                                                                                           <span style=\"color: #800000; text-decoration-color: #800000\">│</span>\n",
              "<span style=\"color: #800000; text-decoration-color: #800000\">╰──────────────────────────────────────────────────────────────────────────────────────────────────╯</span>\n",
              "<span style=\"color: #ff0000; text-decoration-color: #ff0000; font-weight: bold\">KeyboardInterrupt</span>\n",
              "</pre>\n"
            ]
          },
          "metadata": {}
        }
      ]
    },
    {
      "cell_type": "code",
      "source": [
        "trainer_distillation.evaluate(train_ds)"
      ],
      "metadata": {
        "id": "LA4ktFt0gyUk",
        "colab": {
          "base_uri": "https://localhost:8080/",
          "height": 198
        },
        "outputId": "7c76cf48-2e09-4148-8187-b902e12b0b5a"
      },
      "execution_count": null,
      "outputs": [
        {
          "output_type": "display_data",
          "data": {
            "text/plain": [
              "<IPython.core.display.HTML object>"
            ],
            "text/html": [
              "\n",
              "    <div>\n",
              "      \n",
              "      <progress value='1025' max='1025' style='width:300px; height:20px; vertical-align: middle;'></progress>\n",
              "      [1025/1025 03:22]\n",
              "    </div>\n",
              "    "
            ]
          },
          "metadata": {}
        },
        {
          "output_type": "execute_result",
          "data": {
            "text/plain": [
              "{'eval_loss': 1.4819130897521973,\n",
              " 'eval_accuracy': 0.9011260642680582,\n",
              " 'eval_f1-score': 0.9010084208026027,\n",
              " 'eval_precision': 0.9010909913964271,\n",
              " 'eval_recall': 0.9011260642680582,\n",
              " 'eval_runtime': 203.299,\n",
              " 'eval_samples_per_second': 161.186,\n",
              " 'eval_steps_per_second': 5.042,\n",
              " 'epoch': 10.0}"
            ]
          },
          "metadata": {},
          "execution_count": 53
        }
      ]
    },
    {
      "cell_type": "markdown",
      "source": [
        "###**Considering softmax distillation loss**\n",
        "\n",
        "- Soft target -> distillation loss between student and teacher. This experiment considers the kl divergence between predicted and true distributions"
      ],
      "metadata": {
        "id": "5M3_mHJyg3qf"
      }
    },
    {
      "cell_type": "code",
      "source": [
        "class DistillationTrainingArguments(TrainingArguments):\n",
        "    def __init__(self, *args, alpha=0.5, temperature=2.0, **kwargs):\n",
        "        super().__init__(*args, **kwargs)\n",
        "        self.alpha = alpha\n",
        "        self.temperature = temperature\n",
        "\n",
        "class DistillationCNNTrainer(Trainer):\n",
        "    def __init__(self, *args, teacher_model=None, **kwargs):\n",
        "        super().__init__(*args, **kwargs)\n",
        "        self.teacher = teacher_model\n",
        "        # place teacher on same device as student\n",
        "        self._move_model_to_device(self.teacher, self.model.device)\n",
        "        self.teacher.eval()\n",
        "\n",
        "    def compute_loss(self, model, inputs, return_outputs=False):\n",
        "        # Student forward\n",
        "        outputs_student = model(inputs['input_ids'], inputs['labels'])\n",
        "        student_loss = outputs_student.loss\n",
        "        student_logits = outputs_student.get(\"logits\")\n",
        "\n",
        "        # Teacher forward\n",
        "        with torch.no_grad():\n",
        "            teacher_inputs = {'input_ids': inputs['input_ids'],\n",
        "                              'attention_mask':inputs['attention_mask'],\n",
        "                              'labels':inputs['labels'] }\n",
        "            outputs_teacher = self.teacher(**teacher_inputs)\n",
        "        teacher_logits = outputs_teacher.get(\"logits\")\n",
        "\n",
        "        # Assert size\n",
        "        assert student_logits.size() == teacher_logits.size()\n",
        "\n",
        "        # Soften probabilities and compute distillation loss\n",
        "        #kl_loss = Losses().distillation_loss_mse(student_logits,teacher_logits)\n",
        "        kl_loss = Losses().distillation_loss_kl(student_logits, teacher_logits, self.args.temperature)\n",
        "        # Weighted loss\n",
        "        loss = self.args.alpha * student_loss + (1. - self.args.alpha) * kl_loss\n",
        "\n",
        "        return (loss, outputs_student) if return_outputs else loss"
      ],
      "metadata": {
        "id": "lzE37exYg2ZY"
      },
      "execution_count": null,
      "outputs": []
    },
    {
      "cell_type": "code",
      "source": [
        "vocab_size = config_bert.vocab_size\n",
        "#embed_size = 64\n",
        "embed_size = 128\n",
        "num_classes = 3\n",
        "dropout = 0.2\n",
        "batch_size = 32\n",
        "num_epochs = 10\n",
        "lr = 1e-3\n",
        "weight_decay = 1e-3\n",
        "\n",
        "temperature=1.0\n",
        "alpha=0\n",
        "\n",
        "cnn_student_model = CNNModel(embed_size, vocab_size, num_classes, dropout, device)\n",
        "\n",
        "teacher_model = AutoModelForSequenceClassification.from_pretrained(teacher_id)\n",
        "\n",
        "\n",
        "# name for the repository on the hub\n",
        "repo_name = \"distilled-bert-covid-tweets\"\n",
        "\n",
        "#!pip install --upgrade accelerate\n",
        "training_args = DistillationTrainingArguments(output_dir=repo_name,\n",
        "                                              num_train_epochs = num_epochs,\n",
        "                                              evaluation_strategy =\"epoch\",\n",
        "                                              save_strategy = \"epoch\",\n",
        "                                              per_device_train_batch_size = batch_size,\n",
        "                                              per_device_eval_batch_size = batch_size,\n",
        "                                              learning_rate = lr,\n",
        "                                              load_best_model_at_end=True,\n",
        "                                              metric_for_best_model=\"accuracy\",\n",
        "                                              fp16=True,\n",
        "                                              weight_decay=weight_decay,\n",
        "                                              #push_to_hub=True,\n",
        "                                              #hub_model_id=repo_name,\n",
        "                                              temperature=temperature,\n",
        "                                              alpha=alpha,\n",
        "                                              remove_unused_columns=False,\n",
        "                                              report_to=\"wandb\"\n",
        "                                              )\n",
        "\n",
        "\n",
        "\n"
      ],
      "metadata": {
        "id": "aVsSUfx0htaM"
      },
      "execution_count": null,
      "outputs": []
    },
    {
      "cell_type": "code",
      "source": [
        "wandb.init()\n",
        "wandb.watch(cnn_student_model)\n",
        "\n",
        "trainer_distillation = DistillationCNNTrainer(\n",
        "    cnn_student_model,\n",
        "    training_args,\n",
        "    teacher_model=teacher_model,\n",
        "    train_dataset = train_ds,\n",
        "    eval_dataset = val_ds,\n",
        "    tokenizer=tokenizer,\n",
        "    compute_metrics=compute_metrics,\n",
        "    data_collator=distill_cnn_collate_fn\n",
        ")"
      ],
      "metadata": {
        "id": "6IHLoeEZOyCY",
        "colab": {
          "base_uri": "https://localhost:8080/",
          "height": 139
        },
        "outputId": "bba23b9f-de3a-4813-fbdb-8997d7d3bce4"
      },
      "execution_count": null,
      "outputs": [
        {
          "output_type": "display_data",
          "data": {
            "text/plain": [
              "<IPython.core.display.HTML object>"
            ],
            "text/html": [
              "Changes to your `wandb` environment variables will be ignored because your `wandb` session has already started. For more information on how to modify your settings with `wandb.init()` arguments, please refer to <a href='https://wandb.me/wandb-init' target=\"_blank\">the W&B docs</a>."
            ]
          },
          "metadata": {}
        },
        {
          "output_type": "display_data",
          "data": {
            "text/plain": [
              "<IPython.core.display.HTML object>"
            ],
            "text/html": [
              "Tracking run with wandb version 0.15.4"
            ]
          },
          "metadata": {}
        },
        {
          "output_type": "display_data",
          "data": {
            "text/plain": [
              "<IPython.core.display.HTML object>"
            ],
            "text/html": [
              "Run data is saved locally in <code>/content/wandb/run-20230609_193733-bzk02x19</code>"
            ]
          },
          "metadata": {}
        },
        {
          "output_type": "display_data",
          "data": {
            "text/plain": [
              "<IPython.core.display.HTML object>"
            ],
            "text/html": [
              "Syncing run <strong><a href='https://wandb.ai/monirom2010/uncategorized/runs/bzk02x19' target=\"_blank\">desert-shadow-45</a></strong> to <a href='https://wandb.ai/monirom2010/uncategorized' target=\"_blank\">Weights & Biases</a> (<a href='https://wandb.me/run' target=\"_blank\">docs</a>)<br/>"
            ]
          },
          "metadata": {}
        },
        {
          "output_type": "display_data",
          "data": {
            "text/plain": [
              "<IPython.core.display.HTML object>"
            ],
            "text/html": [
              " View project at <a href='https://wandb.ai/monirom2010/uncategorized' target=\"_blank\">https://wandb.ai/monirom2010/uncategorized</a>"
            ]
          },
          "metadata": {}
        },
        {
          "output_type": "display_data",
          "data": {
            "text/plain": [
              "<IPython.core.display.HTML object>"
            ],
            "text/html": [
              " View run at <a href='https://wandb.ai/monirom2010/uncategorized/runs/bzk02x19' target=\"_blank\">https://wandb.ai/monirom2010/uncategorized/runs/bzk02x19</a>"
            ]
          },
          "metadata": {}
        }
      ]
    },
    {
      "cell_type": "code",
      "source": [
        "results_cnn__distillation = trainer_distillation.train()"
      ],
      "metadata": {
        "id": "LNdK2GkyPn0O",
        "colab": {
          "base_uri": "https://localhost:8080/",
          "height": 445
        },
        "outputId": "6a65c7f6-589a-47e1-f470-cf8f9d9edeb5"
      },
      "execution_count": null,
      "outputs": [
        {
          "output_type": "stream",
          "name": "stderr",
          "text": [
            "/usr/local/lib/python3.10/dist-packages/transformers/optimization.py:411: FutureWarning: This implementation of AdamW is deprecated and will be removed in a future version. Use the PyTorch implementation torch.optim.AdamW instead, or set `no_deprecation_warning=True` to disable this warning\n",
            "  warnings.warn(\n"
          ]
        },
        {
          "output_type": "display_data",
          "data": {
            "text/plain": [
              "<IPython.core.display.HTML object>"
            ],
            "text/html": [
              "\n",
              "    <div>\n",
              "      \n",
              "      <progress value='10250' max='10250' style='width:300px; height:20px; vertical-align: middle;'></progress>\n",
              "      [10250/10250 42:19, Epoch 10/10]\n",
              "    </div>\n",
              "    <table border=\"1\" class=\"dataframe\">\n",
              "  <thead>\n",
              " <tr style=\"text-align: left;\">\n",
              "      <th>Epoch</th>\n",
              "      <th>Training Loss</th>\n",
              "      <th>Validation Loss</th>\n",
              "      <th>Accuracy</th>\n",
              "      <th>F1-score</th>\n",
              "      <th>Precision</th>\n",
              "      <th>Recall</th>\n",
              "    </tr>\n",
              "  </thead>\n",
              "  <tbody>\n",
              "    <tr>\n",
              "      <td>1</td>\n",
              "      <td>0.785600</td>\n",
              "      <td>0.712511</td>\n",
              "      <td>0.637373</td>\n",
              "      <td>0.625029</td>\n",
              "      <td>0.634980</td>\n",
              "      <td>0.637373</td>\n",
              "    </tr>\n",
              "    <tr>\n",
              "      <td>2</td>\n",
              "      <td>0.660800</td>\n",
              "      <td>0.601717</td>\n",
              "      <td>0.711095</td>\n",
              "      <td>0.711972</td>\n",
              "      <td>0.713204</td>\n",
              "      <td>0.711095</td>\n",
              "    </tr>\n",
              "    <tr>\n",
              "      <td>3</td>\n",
              "      <td>0.560900</td>\n",
              "      <td>0.546766</td>\n",
              "      <td>0.754180</td>\n",
              "      <td>0.754539</td>\n",
              "      <td>0.756887</td>\n",
              "      <td>0.754180</td>\n",
              "    </tr>\n",
              "    <tr>\n",
              "      <td>4</td>\n",
              "      <td>0.499300</td>\n",
              "      <td>0.508641</td>\n",
              "      <td>0.777615</td>\n",
              "      <td>0.778476</td>\n",
              "      <td>0.782892</td>\n",
              "      <td>0.777615</td>\n",
              "    </tr>\n",
              "    <tr>\n",
              "      <td>5</td>\n",
              "      <td>0.440500</td>\n",
              "      <td>0.477890</td>\n",
              "      <td>0.797266</td>\n",
              "      <td>0.797539</td>\n",
              "      <td>0.798459</td>\n",
              "      <td>0.797266</td>\n",
              "    </tr>\n",
              "    <tr>\n",
              "      <td>6</td>\n",
              "      <td>0.404600</td>\n",
              "      <td>0.456216</td>\n",
              "      <td>0.810326</td>\n",
              "      <td>0.810465</td>\n",
              "      <td>0.811087</td>\n",
              "      <td>0.810326</td>\n",
              "    </tr>\n",
              "    <tr>\n",
              "      <td>7</td>\n",
              "      <td>0.382800</td>\n",
              "      <td>0.444018</td>\n",
              "      <td>0.817161</td>\n",
              "      <td>0.817536</td>\n",
              "      <td>0.818242</td>\n",
              "      <td>0.817161</td>\n",
              "    </tr>\n",
              "    <tr>\n",
              "      <td>8</td>\n",
              "      <td>0.355800</td>\n",
              "      <td>0.435553</td>\n",
              "      <td>0.818992</td>\n",
              "      <td>0.819442</td>\n",
              "      <td>0.820323</td>\n",
              "      <td>0.818992</td>\n",
              "    </tr>\n",
              "    <tr>\n",
              "      <td>9</td>\n",
              "      <td>0.339200</td>\n",
              "      <td>0.436600</td>\n",
              "      <td>0.819236</td>\n",
              "      <td>0.819431</td>\n",
              "      <td>0.819725</td>\n",
              "      <td>0.819236</td>\n",
              "    </tr>\n",
              "    <tr>\n",
              "      <td>10</td>\n",
              "      <td>0.323000</td>\n",
              "      <td>0.435807</td>\n",
              "      <td>0.820456</td>\n",
              "      <td>0.820657</td>\n",
              "      <td>0.820994</td>\n",
              "      <td>0.820456</td>\n",
              "    </tr>\n",
              "  </tbody>\n",
              "</table><p>"
            ]
          },
          "metadata": {}
        }
      ]
    },
    {
      "cell_type": "code",
      "source": [
        "trainer_distillation.evaluate(train_ds)"
      ],
      "metadata": {
        "id": "5eNWBWqshCx6",
        "colab": {
          "base_uri": "https://localhost:8080/",
          "height": 198
        },
        "outputId": "2bb5c496-d9f7-49e4-f81e-77b23eb5c2ac"
      },
      "execution_count": null,
      "outputs": [
        {
          "output_type": "display_data",
          "data": {
            "text/plain": [
              "<IPython.core.display.HTML object>"
            ],
            "text/html": [
              "\n",
              "    <div>\n",
              "      \n",
              "      <progress value='1025' max='1025' style='width:300px; height:20px; vertical-align: middle;'></progress>\n",
              "      [1025/1025 03:21]\n",
              "    </div>\n",
              "    "
            ]
          },
          "metadata": {}
        },
        {
          "output_type": "execute_result",
          "data": {
            "text/plain": [
              "{'eval_loss': 0.23090681433677673,\n",
              " 'eval_accuracy': 0.906924227165919,\n",
              " 'eval_f1-score': 0.9069621960022338,\n",
              " 'eval_precision': 0.9070736965622243,\n",
              " 'eval_recall': 0.906924227165919,\n",
              " 'eval_runtime': 201.9572,\n",
              " 'eval_samples_per_second': 162.257,\n",
              " 'eval_steps_per_second': 5.075,\n",
              " 'epoch': 10.0}"
            ]
          },
          "metadata": {},
          "execution_count": 59
        }
      ]
    },
    {
      "cell_type": "code",
      "source": [
        "trainer_distillation.evaluate(val_ds)"
      ],
      "metadata": {
        "id": "vsFFC-JchDnX",
        "colab": {
          "base_uri": "https://localhost:8080/",
          "height": 198
        },
        "outputId": "683fe330-1c47-4be5-a48b-22202e8ca032"
      },
      "execution_count": null,
      "outputs": [
        {
          "output_type": "display_data",
          "data": {
            "text/plain": [
              "<IPython.core.display.HTML object>"
            ],
            "text/html": [
              "\n",
              "    <div>\n",
              "      \n",
              "      <progress value='1282' max='1025' style='width:300px; height:20px; vertical-align: middle;'></progress>\n",
              "      [1025/1025 04:17]\n",
              "    </div>\n",
              "    "
            ]
          },
          "metadata": {}
        },
        {
          "output_type": "execute_result",
          "data": {
            "text/plain": [
              "{'eval_loss': 0.43580734729766846,\n",
              " 'eval_accuracy': 0.8204564872452094,\n",
              " 'eval_f1-score': 0.8206567589310475,\n",
              " 'eval_precision': 0.8209944335679467,\n",
              " 'eval_recall': 0.8204564872452094,\n",
              " 'eval_runtime': 50.8285,\n",
              " 'eval_samples_per_second': 161.189,\n",
              " 'eval_steps_per_second': 5.056,\n",
              " 'epoch': 10.0}"
            ]
          },
          "metadata": {},
          "execution_count": 60
        }
      ]
    },
    {
      "cell_type": "code",
      "source": [
        "wandb.finish()"
      ],
      "metadata": {
        "id": "7XFIqkq4PrJi",
        "colab": {
          "base_uri": "https://localhost:8080/",
          "height": 547
        },
        "outputId": "adfe20d8-23f2-4d84-bbbc-1bb439418d0b"
      },
      "execution_count": null,
      "outputs": [
        {
          "output_type": "display_data",
          "data": {
            "text/plain": [
              "<IPython.core.display.HTML object>"
            ],
            "text/html": [
              "Waiting for W&B process to finish... <strong style=\"color:green\">(success).</strong>"
            ]
          },
          "metadata": {}
        },
        {
          "output_type": "display_data",
          "data": {
            "text/plain": [
              "<IPython.core.display.HTML object>"
            ],
            "text/html": [
              "<style>\n",
              "    table.wandb td:nth-child(1) { padding: 0 10px; text-align: left ; width: auto;} td:nth-child(2) {text-align: left ; width: 100%}\n",
              "    .wandb-row { display: flex; flex-direction: row; flex-wrap: wrap; justify-content: flex-start; width: 100% }\n",
              "    .wandb-col { display: flex; flex-direction: column; flex-basis: 100%; flex: 1; padding: 10px; }\n",
              "    </style>\n",
              "<div class=\"wandb-row\"><div class=\"wandb-col\"><h3>Run history:</h3><br/><table class=\"wandb\"><tr><td>eval/accuracy</td><td>▁▃▄▅▅▅▆▆▆▆█▆</td></tr><tr><td>eval/f1-score</td><td>▁▃▄▅▅▆▆▆▆▆█▆</td></tr><tr><td>eval/loss</td><td>█▆▆▅▅▄▄▄▄▄▁▄</td></tr><tr><td>eval/precision</td><td>▁▃▄▅▅▆▆▆▆▆█▆</td></tr><tr><td>eval/recall</td><td>▁▃▄▅▅▅▆▆▆▆█▆</td></tr><tr><td>eval/runtime</td><td>▁▁▁▁▁▁▁▁▁▁█▁</td></tr><tr><td>eval/samples_per_second</td><td>▂▃▆▆▄▆█▄▂▄▅▁</td></tr><tr><td>eval/steps_per_second</td><td>▂▄▆▆▄▆█▄▂▄▃▁</td></tr><tr><td>train/epoch</td><td>▁▁▁▂▂▂▂▃▃▃▄▄▄▄▄▅▅▅▅▆▆▆▆▇▇▇▇▇█████</td></tr><tr><td>train/global_step</td><td>▁▁▁▂▂▂▂▃▃▃▄▄▄▄▄▅▅▅▅▆▆▆▆▇▇▇▇▇█████</td></tr><tr><td>train/learning_rate</td><td>██▇▇▇▆▆▅▅▅▄▄▄▃▃▂▂▂▁▁</td></tr><tr><td>train/loss</td><td>█▇▆▅▄▄▃▃▃▂▂▂▂▂▂▁▁▁▁▁</td></tr><tr><td>train/total_flos</td><td>▁</td></tr><tr><td>train/train_loss</td><td>▁</td></tr><tr><td>train/train_runtime</td><td>▁</td></tr><tr><td>train/train_samples_per_second</td><td>▁</td></tr><tr><td>train/train_steps_per_second</td><td>▁</td></tr></table><br/></div><div class=\"wandb-col\"><h3>Run summary:</h3><br/><table class=\"wandb\"><tr><td>eval/accuracy</td><td>0.82046</td></tr><tr><td>eval/f1-score</td><td>0.82066</td></tr><tr><td>eval/loss</td><td>0.43581</td></tr><tr><td>eval/precision</td><td>0.82099</td></tr><tr><td>eval/recall</td><td>0.82046</td></tr><tr><td>eval/runtime</td><td>50.8285</td></tr><tr><td>eval/samples_per_second</td><td>161.189</td></tr><tr><td>eval/steps_per_second</td><td>5.056</td></tr><tr><td>train/epoch</td><td>10.0</td></tr><tr><td>train/global_step</td><td>10250</td></tr><tr><td>train/learning_rate</td><td>2e-05</td></tr><tr><td>train/loss</td><td>0.323</td></tr><tr><td>train/total_flos</td><td>0.0</td></tr><tr><td>train/train_loss</td><td>0.48354</td></tr><tr><td>train/train_runtime</td><td>2539.6356</td></tr><tr><td>train/train_samples_per_second</td><td>129.03</td></tr><tr><td>train/train_steps_per_second</td><td>4.036</td></tr></table><br/></div></div>"
            ]
          },
          "metadata": {}
        },
        {
          "output_type": "display_data",
          "data": {
            "text/plain": [
              "<IPython.core.display.HTML object>"
            ],
            "text/html": [
              " View run <strong style=\"color:#cdcd00\">desert-shadow-45</strong> at: <a href='https://wandb.ai/monirom2010/uncategorized/runs/bzk02x19' target=\"_blank\">https://wandb.ai/monirom2010/uncategorized/runs/bzk02x19</a><br/>Synced 5 W&B file(s), 0 media file(s), 0 artifact file(s) and 0 other file(s)"
            ]
          },
          "metadata": {}
        },
        {
          "output_type": "display_data",
          "data": {
            "text/plain": [
              "<IPython.core.display.HTML object>"
            ],
            "text/html": [
              "Find logs at: <code>./wandb/run-20230609_193733-bzk02x19/logs</code>"
            ]
          },
          "metadata": {}
        }
      ]
    }
  ]
}